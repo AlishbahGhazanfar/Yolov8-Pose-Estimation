{
 "cells": [
  {
   "cell_type": "code",
   "execution_count": null,
   "metadata": {
    "id": "zfARIKe_uPmD"
   },
   "outputs": [],
   "source": [
    "!pip install ultralytics"
   ]
  },
  {
   "cell_type": "code",
   "execution_count": 2,
   "metadata": {
    "id": "IRFOdEODtJ_b"
   },
   "outputs": [],
   "source": [
    "from ultralytics import YOLO"
   ]
  },
  {
   "cell_type": "code",
   "execution_count": 3,
   "metadata": {
    "id": "SArd6wYXuIKC"
   },
   "outputs": [],
   "source": [
    "# Load a model\n",
    "model = YOLO('yolov8n-pose.pt')  # load a pretrained model (recommended for training)"
   ]
  },
  {
   "cell_type": "code",
   "execution_count": 4,
   "metadata": {
    "colab": {
     "base_uri": "https://localhost:8080/"
    },
    "id": "A-K3q8TxusiW",
    "outputId": "c9d870ec-a612-4e6b-cfbe-8f41c566611c"
   },
   "outputs": [
    {
     "name": "stdout",
     "output_type": "stream",
     "text": [
      "New https://pypi.org/project/ultralytics/8.0.237 available 😃 Update with 'pip install -U ultralytics'\n",
      "Ultralytics YOLOv8.0.236 🚀 Python-3.10.12 torch-2.1.0+cu121 CPU (Intel Xeon 2.20GHz)\n",
      "\u001b[34m\u001b[1mengine/trainer: \u001b[0mtask=pose, mode=train, model=yolov8n-pose.pt, data=coco8-pose.yaml, epochs=100, time=None, patience=50, batch=16, imgsz=640, save=True, save_period=-1, cache=False, device=None, workers=8, project=None, name=train5, exist_ok=False, pretrained=True, optimizer=auto, verbose=True, seed=0, deterministic=True, single_cls=False, rect=False, cos_lr=False, close_mosaic=10, resume=False, amp=True, fraction=1.0, profile=False, freeze=None, multi_scale=False, overlap_mask=True, mask_ratio=4, dropout=0.0, val=True, split=val, save_json=False, save_hybrid=False, conf=None, iou=0.7, max_det=300, half=False, dnn=False, plots=True, source=None, vid_stride=1, stream_buffer=False, visualize=False, augment=False, agnostic_nms=False, classes=None, retina_masks=False, embed=None, show=False, save_frames=False, save_txt=False, save_conf=False, save_crop=False, show_labels=True, show_conf=True, show_boxes=True, line_width=None, format=torchscript, keras=False, optimize=False, int8=False, dynamic=False, simplify=False, opset=None, workspace=4, nms=False, lr0=0.01, lrf=0.01, momentum=0.937, weight_decay=0.0005, warmup_epochs=3.0, warmup_momentum=0.8, warmup_bias_lr=0.1, box=7.5, cls=0.5, dfl=1.5, pose=12.0, kobj=1.0, label_smoothing=0.0, nbs=64, hsv_h=0.015, hsv_s=0.7, hsv_v=0.4, degrees=0.0, translate=0.1, scale=0.5, shear=0.0, perspective=0.0, flipud=0.0, fliplr=0.5, mosaic=1.0, mixup=0.0, copy_paste=0.0, auto_augment=randaugment, erasing=0.4, crop_fraction=1.0, cfg=None, tracker=botsort.yaml, save_dir=runs/pose/train5\n",
      "\n",
      "                   from  n    params  module                                       arguments                     \n",
      "  0                  -1  1       464  ultralytics.nn.modules.conv.Conv             [3, 16, 3, 2]                 \n",
      "  1                  -1  1      4672  ultralytics.nn.modules.conv.Conv             [16, 32, 3, 2]                \n",
      "  2                  -1  1      7360  ultralytics.nn.modules.block.C2f             [32, 32, 1, True]             \n",
      "  3                  -1  1     18560  ultralytics.nn.modules.conv.Conv             [32, 64, 3, 2]                \n",
      "  4                  -1  2     49664  ultralytics.nn.modules.block.C2f             [64, 64, 2, True]             \n",
      "  5                  -1  1     73984  ultralytics.nn.modules.conv.Conv             [64, 128, 3, 2]               \n",
      "  6                  -1  2    197632  ultralytics.nn.modules.block.C2f             [128, 128, 2, True]           \n",
      "  7                  -1  1    295424  ultralytics.nn.modules.conv.Conv             [128, 256, 3, 2]              \n",
      "  8                  -1  1    460288  ultralytics.nn.modules.block.C2f             [256, 256, 1, True]           \n",
      "  9                  -1  1    164608  ultralytics.nn.modules.block.SPPF            [256, 256, 5]                 \n",
      " 10                  -1  1         0  torch.nn.modules.upsampling.Upsample         [None, 2, 'nearest']          \n",
      " 11             [-1, 6]  1         0  ultralytics.nn.modules.conv.Concat           [1]                           \n",
      " 12                  -1  1    148224  ultralytics.nn.modules.block.C2f             [384, 128, 1]                 \n",
      " 13                  -1  1         0  torch.nn.modules.upsampling.Upsample         [None, 2, 'nearest']          \n",
      " 14             [-1, 4]  1         0  ultralytics.nn.modules.conv.Concat           [1]                           \n",
      " 15                  -1  1     37248  ultralytics.nn.modules.block.C2f             [192, 64, 1]                  \n",
      " 16                  -1  1     36992  ultralytics.nn.modules.conv.Conv             [64, 64, 3, 2]                \n",
      " 17            [-1, 12]  1         0  ultralytics.nn.modules.conv.Concat           [1]                           \n",
      " 18                  -1  1    123648  ultralytics.nn.modules.block.C2f             [192, 128, 1]                 \n",
      " 19                  -1  1    147712  ultralytics.nn.modules.conv.Conv             [128, 128, 3, 2]              \n",
      " 20             [-1, 9]  1         0  ultralytics.nn.modules.conv.Concat           [1]                           \n",
      " 21                  -1  1    493056  ultralytics.nn.modules.block.C2f             [384, 256, 1]                 \n",
      " 22        [15, 18, 21]  1   1035934  ultralytics.nn.modules.head.Pose             [1, [17, 3], [64, 128, 256]]  \n",
      "YOLOv8n-pose summary: 250 layers, 3295470 parameters, 3295454 gradients, 9.3 GFLOPs\n",
      "\n",
      "Transferred 397/397 items from pretrained weights\n",
      "\u001b[34m\u001b[1mTensorBoard: \u001b[0mStart with 'tensorboard --logdir runs/pose/train5', view at http://localhost:6006/\n",
      "Freezing layer 'model.22.dfl.conv.weight'\n"
     ]
    },
    {
     "name": "stderr",
     "output_type": "stream",
     "text": [
      "\u001b[34m\u001b[1mtrain: \u001b[0mScanning /content/datasets/coco8-pose/labels/train.cache... 4 images, 0 backgrounds, 0 corrupt: 100%|██████████| 4/4 [00:00<?, ?it/s]\n"
     ]
    },
    {
     "name": "stdout",
     "output_type": "stream",
     "text": [
      "\u001b[34m\u001b[1malbumentations: \u001b[0mBlur(p=0.01, blur_limit=(3, 7)), MedianBlur(p=0.01, blur_limit=(3, 7)), ToGray(p=0.01), CLAHE(p=0.01, clip_limit=(1, 4.0), tile_grid_size=(8, 8))\n"
     ]
    },
    {
     "name": "stderr",
     "output_type": "stream",
     "text": [
      "\u001b[34m\u001b[1mval: \u001b[0mScanning /content/datasets/coco8-pose/labels/val.cache... 4 images, 0 backgrounds, 0 corrupt: 100%|██████████| 4/4 [00:00<?, ?it/s]\n"
     ]
    },
    {
     "name": "stdout",
     "output_type": "stream",
     "text": [
      "Plotting labels to runs/pose/train5/labels.jpg... \n",
      "\u001b[34m\u001b[1moptimizer:\u001b[0m 'optimizer=auto' found, ignoring 'lr0=0.01' and 'momentum=0.937' and determining best 'optimizer', 'lr0' and 'momentum' automatically... \n",
      "\u001b[34m\u001b[1moptimizer:\u001b[0m AdamW(lr=0.002, momentum=0.9) with parameter groups 63 weight(decay=0.0), 73 weight(decay=0.0005), 72 bias(decay=0.0)\n",
      "100 epochs...\n",
      "\n",
      "      Epoch    GPU_mem   box_loss  pose_loss  kobj_loss   cls_loss   dfl_loss  Instances       Size\n"
     ]
    },
    {
     "name": "stderr",
     "output_type": "stream",
     "text": [
      "      1/100         0G     0.9067      2.341     0.2684     0.7287      1.202         10        640: 100%|██████████| 1/1 [00:06<00:00,  6.46s/it]\n",
      "                 Class     Images  Instances      Box(P          R      mAP50  mAP50-95)     Pose(P          R      mAP50  mAP50-95): 100%|██████████| 1/1 [00:01<00:00,  1.33s/it]"
     ]
    },
    {
     "name": "stdout",
     "output_type": "stream",
     "text": [
      "                   all          4         14       0.92      0.929      0.902      0.679      0.984      0.571      0.645      0.363\n"
     ]
    },
    {
     "name": "stderr",
     "output_type": "stream",
     "text": [
      "\n"
     ]
    },
    {
     "name": "stdout",
     "output_type": "stream",
     "text": [
      "\n",
      "      Epoch    GPU_mem   box_loss  pose_loss  kobj_loss   cls_loss   dfl_loss  Instances       Size\n"
     ]
    },
    {
     "name": "stderr",
     "output_type": "stream",
     "text": [
      "      2/100         0G      1.213      4.569     0.3894      1.184      1.246         19        640: 100%|██████████| 1/1 [00:03<00:00,  3.75s/it]\n",
      "                 Class     Images  Instances      Box(P          R      mAP50  mAP50-95)     Pose(P          R      mAP50  mAP50-95): 100%|██████████| 1/1 [00:01<00:00,  1.40s/it]"
     ]
    },
    {
     "name": "stdout",
     "output_type": "stream",
     "text": [
      "                   all          4         14      0.918      0.929      0.907      0.686          1      0.623      0.652      0.356\n"
     ]
    },
    {
     "name": "stderr",
     "output_type": "stream",
     "text": [
      "\n"
     ]
    },
    {
     "name": "stdout",
     "output_type": "stream",
     "text": [
      "\n",
      "      Epoch    GPU_mem   box_loss  pose_loss  kobj_loss   cls_loss   dfl_loss  Instances       Size\n"
     ]
    },
    {
     "name": "stderr",
     "output_type": "stream",
     "text": [
      "      3/100         0G      1.147      3.639     0.4356     0.9491      1.235         12        640: 100%|██████████| 1/1 [00:04<00:00,  4.75s/it]\n",
      "                 Class     Images  Instances      Box(P          R      mAP50  mAP50-95)     Pose(P          R      mAP50  mAP50-95): 100%|██████████| 1/1 [00:01<00:00,  1.32s/it]"
     ]
    },
    {
     "name": "stdout",
     "output_type": "stream",
     "text": [
      "                   all          4         14      0.916      0.929      0.907      0.681          1      0.637      0.652      0.338\n"
     ]
    },
    {
     "name": "stderr",
     "output_type": "stream",
     "text": [
      "\n"
     ]
    },
    {
     "name": "stdout",
     "output_type": "stream",
     "text": [
      "\n",
      "      Epoch    GPU_mem   box_loss  pose_loss  kobj_loss   cls_loss   dfl_loss  Instances       Size\n"
     ]
    },
    {
     "name": "stderr",
     "output_type": "stream",
     "text": [
      "      4/100         0G      0.947      2.549     0.3253     0.9367      1.205         13        640: 100%|██████████| 1/1 [00:03<00:00,  3.45s/it]\n",
      "                 Class     Images  Instances      Box(P          R      mAP50  mAP50-95)     Pose(P          R      mAP50  mAP50-95): 100%|██████████| 1/1 [00:01<00:00,  1.22s/it]"
     ]
    },
    {
     "name": "stdout",
     "output_type": "stream",
     "text": [
      "                   all          4         14      0.912      0.929      0.907      0.681          1       0.64      0.652      0.328\n"
     ]
    },
    {
     "name": "stderr",
     "output_type": "stream",
     "text": [
      "\n"
     ]
    },
    {
     "name": "stdout",
     "output_type": "stream",
     "text": [
      "\n",
      "      Epoch    GPU_mem   box_loss  pose_loss  kobj_loss   cls_loss   dfl_loss  Instances       Size\n"
     ]
    },
    {
     "name": "stderr",
     "output_type": "stream",
     "text": [
      "      5/100         0G        1.2      3.779     0.4112      1.059      1.374         13        640: 100%|██████████| 1/1 [00:03<00:00,  3.45s/it]\n",
      "                 Class     Images  Instances      Box(P          R      mAP50  mAP50-95)     Pose(P          R      mAP50  mAP50-95): 100%|██████████| 1/1 [00:01<00:00,  1.78s/it]"
     ]
    },
    {
     "name": "stdout",
     "output_type": "stream",
     "text": [
      "                   all          4         14      0.909      0.929      0.907       0.68      0.888      0.567      0.551      0.301\n"
     ]
    },
    {
     "name": "stderr",
     "output_type": "stream",
     "text": [
      "\n"
     ]
    },
    {
     "name": "stdout",
     "output_type": "stream",
     "text": [
      "\n",
      "      Epoch    GPU_mem   box_loss  pose_loss  kobj_loss   cls_loss   dfl_loss  Instances       Size\n"
     ]
    },
    {
     "name": "stderr",
     "output_type": "stream",
     "text": [
      "      6/100         0G     0.9128      2.631     0.3272     0.8328      1.148         23        640: 100%|██████████| 1/1 [00:03<00:00,  3.64s/it]\n",
      "                 Class     Images  Instances      Box(P          R      mAP50  mAP50-95)     Pose(P          R      mAP50  mAP50-95): 100%|██████████| 1/1 [00:01<00:00,  1.22s/it]"
     ]
    },
    {
     "name": "stdout",
     "output_type": "stream",
     "text": [
      "                   all          4         14      0.928      0.917      0.907      0.699      0.888      0.569      0.556      0.317\n"
     ]
    },
    {
     "name": "stderr",
     "output_type": "stream",
     "text": [
      "\n"
     ]
    },
    {
     "name": "stdout",
     "output_type": "stream",
     "text": [
      "\n",
      "      Epoch    GPU_mem   box_loss  pose_loss  kobj_loss   cls_loss   dfl_loss  Instances       Size\n"
     ]
    },
    {
     "name": "stderr",
     "output_type": "stream",
     "text": [
      "      7/100         0G      1.112      3.495     0.3649     0.7944      1.451         10        640: 100%|██████████| 1/1 [00:03<00:00,  3.38s/it]\n",
      "                 Class     Images  Instances      Box(P          R      mAP50  mAP50-95)     Pose(P          R      mAP50  mAP50-95): 100%|██████████| 1/1 [00:01<00:00,  1.19s/it]"
     ]
    },
    {
     "name": "stdout",
     "output_type": "stream",
     "text": [
      "                   all          4         14      0.795      0.929       0.92      0.677      0.744        0.5      0.496      0.305\n"
     ]
    },
    {
     "name": "stderr",
     "output_type": "stream",
     "text": [
      "\n"
     ]
    },
    {
     "name": "stdout",
     "output_type": "stream",
     "text": [
      "\n",
      "      Epoch    GPU_mem   box_loss  pose_loss  kobj_loss   cls_loss   dfl_loss  Instances       Size\n"
     ]
    },
    {
     "name": "stderr",
     "output_type": "stream",
     "text": [
      "      8/100         0G      1.341      2.581     0.3844     0.9461      1.339         15        640: 100%|██████████| 1/1 [00:04<00:00,  4.58s/it]\n",
      "                 Class     Images  Instances      Box(P          R      mAP50  mAP50-95)     Pose(P          R      mAP50  mAP50-95): 100%|██████████| 1/1 [00:01<00:00,  1.17s/it]"
     ]
    },
    {
     "name": "stdout",
     "output_type": "stream",
     "text": [
      "                   all          4         14      0.785      0.929      0.893      0.652       0.74        0.5      0.446      0.276\n"
     ]
    },
    {
     "name": "stderr",
     "output_type": "stream",
     "text": [
      "\n"
     ]
    },
    {
     "name": "stdout",
     "output_type": "stream",
     "text": [
      "\n",
      "      Epoch    GPU_mem   box_loss  pose_loss  kobj_loss   cls_loss   dfl_loss  Instances       Size\n"
     ]
    },
    {
     "name": "stderr",
     "output_type": "stream",
     "text": [
      "      9/100         0G      1.144      2.519     0.2548      0.633      1.375         13        640: 100%|██████████| 1/1 [00:03<00:00,  3.54s/it]\n",
      "                 Class     Images  Instances      Box(P          R      mAP50  mAP50-95)     Pose(P          R      mAP50  mAP50-95): 100%|██████████| 1/1 [00:01<00:00,  1.20s/it]"
     ]
    },
    {
     "name": "stdout",
     "output_type": "stream",
     "text": [
      "                   all          4         14      0.773      0.929      0.887       0.62      0.742        0.5      0.488      0.264\n"
     ]
    },
    {
     "name": "stderr",
     "output_type": "stream",
     "text": [
      "\n"
     ]
    },
    {
     "name": "stdout",
     "output_type": "stream",
     "text": [
      "\n",
      "      Epoch    GPU_mem   box_loss  pose_loss  kobj_loss   cls_loss   dfl_loss  Instances       Size\n"
     ]
    },
    {
     "name": "stderr",
     "output_type": "stream",
     "text": [
      "     10/100         0G      1.039      2.886     0.3005      1.182      1.567          7        640: 100%|██████████| 1/1 [00:03<00:00,  3.56s/it]\n",
      "                 Class     Images  Instances      Box(P          R      mAP50  mAP50-95)     Pose(P          R      mAP50  mAP50-95): 100%|██████████| 1/1 [00:01<00:00,  1.83s/it]"
     ]
    },
    {
     "name": "stdout",
     "output_type": "stream",
     "text": [
      "                   all          4         14      0.737      0.801      0.816      0.592      0.696      0.571      0.488      0.245\n"
     ]
    },
    {
     "name": "stderr",
     "output_type": "stream",
     "text": [
      "\n"
     ]
    },
    {
     "name": "stdout",
     "output_type": "stream",
     "text": [
      "\n",
      "      Epoch    GPU_mem   box_loss  pose_loss  kobj_loss   cls_loss   dfl_loss  Instances       Size\n"
     ]
    },
    {
     "name": "stderr",
     "output_type": "stream",
     "text": [
      "     11/100         0G     0.9592      1.484     0.3399     0.5055      1.124          9        640: 100%|██████████| 1/1 [00:03<00:00,  3.46s/it]\n",
      "                 Class     Images  Instances      Box(P          R      mAP50  mAP50-95)     Pose(P          R      mAP50  mAP50-95): 100%|██████████| 1/1 [00:01<00:00,  1.19s/it]"
     ]
    },
    {
     "name": "stdout",
     "output_type": "stream",
     "text": [
      "                   all          4         14      0.743      0.643      0.696      0.498      0.655      0.571      0.435      0.183\n"
     ]
    },
    {
     "name": "stderr",
     "output_type": "stream",
     "text": [
      "\n"
     ]
    },
    {
     "name": "stdout",
     "output_type": "stream",
     "text": [
      "\n",
      "      Epoch    GPU_mem   box_loss  pose_loss  kobj_loss   cls_loss   dfl_loss  Instances       Size\n"
     ]
    },
    {
     "name": "stderr",
     "output_type": "stream",
     "text": [
      "     12/100         0G     0.9346      1.989     0.3496     0.8478      1.114         22        640: 100%|██████████| 1/1 [00:03<00:00,  3.37s/it]\n",
      "                 Class     Images  Instances      Box(P          R      mAP50  mAP50-95)     Pose(P          R      mAP50  mAP50-95): 100%|██████████| 1/1 [00:01<00:00,  1.18s/it]"
     ]
    },
    {
     "name": "stdout",
     "output_type": "stream",
     "text": [
      "                   all          4         14      0.742      0.618      0.677      0.416      0.742      0.618      0.511      0.172\n"
     ]
    },
    {
     "name": "stderr",
     "output_type": "stream",
     "text": [
      "\n"
     ]
    },
    {
     "name": "stdout",
     "output_type": "stream",
     "text": [
      "\n",
      "      Epoch    GPU_mem   box_loss  pose_loss  kobj_loss   cls_loss   dfl_loss  Instances       Size\n"
     ]
    },
    {
     "name": "stderr",
     "output_type": "stream",
     "text": [
      "     13/100         0G      1.016      1.821     0.2585     0.7174      1.261         13        640: 100%|██████████| 1/1 [00:04<00:00,  4.63s/it]\n",
      "                 Class     Images  Instances      Box(P          R      mAP50  mAP50-95)     Pose(P          R      mAP50  mAP50-95): 100%|██████████| 1/1 [00:01<00:00,  1.21s/it]"
     ]
    },
    {
     "name": "stdout",
     "output_type": "stream",
     "text": [
      "                   all          4         14      0.673      0.643      0.678      0.363       0.52        0.5      0.366       0.15\n"
     ]
    },
    {
     "name": "stderr",
     "output_type": "stream",
     "text": [
      "\n"
     ]
    },
    {
     "name": "stdout",
     "output_type": "stream",
     "text": [
      "\n",
      "      Epoch    GPU_mem   box_loss  pose_loss  kobj_loss   cls_loss   dfl_loss  Instances       Size\n"
     ]
    },
    {
     "name": "stderr",
     "output_type": "stream",
     "text": [
      "     14/100         0G      1.162      2.123     0.3037     0.9866       1.27         13        640: 100%|██████████| 1/1 [00:03<00:00,  3.54s/it]\n",
      "                 Class     Images  Instances      Box(P          R      mAP50  mAP50-95)     Pose(P          R      mAP50  mAP50-95): 100%|██████████| 1/1 [00:01<00:00,  1.20s/it]"
     ]
    },
    {
     "name": "stdout",
     "output_type": "stream",
     "text": [
      "                   all          4         14      0.816      0.636      0.677      0.347      0.623        0.5      0.384      0.164\n"
     ]
    },
    {
     "name": "stderr",
     "output_type": "stream",
     "text": [
      "\n"
     ]
    },
    {
     "name": "stdout",
     "output_type": "stream",
     "text": [
      "\n",
      "      Epoch    GPU_mem   box_loss  pose_loss  kobj_loss   cls_loss   dfl_loss  Instances       Size\n"
     ]
    },
    {
     "name": "stderr",
     "output_type": "stream",
     "text": [
      "     15/100         0G      1.045      1.857     0.3571     0.7659      1.087         12        640: 100%|██████████| 1/1 [00:03<00:00,  3.58s/it]\n",
      "                 Class     Images  Instances      Box(P          R      mAP50  mAP50-95)     Pose(P          R      mAP50  mAP50-95): 100%|██████████| 1/1 [00:01<00:00,  1.78s/it]"
     ]
    },
    {
     "name": "stdout",
     "output_type": "stream",
     "text": [
      "                   all          4         14      0.787      0.643      0.641      0.321      0.611        0.5      0.378      0.165\n"
     ]
    },
    {
     "name": "stderr",
     "output_type": "stream",
     "text": [
      "\n"
     ]
    },
    {
     "name": "stdout",
     "output_type": "stream",
     "text": [
      "\n",
      "      Epoch    GPU_mem   box_loss  pose_loss  kobj_loss   cls_loss   dfl_loss  Instances       Size\n"
     ]
    },
    {
     "name": "stderr",
     "output_type": "stream",
     "text": [
      "     16/100         0G     0.9525      1.867     0.2718     0.6424      1.144         10        640: 100%|██████████| 1/1 [00:03<00:00,  3.48s/it]\n",
      "                 Class     Images  Instances      Box(P          R      mAP50  mAP50-95)     Pose(P          R      mAP50  mAP50-95): 100%|██████████| 1/1 [00:01<00:00,  1.18s/it]"
     ]
    },
    {
     "name": "stdout",
     "output_type": "stream",
     "text": [
      "                   all          4         14      0.767      0.643      0.656      0.301      0.596        0.5      0.381      0.174\n"
     ]
    },
    {
     "name": "stderr",
     "output_type": "stream",
     "text": [
      "\n"
     ]
    },
    {
     "name": "stdout",
     "output_type": "stream",
     "text": [
      "\n",
      "      Epoch    GPU_mem   box_loss  pose_loss  kobj_loss   cls_loss   dfl_loss  Instances       Size\n"
     ]
    },
    {
     "name": "stderr",
     "output_type": "stream",
     "text": [
      "     17/100         0G     0.8469      2.958     0.3451     0.7389      1.088         14        640: 100%|██████████| 1/1 [00:03<00:00,  3.40s/it]\n",
      "                 Class     Images  Instances      Box(P          R      mAP50  mAP50-95)     Pose(P          R      mAP50  mAP50-95): 100%|██████████| 1/1 [00:01<00:00,  1.19s/it]"
     ]
    },
    {
     "name": "stdout",
     "output_type": "stream",
     "text": [
      "                   all          4         14      0.787      0.643      0.647      0.295      0.611        0.5      0.385      0.172\n"
     ]
    },
    {
     "name": "stderr",
     "output_type": "stream",
     "text": [
      "\n"
     ]
    },
    {
     "name": "stdout",
     "output_type": "stream",
     "text": [
      "\n",
      "      Epoch    GPU_mem   box_loss  pose_loss  kobj_loss   cls_loss   dfl_loss  Instances       Size\n"
     ]
    },
    {
     "name": "stderr",
     "output_type": "stream",
     "text": [
      "     18/100         0G     0.9582      2.576     0.2355     0.7621      1.196          9        640: 100%|██████████| 1/1 [00:04<00:00,  4.57s/it]\n",
      "                 Class     Images  Instances      Box(P          R      mAP50  mAP50-95)     Pose(P          R      mAP50  mAP50-95): 100%|██████████| 1/1 [00:01<00:00,  1.21s/it]"
     ]
    },
    {
     "name": "stdout",
     "output_type": "stream",
     "text": [
      "                   all          4         14      0.787      0.643      0.647      0.295      0.611        0.5      0.385      0.172\n"
     ]
    },
    {
     "name": "stderr",
     "output_type": "stream",
     "text": [
      "\n"
     ]
    },
    {
     "name": "stdout",
     "output_type": "stream",
     "text": [
      "\n",
      "      Epoch    GPU_mem   box_loss  pose_loss  kobj_loss   cls_loss   dfl_loss  Instances       Size\n"
     ]
    },
    {
     "name": "stderr",
     "output_type": "stream",
     "text": [
      "     19/100         0G     0.8235      3.111     0.2725     0.5876      1.096         11        640: 100%|██████████| 1/1 [00:03<00:00,  3.34s/it]\n",
      "                 Class     Images  Instances      Box(P          R      mAP50  mAP50-95)     Pose(P          R      mAP50  mAP50-95): 100%|██████████| 1/1 [00:01<00:00,  1.18s/it]"
     ]
    },
    {
     "name": "stdout",
     "output_type": "stream",
     "text": [
      "                   all          4         14      0.688      0.643      0.637      0.312      0.529        0.5       0.37      0.156\n"
     ]
    },
    {
     "name": "stderr",
     "output_type": "stream",
     "text": [
      "\n"
     ]
    },
    {
     "name": "stdout",
     "output_type": "stream",
     "text": [
      "\n",
      "      Epoch    GPU_mem   box_loss  pose_loss  kobj_loss   cls_loss   dfl_loss  Instances       Size\n"
     ]
    },
    {
     "name": "stderr",
     "output_type": "stream",
     "text": [
      "     20/100         0G     0.9354      2.172     0.2683     0.7186      1.076         15        640: 100%|██████████| 1/1 [00:03<00:00,  3.59s/it]\n",
      "                 Class     Images  Instances      Box(P          R      mAP50  mAP50-95)     Pose(P          R      mAP50  mAP50-95): 100%|██████████| 1/1 [00:01<00:00,  1.79s/it]"
     ]
    },
    {
     "name": "stdout",
     "output_type": "stream",
     "text": [
      "                   all          4         14      0.688      0.643      0.637      0.312      0.529        0.5       0.37      0.156\n"
     ]
    },
    {
     "name": "stderr",
     "output_type": "stream",
     "text": [
      "\n"
     ]
    },
    {
     "name": "stdout",
     "output_type": "stream",
     "text": [
      "\n",
      "      Epoch    GPU_mem   box_loss  pose_loss  kobj_loss   cls_loss   dfl_loss  Instances       Size\n"
     ]
    },
    {
     "name": "stderr",
     "output_type": "stream",
     "text": [
      "     21/100         0G      1.162      3.262      0.278     0.9294       1.24         15        640: 100%|██████████| 1/1 [00:03<00:00,  3.61s/it]\n",
      "                 Class     Images  Instances      Box(P          R      mAP50  mAP50-95)     Pose(P          R      mAP50  mAP50-95): 100%|██████████| 1/1 [00:01<00:00,  1.28s/it]"
     ]
    },
    {
     "name": "stdout",
     "output_type": "stream",
     "text": [
      "                   all          4         14      0.581      0.643      0.599      0.289      0.516      0.571      0.445      0.158\n"
     ]
    },
    {
     "name": "stderr",
     "output_type": "stream",
     "text": [
      "\n"
     ]
    },
    {
     "name": "stdout",
     "output_type": "stream",
     "text": [
      "\n",
      "      Epoch    GPU_mem   box_loss  pose_loss  kobj_loss   cls_loss   dfl_loss  Instances       Size\n"
     ]
    },
    {
     "name": "stderr",
     "output_type": "stream",
     "text": [
      "     22/100         0G     0.7031      2.468     0.3235     0.6261      1.001         21        640: 100%|██████████| 1/1 [00:03<00:00,  3.41s/it]\n",
      "                 Class     Images  Instances      Box(P          R      mAP50  mAP50-95)     Pose(P          R      mAP50  mAP50-95): 100%|██████████| 1/1 [00:01<00:00,  1.21s/it]"
     ]
    },
    {
     "name": "stdout",
     "output_type": "stream",
     "text": [
      "                   all          4         14      0.581      0.643      0.599      0.289      0.516      0.571      0.445      0.158\n"
     ]
    },
    {
     "name": "stderr",
     "output_type": "stream",
     "text": [
      "\n"
     ]
    },
    {
     "name": "stdout",
     "output_type": "stream",
     "text": [
      "\n",
      "      Epoch    GPU_mem   box_loss  pose_loss  kobj_loss   cls_loss   dfl_loss  Instances       Size\n"
     ]
    },
    {
     "name": "stderr",
     "output_type": "stream",
     "text": [
      "     23/100         0G     0.9549      3.858     0.2371     0.9315      1.078         13        640: 100%|██████████| 1/1 [00:04<00:00,  4.61s/it]\n",
      "                 Class     Images  Instances      Box(P          R      mAP50  mAP50-95)     Pose(P          R      mAP50  mAP50-95): 100%|██████████| 1/1 [00:01<00:00,  1.21s/it]"
     ]
    },
    {
     "name": "stdout",
     "output_type": "stream",
     "text": [
      "                   all          4         14      0.848        0.5      0.596      0.264      0.722      0.429      0.405      0.134\n"
     ]
    },
    {
     "name": "stderr",
     "output_type": "stream",
     "text": [
      "\n"
     ]
    },
    {
     "name": "stdout",
     "output_type": "stream",
     "text": [
      "\n",
      "      Epoch    GPU_mem   box_loss  pose_loss  kobj_loss   cls_loss   dfl_loss  Instances       Size\n"
     ]
    },
    {
     "name": "stderr",
     "output_type": "stream",
     "text": [
      "     24/100         0G      1.144      1.753     0.2657     0.9261      1.231          9        640: 100%|██████████| 1/1 [00:03<00:00,  3.34s/it]\n",
      "                 Class     Images  Instances      Box(P          R      mAP50  mAP50-95)     Pose(P          R      mAP50  mAP50-95): 100%|██████████| 1/1 [00:01<00:00,  1.21s/it]"
     ]
    },
    {
     "name": "stdout",
     "output_type": "stream",
     "text": [
      "                   all          4         14      0.848        0.5      0.596      0.264      0.722      0.429      0.405      0.134\n"
     ]
    },
    {
     "name": "stderr",
     "output_type": "stream",
     "text": [
      "\n"
     ]
    },
    {
     "name": "stdout",
     "output_type": "stream",
     "text": [
      "\n",
      "      Epoch    GPU_mem   box_loss  pose_loss  kobj_loss   cls_loss   dfl_loss  Instances       Size\n"
     ]
    },
    {
     "name": "stderr",
     "output_type": "stream",
     "text": [
      "     25/100         0G      1.078      3.343     0.3458     0.7676      1.176         24        640: 100%|██████████| 1/1 [00:03<00:00,  3.84s/it]\n",
      "                 Class     Images  Instances      Box(P          R      mAP50  mAP50-95)     Pose(P          R      mAP50  mAP50-95): 100%|██████████| 1/1 [00:01<00:00,  1.77s/it]"
     ]
    },
    {
     "name": "stdout",
     "output_type": "stream",
     "text": [
      "                   all          4         14      0.855        0.5      0.647      0.231      0.731      0.429      0.429      0.115\n"
     ]
    },
    {
     "name": "stderr",
     "output_type": "stream",
     "text": [
      "\n"
     ]
    },
    {
     "name": "stdout",
     "output_type": "stream",
     "text": [
      "\n",
      "      Epoch    GPU_mem   box_loss  pose_loss  kobj_loss   cls_loss   dfl_loss  Instances       Size\n"
     ]
    },
    {
     "name": "stderr",
     "output_type": "stream",
     "text": [
      "     26/100         0G     0.8794      2.903     0.3013     0.6428      1.031         18        640: 100%|██████████| 1/1 [00:03<00:00,  3.47s/it]\n",
      "                 Class     Images  Instances      Box(P          R      mAP50  mAP50-95)     Pose(P          R      mAP50  mAP50-95): 100%|██████████| 1/1 [00:01<00:00,  1.22s/it]"
     ]
    },
    {
     "name": "stdout",
     "output_type": "stream",
     "text": [
      "                   all          4         14      0.855        0.5      0.647      0.231      0.731      0.429      0.429      0.115\n"
     ]
    },
    {
     "name": "stderr",
     "output_type": "stream",
     "text": [
      "\n"
     ]
    },
    {
     "name": "stdout",
     "output_type": "stream",
     "text": [
      "\n",
      "      Epoch    GPU_mem   box_loss  pose_loss  kobj_loss   cls_loss   dfl_loss  Instances       Size\n"
     ]
    },
    {
     "name": "stderr",
     "output_type": "stream",
     "text": [
      "     27/100         0G     0.5443       1.42      0.272     0.5268      0.967         13        640: 100%|██████████| 1/1 [00:03<00:00,  3.37s/it]\n",
      "                 Class     Images  Instances      Box(P          R      mAP50  mAP50-95)     Pose(P          R      mAP50  mAP50-95): 100%|██████████| 1/1 [00:01<00:00,  1.23s/it]"
     ]
    },
    {
     "name": "stdout",
     "output_type": "stream",
     "text": [
      "                   all          4         14       0.85        0.5      0.647       0.23      0.728      0.429      0.408      0.116\n"
     ]
    },
    {
     "name": "stderr",
     "output_type": "stream",
     "text": [
      "\n"
     ]
    },
    {
     "name": "stdout",
     "output_type": "stream",
     "text": [
      "\n",
      "      Epoch    GPU_mem   box_loss  pose_loss  kobj_loss   cls_loss   dfl_loss  Instances       Size\n"
     ]
    },
    {
     "name": "stderr",
     "output_type": "stream",
     "text": [
      "     28/100         0G      1.125      2.965     0.2754     0.8739      1.247         13        640: 100%|██████████| 1/1 [00:04<00:00,  4.55s/it]\n",
      "                 Class     Images  Instances      Box(P          R      mAP50  mAP50-95)     Pose(P          R      mAP50  mAP50-95): 100%|██████████| 1/1 [00:01<00:00,  1.20s/it]"
     ]
    },
    {
     "name": "stdout",
     "output_type": "stream",
     "text": [
      "                   all          4         14       0.85        0.5      0.647       0.23      0.728      0.429      0.408      0.116\n"
     ]
    },
    {
     "name": "stderr",
     "output_type": "stream",
     "text": [
      "\n"
     ]
    },
    {
     "name": "stdout",
     "output_type": "stream",
     "text": [
      "\n",
      "      Epoch    GPU_mem   box_loss  pose_loss  kobj_loss   cls_loss   dfl_loss  Instances       Size\n"
     ]
    },
    {
     "name": "stderr",
     "output_type": "stream",
     "text": [
      "     29/100         0G       1.02      2.695     0.3605     0.7965      1.175         11        640: 100%|██████████| 1/1 [00:03<00:00,  3.32s/it]\n",
      "                 Class     Images  Instances      Box(P          R      mAP50  mAP50-95)     Pose(P          R      mAP50  mAP50-95): 100%|██████████| 1/1 [00:01<00:00,  1.20s/it]"
     ]
    },
    {
     "name": "stdout",
     "output_type": "stream",
     "text": [
      "                   all          4         14      0.796      0.557      0.676      0.245      0.657      0.429      0.413     0.0973\n"
     ]
    },
    {
     "name": "stderr",
     "output_type": "stream",
     "text": [
      "\n"
     ]
    },
    {
     "name": "stdout",
     "output_type": "stream",
     "text": [
      "\n",
      "      Epoch    GPU_mem   box_loss  pose_loss  kobj_loss   cls_loss   dfl_loss  Instances       Size\n"
     ]
    },
    {
     "name": "stderr",
     "output_type": "stream",
     "text": [
      "     30/100         0G     0.8622      3.241     0.2785     0.6803      1.042         14        640: 100%|██████████| 1/1 [00:03<00:00,  3.72s/it]\n",
      "                 Class     Images  Instances      Box(P          R      mAP50  mAP50-95)     Pose(P          R      mAP50  mAP50-95): 100%|██████████| 1/1 [00:01<00:00,  1.77s/it]"
     ]
    },
    {
     "name": "stdout",
     "output_type": "stream",
     "text": [
      "                   all          4         14      0.796      0.557      0.676      0.245      0.657      0.429      0.413     0.0973\n"
     ]
    },
    {
     "name": "stderr",
     "output_type": "stream",
     "text": [
      "\n"
     ]
    },
    {
     "name": "stdout",
     "output_type": "stream",
     "text": [
      "\n",
      "      Epoch    GPU_mem   box_loss  pose_loss  kobj_loss   cls_loss   dfl_loss  Instances       Size\n"
     ]
    },
    {
     "name": "stderr",
     "output_type": "stream",
     "text": [
      "     31/100         0G     0.9636      2.773     0.3605     0.7551     0.9926         23        640: 100%|██████████| 1/1 [00:03<00:00,  3.41s/it]\n",
      "                 Class     Images  Instances      Box(P          R      mAP50  mAP50-95)     Pose(P          R      mAP50  mAP50-95): 100%|██████████| 1/1 [00:01<00:00,  1.19s/it]"
     ]
    },
    {
     "name": "stdout",
     "output_type": "stream",
     "text": [
      "                   all          4         14       0.63      0.571      0.699      0.258      0.689      0.357      0.402      0.101\n"
     ]
    },
    {
     "name": "stderr",
     "output_type": "stream",
     "text": [
      "\n"
     ]
    },
    {
     "name": "stdout",
     "output_type": "stream",
     "text": [
      "\n",
      "      Epoch    GPU_mem   box_loss  pose_loss  kobj_loss   cls_loss   dfl_loss  Instances       Size\n"
     ]
    },
    {
     "name": "stderr",
     "output_type": "stream",
     "text": [
      "     32/100         0G     0.8531      2.068      0.282     0.6482      1.007         10        640: 100%|██████████| 1/1 [00:03<00:00,  3.37s/it]\n",
      "                 Class     Images  Instances      Box(P          R      mAP50  mAP50-95)     Pose(P          R      mAP50  mAP50-95): 100%|██████████| 1/1 [00:01<00:00,  1.18s/it]"
     ]
    },
    {
     "name": "stdout",
     "output_type": "stream",
     "text": [
      "                   all          4         14       0.63      0.571      0.699      0.258      0.689      0.357      0.402      0.101\n"
     ]
    },
    {
     "name": "stderr",
     "output_type": "stream",
     "text": [
      "\n"
     ]
    },
    {
     "name": "stdout",
     "output_type": "stream",
     "text": [
      "\n",
      "      Epoch    GPU_mem   box_loss  pose_loss  kobj_loss   cls_loss   dfl_loss  Instances       Size\n"
     ]
    },
    {
     "name": "stderr",
     "output_type": "stream",
     "text": [
      "     33/100         0G     0.6422      2.262      0.268     0.5496     0.9019         10        640: 100%|██████████| 1/1 [00:04<00:00,  4.58s/it]\n",
      "                 Class     Images  Instances      Box(P          R      mAP50  mAP50-95)     Pose(P          R      mAP50  mAP50-95): 100%|██████████| 1/1 [00:01<00:00,  1.24s/it]"
     ]
    },
    {
     "name": "stdout",
     "output_type": "stream",
     "text": [
      "                   all          4         14          1      0.417      0.636      0.226      0.829      0.348       0.39      0.118\n"
     ]
    },
    {
     "name": "stderr",
     "output_type": "stream",
     "text": [
      "\n"
     ]
    },
    {
     "name": "stdout",
     "output_type": "stream",
     "text": [
      "\n",
      "      Epoch    GPU_mem   box_loss  pose_loss  kobj_loss   cls_loss   dfl_loss  Instances       Size\n"
     ]
    },
    {
     "name": "stderr",
     "output_type": "stream",
     "text": [
      "     34/100         0G      1.233      3.339     0.3323     0.8554      1.264         18        640: 100%|██████████| 1/1 [00:03<00:00,  3.36s/it]\n",
      "                 Class     Images  Instances      Box(P          R      mAP50  mAP50-95)     Pose(P          R      mAP50  mAP50-95): 100%|██████████| 1/1 [00:01<00:00,  1.21s/it]"
     ]
    },
    {
     "name": "stdout",
     "output_type": "stream",
     "text": [
      "                   all          4         14          1      0.417      0.636      0.226      0.829      0.348       0.39      0.118\n"
     ]
    },
    {
     "name": "stderr",
     "output_type": "stream",
     "text": [
      "\n"
     ]
    },
    {
     "name": "stdout",
     "output_type": "stream",
     "text": [
      "\n",
      "      Epoch    GPU_mem   box_loss  pose_loss  kobj_loss   cls_loss   dfl_loss  Instances       Size\n"
     ]
    },
    {
     "name": "stderr",
     "output_type": "stream",
     "text": [
      "     35/100         0G     0.8653      2.159     0.3188     0.7182      0.978         16        640: 100%|██████████| 1/1 [00:03<00:00,  3.68s/it]\n",
      "                 Class     Images  Instances      Box(P          R      mAP50  mAP50-95)     Pose(P          R      mAP50  mAP50-95): 100%|██████████| 1/1 [00:01<00:00,  1.73s/it]"
     ]
    },
    {
     "name": "stdout",
     "output_type": "stream",
     "text": [
      "                   all          4         14      0.983      0.429      0.628      0.249      0.433      0.357      0.233     0.0854\n"
     ]
    },
    {
     "name": "stderr",
     "output_type": "stream",
     "text": [
      "\n"
     ]
    },
    {
     "name": "stdout",
     "output_type": "stream",
     "text": [
      "\n",
      "      Epoch    GPU_mem   box_loss  pose_loss  kobj_loss   cls_loss   dfl_loss  Instances       Size\n"
     ]
    },
    {
     "name": "stderr",
     "output_type": "stream",
     "text": [
      "     36/100         0G      1.084      2.586     0.3805     0.7577      1.017         17        640: 100%|██████████| 1/1 [00:03<00:00,  3.37s/it]\n",
      "                 Class     Images  Instances      Box(P          R      mAP50  mAP50-95)     Pose(P          R      mAP50  mAP50-95): 100%|██████████| 1/1 [00:01<00:00,  1.21s/it]"
     ]
    },
    {
     "name": "stdout",
     "output_type": "stream",
     "text": [
      "                   all          4         14      0.983      0.429      0.628      0.249      0.433      0.357      0.233     0.0854\n"
     ]
    },
    {
     "name": "stderr",
     "output_type": "stream",
     "text": [
      "\n"
     ]
    },
    {
     "name": "stdout",
     "output_type": "stream",
     "text": [
      "\n",
      "      Epoch    GPU_mem   box_loss  pose_loss  kobj_loss   cls_loss   dfl_loss  Instances       Size\n"
     ]
    },
    {
     "name": "stderr",
     "output_type": "stream",
     "text": [
      "     37/100         0G     0.8439      2.108     0.3037     0.5374       1.01         11        640: 100%|██████████| 1/1 [00:03<00:00,  3.39s/it]\n",
      "                 Class     Images  Instances      Box(P          R      mAP50  mAP50-95)     Pose(P          R      mAP50  mAP50-95): 100%|██████████| 1/1 [00:01<00:00,  1.21s/it]"
     ]
    },
    {
     "name": "stdout",
     "output_type": "stream",
     "text": [
      "                   all          4         14       0.96        0.5      0.614      0.233      0.543      0.286      0.186     0.0377\n"
     ]
    },
    {
     "name": "stderr",
     "output_type": "stream",
     "text": [
      "\n"
     ]
    },
    {
     "name": "stdout",
     "output_type": "stream",
     "text": [
      "\n",
      "      Epoch    GPU_mem   box_loss  pose_loss  kobj_loss   cls_loss   dfl_loss  Instances       Size\n"
     ]
    },
    {
     "name": "stderr",
     "output_type": "stream",
     "text": [
      "     38/100         0G     0.7515      2.352     0.2867     0.6264      1.017         15        640: 100%|██████████| 1/1 [00:04<00:00,  4.50s/it]\n",
      "                 Class     Images  Instances      Box(P          R      mAP50  mAP50-95)     Pose(P          R      mAP50  mAP50-95): 100%|██████████| 1/1 [00:01<00:00,  1.18s/it]"
     ]
    },
    {
     "name": "stdout",
     "output_type": "stream",
     "text": [
      "                   all          4         14       0.96        0.5      0.614      0.233      0.543      0.286      0.186     0.0377\n"
     ]
    },
    {
     "name": "stderr",
     "output_type": "stream",
     "text": [
      "\n"
     ]
    },
    {
     "name": "stdout",
     "output_type": "stream",
     "text": [
      "\n",
      "      Epoch    GPU_mem   box_loss  pose_loss  kobj_loss   cls_loss   dfl_loss  Instances       Size\n"
     ]
    },
    {
     "name": "stderr",
     "output_type": "stream",
     "text": [
      "     39/100         0G      0.833       2.62     0.2553     0.9338      1.107         13        640: 100%|██████████| 1/1 [00:03<00:00,  3.33s/it]\n",
      "                 Class     Images  Instances      Box(P          R      mAP50  mAP50-95)     Pose(P          R      mAP50  mAP50-95): 100%|██████████| 1/1 [00:01<00:00,  1.20s/it]"
     ]
    },
    {
     "name": "stdout",
     "output_type": "stream",
     "text": [
      "                   all          4         14      0.987      0.429      0.532      0.212      0.567      0.214      0.139     0.0283\n"
     ]
    },
    {
     "name": "stderr",
     "output_type": "stream",
     "text": [
      "\n"
     ]
    },
    {
     "name": "stdout",
     "output_type": "stream",
     "text": [
      "\n",
      "      Epoch    GPU_mem   box_loss  pose_loss  kobj_loss   cls_loss   dfl_loss  Instances       Size\n"
     ]
    },
    {
     "name": "stderr",
     "output_type": "stream",
     "text": [
      "     40/100         0G     0.7996      2.823     0.2992     0.7368      1.052         15        640: 100%|██████████| 1/1 [00:03<00:00,  3.53s/it]\n",
      "                 Class     Images  Instances      Box(P          R      mAP50  mAP50-95)     Pose(P          R      mAP50  mAP50-95): 100%|██████████| 1/1 [00:01<00:00,  1.78s/it]"
     ]
    },
    {
     "name": "stdout",
     "output_type": "stream",
     "text": [
      "                   all          4         14      0.987      0.429      0.532      0.212      0.567      0.214      0.139     0.0283\n"
     ]
    },
    {
     "name": "stderr",
     "output_type": "stream",
     "text": [
      "\n"
     ]
    },
    {
     "name": "stdout",
     "output_type": "stream",
     "text": [
      "\n",
      "      Epoch    GPU_mem   box_loss  pose_loss  kobj_loss   cls_loss   dfl_loss  Instances       Size\n"
     ]
    },
    {
     "name": "stderr",
     "output_type": "stream",
     "text": [
      "     41/100         0G     0.9676       3.69     0.3243     0.7965      1.003         14        640: 100%|██████████| 1/1 [00:03<00:00,  3.46s/it]\n",
      "                 Class     Images  Instances      Box(P          R      mAP50  mAP50-95)     Pose(P          R      mAP50  mAP50-95): 100%|██████████| 1/1 [00:01<00:00,  1.21s/it]"
     ]
    },
    {
     "name": "stdout",
     "output_type": "stream",
     "text": [
      "                   all          4         14      0.743      0.429      0.494      0.203      0.463      0.143      0.117     0.0254\n"
     ]
    },
    {
     "name": "stderr",
     "output_type": "stream",
     "text": [
      "\n"
     ]
    },
    {
     "name": "stdout",
     "output_type": "stream",
     "text": [
      "\n",
      "      Epoch    GPU_mem   box_loss  pose_loss  kobj_loss   cls_loss   dfl_loss  Instances       Size\n"
     ]
    },
    {
     "name": "stderr",
     "output_type": "stream",
     "text": [
      "     42/100         0G      1.312       2.78     0.3043      1.096      1.529         10        640: 100%|██████████| 1/1 [00:03<00:00,  3.32s/it]\n",
      "                 Class     Images  Instances      Box(P          R      mAP50  mAP50-95)     Pose(P          R      mAP50  mAP50-95): 100%|██████████| 1/1 [00:01<00:00,  1.18s/it]"
     ]
    },
    {
     "name": "stdout",
     "output_type": "stream",
     "text": [
      "                   all          4         14      0.743      0.429      0.494      0.203      0.463      0.143      0.117     0.0254\n"
     ]
    },
    {
     "name": "stderr",
     "output_type": "stream",
     "text": [
      "\n"
     ]
    },
    {
     "name": "stdout",
     "output_type": "stream",
     "text": [
      "\n",
      "      Epoch    GPU_mem   box_loss  pose_loss  kobj_loss   cls_loss   dfl_loss  Instances       Size\n"
     ]
    },
    {
     "name": "stderr",
     "output_type": "stream",
     "text": [
      "     43/100         0G      1.152      3.912     0.2855     0.9415      1.112         14        640: 100%|██████████| 1/1 [00:04<00:00,  4.70s/it]\n",
      "                 Class     Images  Instances      Box(P          R      mAP50  mAP50-95)     Pose(P          R      mAP50  mAP50-95): 100%|██████████| 1/1 [00:01<00:00,  1.20s/it]"
     ]
    },
    {
     "name": "stdout",
     "output_type": "stream",
     "text": [
      "                   all          4         14      0.743      0.429      0.529      0.224       0.47     0.0714     0.0922     0.0335\n"
     ]
    },
    {
     "name": "stderr",
     "output_type": "stream",
     "text": [
      "\n"
     ]
    },
    {
     "name": "stdout",
     "output_type": "stream",
     "text": [
      "\n",
      "      Epoch    GPU_mem   box_loss  pose_loss  kobj_loss   cls_loss   dfl_loss  Instances       Size\n"
     ]
    },
    {
     "name": "stderr",
     "output_type": "stream",
     "text": [
      "     44/100         0G      1.284      4.211     0.2733      1.219      1.566         10        640: 100%|██████████| 1/1 [00:03<00:00,  3.34s/it]\n",
      "                 Class     Images  Instances      Box(P          R      mAP50  mAP50-95)     Pose(P          R      mAP50  mAP50-95): 100%|██████████| 1/1 [00:01<00:00,  1.20s/it]"
     ]
    },
    {
     "name": "stdout",
     "output_type": "stream",
     "text": [
      "                   all          4         14      0.743      0.429      0.529      0.224       0.47     0.0714     0.0922     0.0335\n"
     ]
    },
    {
     "name": "stderr",
     "output_type": "stream",
     "text": [
      "\n"
     ]
    },
    {
     "name": "stdout",
     "output_type": "stream",
     "text": [
      "\n",
      "      Epoch    GPU_mem   box_loss  pose_loss  kobj_loss   cls_loss   dfl_loss  Instances       Size\n"
     ]
    },
    {
     "name": "stderr",
     "output_type": "stream",
     "text": [
      "     45/100         0G     0.8985      3.858     0.3505     0.7127      1.086         16        640: 100%|██████████| 1/1 [00:03<00:00,  3.49s/it]\n",
      "                 Class     Images  Instances      Box(P          R      mAP50  mAP50-95)     Pose(P          R      mAP50  mAP50-95): 100%|██████████| 1/1 [00:01<00:00,  1.86s/it]"
     ]
    },
    {
     "name": "stdout",
     "output_type": "stream",
     "text": [
      "                   all          4         14      0.666      0.429      0.508      0.205       0.22      0.143      0.123     0.0329\n"
     ]
    },
    {
     "name": "stderr",
     "output_type": "stream",
     "text": [
      "\n"
     ]
    },
    {
     "name": "stdout",
     "output_type": "stream",
     "text": [
      "\n",
      "      Epoch    GPU_mem   box_loss  pose_loss  kobj_loss   cls_loss   dfl_loss  Instances       Size\n"
     ]
    },
    {
     "name": "stderr",
     "output_type": "stream",
     "text": [
      "     46/100         0G       1.05      4.448     0.3743     0.9551      1.244         14        640: 100%|██████████| 1/1 [00:03<00:00,  3.52s/it]\n",
      "                 Class     Images  Instances      Box(P          R      mAP50  mAP50-95)     Pose(P          R      mAP50  mAP50-95): 100%|██████████| 1/1 [00:01<00:00,  1.19s/it]"
     ]
    },
    {
     "name": "stdout",
     "output_type": "stream",
     "text": [
      "                   all          4         14      0.666      0.429      0.508      0.205       0.22      0.143      0.123     0.0329\n"
     ]
    },
    {
     "name": "stderr",
     "output_type": "stream",
     "text": [
      "\n"
     ]
    },
    {
     "name": "stdout",
     "output_type": "stream",
     "text": [
      "\n",
      "      Epoch    GPU_mem   box_loss  pose_loss  kobj_loss   cls_loss   dfl_loss  Instances       Size\n"
     ]
    },
    {
     "name": "stderr",
     "output_type": "stream",
     "text": [
      "     47/100         0G     0.8407      3.792     0.4161     0.7876      1.021         10        640: 100%|██████████| 1/1 [00:03<00:00,  3.40s/it]\n",
      "                 Class     Images  Instances      Box(P          R      mAP50  mAP50-95)     Pose(P          R      mAP50  mAP50-95): 100%|██████████| 1/1 [00:01<00:00,  1.21s/it]"
     ]
    },
    {
     "name": "stdout",
     "output_type": "stream",
     "text": [
      "                   all          4         14      0.652      0.429      0.521      0.185      0.217      0.143      0.103     0.0133\n"
     ]
    },
    {
     "name": "stderr",
     "output_type": "stream",
     "text": [
      "\n"
     ]
    },
    {
     "name": "stdout",
     "output_type": "stream",
     "text": [
      "\n",
      "      Epoch    GPU_mem   box_loss  pose_loss  kobj_loss   cls_loss   dfl_loss  Instances       Size\n"
     ]
    },
    {
     "name": "stderr",
     "output_type": "stream",
     "text": [
      "     48/100         0G      1.095      3.102     0.3521     0.7754      1.345         15        640: 100%|██████████| 1/1 [00:04<00:00,  4.58s/it]\n",
      "                 Class     Images  Instances      Box(P          R      mAP50  mAP50-95)     Pose(P          R      mAP50  mAP50-95): 100%|██████████| 1/1 [00:01<00:00,  1.22s/it]"
     ]
    },
    {
     "name": "stdout",
     "output_type": "stream",
     "text": [
      "                   all          4         14      0.652      0.429      0.521      0.185      0.217      0.143      0.103     0.0133\n"
     ]
    },
    {
     "name": "stderr",
     "output_type": "stream",
     "text": [
      "\n"
     ]
    },
    {
     "name": "stdout",
     "output_type": "stream",
     "text": [
      "\n",
      "      Epoch    GPU_mem   box_loss  pose_loss  kobj_loss   cls_loss   dfl_loss  Instances       Size\n"
     ]
    },
    {
     "name": "stderr",
     "output_type": "stream",
     "text": [
      "     49/100         0G      1.302      5.033     0.5115      0.879      1.513          8        640: 100%|██████████| 1/1 [00:03<00:00,  3.38s/it]\n",
      "                 Class     Images  Instances      Box(P          R      mAP50  mAP50-95)     Pose(P          R      mAP50  mAP50-95): 100%|██████████| 1/1 [00:01<00:00,  1.15s/it]"
     ]
    },
    {
     "name": "stdout",
     "output_type": "stream",
     "text": [
      "                   all          4         14      0.687      0.429      0.499      0.172      0.216      0.143      0.106     0.0246\n"
     ]
    },
    {
     "name": "stderr",
     "output_type": "stream",
     "text": [
      "\n"
     ]
    },
    {
     "name": "stdout",
     "output_type": "stream",
     "text": [
      "\n",
      "      Epoch    GPU_mem   box_loss  pose_loss  kobj_loss   cls_loss   dfl_loss  Instances       Size\n"
     ]
    },
    {
     "name": "stderr",
     "output_type": "stream",
     "text": [
      "     50/100         0G     0.7941      2.969     0.3722     0.7631      1.019         16        640: 100%|██████████| 1/1 [00:03<00:00,  3.44s/it]\n",
      "                 Class     Images  Instances      Box(P          R      mAP50  mAP50-95)     Pose(P          R      mAP50  mAP50-95): 100%|██████████| 1/1 [00:01<00:00,  1.71s/it]"
     ]
    },
    {
     "name": "stdout",
     "output_type": "stream",
     "text": [
      "                   all          4         14      0.687      0.429      0.499      0.172      0.216      0.143      0.106     0.0246\n"
     ]
    },
    {
     "name": "stderr",
     "output_type": "stream",
     "text": [
      "\n"
     ]
    },
    {
     "name": "stdout",
     "output_type": "stream",
     "text": [
      "\n",
      "      Epoch    GPU_mem   box_loss  pose_loss  kobj_loss   cls_loss   dfl_loss  Instances       Size\n"
     ]
    },
    {
     "name": "stderr",
     "output_type": "stream",
     "text": [
      "     51/100         0G      1.123      3.581     0.2642     0.8631      1.422         11        640: 100%|██████████| 1/1 [00:03<00:00,  3.57s/it]\n",
      "                 Class     Images  Instances      Box(P          R      mAP50  mAP50-95)     Pose(P          R      mAP50  mAP50-95): 100%|██████████| 1/1 [00:01<00:00,  1.19s/it]"
     ]
    },
    {
     "name": "stdout",
     "output_type": "stream",
     "text": [
      "                   all          4         14      0.478      0.429      0.471      0.165      0.201      0.143      0.105     0.0368\n"
     ]
    },
    {
     "name": "stderr",
     "output_type": "stream",
     "text": [
      "\n"
     ]
    },
    {
     "name": "stdout",
     "output_type": "stream",
     "text": [
      "\n",
      "      Epoch    GPU_mem   box_loss  pose_loss  kobj_loss   cls_loss   dfl_loss  Instances       Size\n"
     ]
    },
    {
     "name": "stderr",
     "output_type": "stream",
     "text": [
      "     52/100         0G       0.89      2.595     0.2783      1.025      1.287          8        640: 100%|██████████| 1/1 [00:03<00:00,  3.25s/it]\n",
      "                 Class     Images  Instances      Box(P          R      mAP50  mAP50-95)     Pose(P          R      mAP50  mAP50-95): 100%|██████████| 1/1 [00:01<00:00,  1.19s/it]"
     ]
    },
    {
     "name": "stdout",
     "output_type": "stream",
     "text": [
      "                   all          4         14      0.478      0.429      0.471      0.165      0.201      0.143      0.105     0.0368\n",
      "Stopping training early as no improvement observed in last 50 epochs. Best results observed at epoch 2, best model saved as best.pt.\n",
      "To update EarlyStopping(patience=50) pass a new patience value, i.e. `patience=300` or use `patience=0` to disable EarlyStopping.\n"
     ]
    },
    {
     "name": "stderr",
     "output_type": "stream",
     "text": [
      "\n"
     ]
    },
    {
     "name": "stdout",
     "output_type": "stream",
     "text": [
      "\n",
      "52 epochs completed in 0.081 hours.\n",
      "Optimizer stripped from runs/pose/train5/weights/last.pt, 6.8MB\n",
      "Optimizer stripped from runs/pose/train5/weights/best.pt, 6.8MB\n",
      "\n",
      "Validating runs/pose/train5/weights/best.pt...\n",
      "Ultralytics YOLOv8.0.236 🚀 Python-3.10.12 torch-2.1.0+cu121 CPU (Intel Xeon 2.20GHz)\n",
      "YOLOv8n-pose summary (fused): 187 layers, 3289964 parameters, 0 gradients, 9.2 GFLOPs\n"
     ]
    },
    {
     "name": "stderr",
     "output_type": "stream",
     "text": [
      "                 Class     Images  Instances      Box(P          R      mAP50  mAP50-95)     Pose(P          R      mAP50  mAP50-95): 100%|██████████| 1/1 [00:01<00:00,  1.54s/it]\n"
     ]
    },
    {
     "name": "stdout",
     "output_type": "stream",
     "text": [
      "                   all          4         14      0.918      0.929      0.907      0.686          1      0.625      0.652      0.356\n",
      "Speed: 2.3ms preprocess, 366.9ms inference, 0.0ms loss, 1.2ms postprocess per image\n",
      "Results saved to \u001b[1mruns/pose/train5\u001b[0m\n"
     ]
    }
   ],
   "source": [
    "# Train the model\n",
    "results = model.train(data='coco8-pose.yaml', epochs=100, imgsz=640)"
   ]
  },
  {
   "cell_type": "code",
   "execution_count": null,
   "metadata": {
    "colab": {
     "base_uri": "https://localhost:8080/"
    },
    "id": "qTqUpYqk0Ls6",
    "outputId": "9266887d-761a-47ee-f032-1919a0353286"
   },
   "outputs": [
    {
     "name": "stdout",
     "output_type": "stream",
     "text": [
      "\n",
      "\n",
      "WARNING ⚠️ inference results will accumulate in RAM unless `stream=True` is passed, causing potential out-of-memory\n",
      "errors for large sources or long-running streams and videos. See https://docs.ultralytics.com/modes/predict/ for help.\n",
      "\n",
      "Example:\n",
      "    results = model(source=..., stream=True)  # generator of Results objects\n",
      "    for r in results:\n",
      "        boxes = r.boxes  # Boxes object for bbox outputs\n",
      "        masks = r.masks  # Masks object for segment masks outputs\n",
      "        probs = r.probs  # Class probabilities for classification outputs\n",
      "\n"
     ]
    }
   ],
   "source": [
    "# Replace 'video_path.mp4' with your video file path\n",
    "video_path = '/content/datasets/Test video/dance.mp4'\n",
    "\n",
    "results=model(source=\"/content/datasets/Test video/dance.mp4\", show=True, conf=0.3, save=True)\n"
   ]
  },
  {
   "cell_type": "code",
   "execution_count": 10,
   "metadata": {
    "colab": {
     "base_uri": "https://localhost:8080/"
    },
    "id": "fl6Zpt-8RSRW",
    "outputId": "feba10b9-52c3-45b6-acc6-f02e078763ad"
   },
   "outputs": [
    {
     "name": "stdout",
     "output_type": "stream",
     "text": [
      "WARNING ⚠️ Environment does not support cv2.imshow() or PIL Image.show()\n",
      "\n",
      "\n",
      "\n",
      "WARNING ⚠️ inference results will accumulate in RAM unless `stream=True` is passed, causing potential out-of-memory\n",
      "errors for large sources or long-running streams and videos. See https://docs.ultralytics.com/modes/predict/ for help.\n",
      "\n",
      "Example:\n",
      "    results = model(source=..., stream=True)  # generator of Results objects\n",
      "    for r in results:\n",
      "        boxes = r.boxes  # Boxes object for bbox outputs\n",
      "        masks = r.masks  # Masks object for segment masks outputs\n",
      "        probs = r.probs  # Class probabilities for classification outputs\n",
      "\n",
      "video 1/1 (1/1411) /content/datasets/Test video/low intensity dance.mp4: 640x384 7 persons, 770.6ms\n",
      "video 1/1 (2/1411) /content/datasets/Test video/low intensity dance.mp4: 640x384 7 persons, 442.6ms\n",
      "video 1/1 (3/1411) /content/datasets/Test video/low intensity dance.mp4: 640x384 6 persons, 231.1ms\n",
      "video 1/1 (4/1411) /content/datasets/Test video/low intensity dance.mp4: 640x384 6 persons, 222.7ms\n",
      "video 1/1 (5/1411) /content/datasets/Test video/low intensity dance.mp4: 640x384 6 persons, 226.9ms\n",
      "video 1/1 (6/1411) /content/datasets/Test video/low intensity dance.mp4: 640x384 6 persons, 234.7ms\n",
      "video 1/1 (7/1411) /content/datasets/Test video/low intensity dance.mp4: 640x384 6 persons, 236.2ms\n",
      "video 1/1 (8/1411) /content/datasets/Test video/low intensity dance.mp4: 640x384 6 persons, 234.7ms\n",
      "video 1/1 (9/1411) /content/datasets/Test video/low intensity dance.mp4: 640x384 7 persons, 145.8ms\n",
      "video 1/1 (10/1411) /content/datasets/Test video/low intensity dance.mp4: 640x384 7 persons, 149.3ms\n",
      "video 1/1 (11/1411) /content/datasets/Test video/low intensity dance.mp4: 640x384 7 persons, 156.7ms\n",
      "video 1/1 (12/1411) /content/datasets/Test video/low intensity dance.mp4: 640x384 7 persons, 151.8ms\n",
      "video 1/1 (13/1411) /content/datasets/Test video/low intensity dance.mp4: 640x384 7 persons, 154.0ms\n",
      "video 1/1 (14/1411) /content/datasets/Test video/low intensity dance.mp4: 640x384 7 persons, 152.4ms\n",
      "video 1/1 (15/1411) /content/datasets/Test video/low intensity dance.mp4: 640x384 6 persons, 151.5ms\n",
      "video 1/1 (16/1411) /content/datasets/Test video/low intensity dance.mp4: 640x384 6 persons, 165.6ms\n",
      "video 1/1 (17/1411) /content/datasets/Test video/low intensity dance.mp4: 640x384 6 persons, 149.5ms\n",
      "video 1/1 (18/1411) /content/datasets/Test video/low intensity dance.mp4: 640x384 7 persons, 149.1ms\n",
      "video 1/1 (19/1411) /content/datasets/Test video/low intensity dance.mp4: 640x384 7 persons, 146.1ms\n",
      "video 1/1 (20/1411) /content/datasets/Test video/low intensity dance.mp4: 640x384 7 persons, 155.7ms\n",
      "video 1/1 (21/1411) /content/datasets/Test video/low intensity dance.mp4: 640x384 6 persons, 144.5ms\n",
      "video 1/1 (22/1411) /content/datasets/Test video/low intensity dance.mp4: 640x384 6 persons, 163.5ms\n",
      "video 1/1 (23/1411) /content/datasets/Test video/low intensity dance.mp4: 640x384 7 persons, 150.3ms\n",
      "video 1/1 (24/1411) /content/datasets/Test video/low intensity dance.mp4: 640x384 7 persons, 147.1ms\n",
      "video 1/1 (25/1411) /content/datasets/Test video/low intensity dance.mp4: 640x384 6 persons, 151.3ms\n",
      "video 1/1 (26/1411) /content/datasets/Test video/low intensity dance.mp4: 640x384 6 persons, 146.3ms\n",
      "video 1/1 (27/1411) /content/datasets/Test video/low intensity dance.mp4: 640x384 6 persons, 145.8ms\n",
      "video 1/1 (28/1411) /content/datasets/Test video/low intensity dance.mp4: 640x384 6 persons, 157.5ms\n",
      "video 1/1 (29/1411) /content/datasets/Test video/low intensity dance.mp4: 640x384 6 persons, 147.8ms\n",
      "video 1/1 (30/1411) /content/datasets/Test video/low intensity dance.mp4: 640x384 6 persons, 151.1ms\n",
      "video 1/1 (31/1411) /content/datasets/Test video/low intensity dance.mp4: 640x384 6 persons, 152.9ms\n",
      "video 1/1 (32/1411) /content/datasets/Test video/low intensity dance.mp4: 640x384 6 persons, 153.1ms\n",
      "video 1/1 (33/1411) /content/datasets/Test video/low intensity dance.mp4: 640x384 6 persons, 164.7ms\n",
      "video 1/1 (34/1411) /content/datasets/Test video/low intensity dance.mp4: 640x384 6 persons, 153.2ms\n",
      "video 1/1 (35/1411) /content/datasets/Test video/low intensity dance.mp4: 640x384 7 persons, 146.3ms\n",
      "video 1/1 (36/1411) /content/datasets/Test video/low intensity dance.mp4: 640x384 7 persons, 150.0ms\n",
      "video 1/1 (37/1411) /content/datasets/Test video/low intensity dance.mp4: 640x384 7 persons, 148.3ms\n",
      "video 1/1 (38/1411) /content/datasets/Test video/low intensity dance.mp4: 640x384 7 persons, 151.6ms\n",
      "video 1/1 (39/1411) /content/datasets/Test video/low intensity dance.mp4: 640x384 6 persons, 155.4ms\n",
      "video 1/1 (40/1411) /content/datasets/Test video/low intensity dance.mp4: 640x384 7 persons, 148.4ms\n",
      "video 1/1 (41/1411) /content/datasets/Test video/low intensity dance.mp4: 640x384 7 persons, 150.5ms\n",
      "video 1/1 (42/1411) /content/datasets/Test video/low intensity dance.mp4: 640x384 6 persons, 149.1ms\n",
      "video 1/1 (43/1411) /content/datasets/Test video/low intensity dance.mp4: 640x384 7 persons, 148.0ms\n",
      "video 1/1 (44/1411) /content/datasets/Test video/low intensity dance.mp4: 640x384 6 persons, 162.7ms\n",
      "video 1/1 (45/1411) /content/datasets/Test video/low intensity dance.mp4: 640x384 6 persons, 152.6ms\n",
      "video 1/1 (46/1411) /content/datasets/Test video/low intensity dance.mp4: 640x384 6 persons, 150.9ms\n",
      "video 1/1 (47/1411) /content/datasets/Test video/low intensity dance.mp4: 640x384 7 persons, 148.7ms\n",
      "video 1/1 (48/1411) /content/datasets/Test video/low intensity dance.mp4: 640x384 7 persons, 154.3ms\n",
      "video 1/1 (49/1411) /content/datasets/Test video/low intensity dance.mp4: 640x384 6 persons, 147.5ms\n",
      "video 1/1 (50/1411) /content/datasets/Test video/low intensity dance.mp4: 640x384 7 persons, 154.7ms\n",
      "video 1/1 (51/1411) /content/datasets/Test video/low intensity dance.mp4: 640x384 8 persons, 147.4ms\n",
      "video 1/1 (52/1411) /content/datasets/Test video/low intensity dance.mp4: 640x384 8 persons, 150.4ms\n",
      "video 1/1 (53/1411) /content/datasets/Test video/low intensity dance.mp4: 640x384 7 persons, 151.9ms\n",
      "video 1/1 (54/1411) /content/datasets/Test video/low intensity dance.mp4: 640x384 8 persons, 142.5ms\n",
      "video 1/1 (55/1411) /content/datasets/Test video/low intensity dance.mp4: 640x384 8 persons, 150.5ms\n",
      "video 1/1 (56/1411) /content/datasets/Test video/low intensity dance.mp4: 640x384 6 persons, 155.2ms\n",
      "video 1/1 (57/1411) /content/datasets/Test video/low intensity dance.mp4: 640x384 5 persons, 152.4ms\n",
      "video 1/1 (58/1411) /content/datasets/Test video/low intensity dance.mp4: 640x384 5 persons, 147.1ms\n",
      "video 1/1 (59/1411) /content/datasets/Test video/low intensity dance.mp4: 640x384 5 persons, 147.6ms\n",
      "video 1/1 (60/1411) /content/datasets/Test video/low intensity dance.mp4: 640x384 7 persons, 152.2ms\n",
      "video 1/1 (61/1411) /content/datasets/Test video/low intensity dance.mp4: 640x384 5 persons, 161.8ms\n",
      "video 1/1 (62/1411) /content/datasets/Test video/low intensity dance.mp4: 640x384 6 persons, 151.1ms\n",
      "video 1/1 (63/1411) /content/datasets/Test video/low intensity dance.mp4: 640x384 5 persons, 194.4ms\n",
      "video 1/1 (64/1411) /content/datasets/Test video/low intensity dance.mp4: 640x384 4 persons, 241.9ms\n",
      "video 1/1 (65/1411) /content/datasets/Test video/low intensity dance.mp4: 640x384 4 persons, 230.6ms\n",
      "video 1/1 (66/1411) /content/datasets/Test video/low intensity dance.mp4: 640x384 4 persons, 241.4ms\n",
      "video 1/1 (67/1411) /content/datasets/Test video/low intensity dance.mp4: 640x384 4 persons, 230.5ms\n",
      "video 1/1 (68/1411) /content/datasets/Test video/low intensity dance.mp4: 640x384 4 persons, 232.4ms\n",
      "video 1/1 (69/1411) /content/datasets/Test video/low intensity dance.mp4: 640x384 4 persons, 222.7ms\n",
      "video 1/1 (70/1411) /content/datasets/Test video/low intensity dance.mp4: 640x384 5 persons, 253.4ms\n",
      "video 1/1 (71/1411) /content/datasets/Test video/low intensity dance.mp4: 640x384 4 persons, 229.0ms\n",
      "video 1/1 (72/1411) /content/datasets/Test video/low intensity dance.mp4: 640x384 5 persons, 216.7ms\n",
      "video 1/1 (73/1411) /content/datasets/Test video/low intensity dance.mp4: 640x384 4 persons, 227.8ms\n",
      "video 1/1 (74/1411) /content/datasets/Test video/low intensity dance.mp4: 640x384 4 persons, 227.5ms\n",
      "video 1/1 (75/1411) /content/datasets/Test video/low intensity dance.mp4: 640x384 4 persons, 234.8ms\n",
      "video 1/1 (76/1411) /content/datasets/Test video/low intensity dance.mp4: 640x384 4 persons, 234.3ms\n",
      "video 1/1 (77/1411) /content/datasets/Test video/low intensity dance.mp4: 640x384 4 persons, 144.3ms\n",
      "video 1/1 (78/1411) /content/datasets/Test video/low intensity dance.mp4: 640x384 4 persons, 159.1ms\n",
      "video 1/1 (79/1411) /content/datasets/Test video/low intensity dance.mp4: 640x384 4 persons, 152.7ms\n",
      "video 1/1 (80/1411) /content/datasets/Test video/low intensity dance.mp4: 640x384 4 persons, 152.6ms\n",
      "video 1/1 (81/1411) /content/datasets/Test video/low intensity dance.mp4: 640x384 4 persons, 157.7ms\n",
      "video 1/1 (82/1411) /content/datasets/Test video/low intensity dance.mp4: 640x384 4 persons, 150.3ms\n",
      "video 1/1 (83/1411) /content/datasets/Test video/low intensity dance.mp4: 640x384 4 persons, 150.6ms\n",
      "video 1/1 (84/1411) /content/datasets/Test video/low intensity dance.mp4: 640x384 4 persons, 150.2ms\n",
      "video 1/1 (85/1411) /content/datasets/Test video/low intensity dance.mp4: 640x384 4 persons, 150.7ms\n",
      "video 1/1 (86/1411) /content/datasets/Test video/low intensity dance.mp4: 640x384 4 persons, 149.6ms\n",
      "video 1/1 (87/1411) /content/datasets/Test video/low intensity dance.mp4: 640x384 4 persons, 150.3ms\n",
      "video 1/1 (88/1411) /content/datasets/Test video/low intensity dance.mp4: 640x384 4 persons, 150.2ms\n",
      "video 1/1 (89/1411) /content/datasets/Test video/low intensity dance.mp4: 640x384 5 persons, 161.9ms\n",
      "video 1/1 (90/1411) /content/datasets/Test video/low intensity dance.mp4: 640x384 5 persons, 148.2ms\n",
      "video 1/1 (91/1411) /content/datasets/Test video/low intensity dance.mp4: 640x384 5 persons, 150.7ms\n",
      "video 1/1 (92/1411) /content/datasets/Test video/low intensity dance.mp4: 640x384 6 persons, 150.3ms\n",
      "video 1/1 (93/1411) /content/datasets/Test video/low intensity dance.mp4: 640x384 5 persons, 153.8ms\n",
      "video 1/1 (94/1411) /content/datasets/Test video/low intensity dance.mp4: 640x384 6 persons, 150.0ms\n",
      "video 1/1 (95/1411) /content/datasets/Test video/low intensity dance.mp4: 640x384 6 persons, 165.5ms\n",
      "video 1/1 (96/1411) /content/datasets/Test video/low intensity dance.mp4: 640x384 6 persons, 150.4ms\n",
      "video 1/1 (97/1411) /content/datasets/Test video/low intensity dance.mp4: 640x384 6 persons, 156.2ms\n",
      "video 1/1 (98/1411) /content/datasets/Test video/low intensity dance.mp4: 640x384 6 persons, 151.3ms\n",
      "video 1/1 (99/1411) /content/datasets/Test video/low intensity dance.mp4: 640x384 6 persons, 143.6ms\n",
      "video 1/1 (100/1411) /content/datasets/Test video/low intensity dance.mp4: 640x384 6 persons, 148.1ms\n",
      "video 1/1 (101/1411) /content/datasets/Test video/low intensity dance.mp4: 640x384 5 persons, 160.1ms\n",
      "video 1/1 (102/1411) /content/datasets/Test video/low intensity dance.mp4: 640x384 6 persons, 153.7ms\n",
      "video 1/1 (103/1411) /content/datasets/Test video/low intensity dance.mp4: 640x384 3 persons, 157.4ms\n",
      "video 1/1 (104/1411) /content/datasets/Test video/low intensity dance.mp4: 640x384 5 persons, 157.3ms\n",
      "video 1/1 (105/1411) /content/datasets/Test video/low intensity dance.mp4: 640x384 7 persons, 148.2ms\n",
      "video 1/1 (106/1411) /content/datasets/Test video/low intensity dance.mp4: 640x384 7 persons, 159.5ms\n",
      "video 1/1 (107/1411) /content/datasets/Test video/low intensity dance.mp4: 640x384 7 persons, 143.7ms\n",
      "video 1/1 (108/1411) /content/datasets/Test video/low intensity dance.mp4: 640x384 5 persons, 150.3ms\n",
      "video 1/1 (109/1411) /content/datasets/Test video/low intensity dance.mp4: 640x384 3 persons, 169.9ms\n",
      "video 1/1 (110/1411) /content/datasets/Test video/low intensity dance.mp4: 640x384 4 persons, 141.6ms\n",
      "video 1/1 (111/1411) /content/datasets/Test video/low intensity dance.mp4: 640x384 4 persons, 149.5ms\n",
      "video 1/1 (112/1411) /content/datasets/Test video/low intensity dance.mp4: 640x384 4 persons, 156.8ms\n",
      "video 1/1 (113/1411) /content/datasets/Test video/low intensity dance.mp4: 640x384 5 persons, 142.2ms\n",
      "video 1/1 (114/1411) /content/datasets/Test video/low intensity dance.mp4: 640x384 5 persons, 151.7ms\n",
      "video 1/1 (115/1411) /content/datasets/Test video/low intensity dance.mp4: 640x384 4 persons, 151.8ms\n",
      "video 1/1 (116/1411) /content/datasets/Test video/low intensity dance.mp4: 640x384 3 persons, 145.8ms\n",
      "video 1/1 (117/1411) /content/datasets/Test video/low intensity dance.mp4: 640x384 4 persons, 149.6ms\n",
      "video 1/1 (118/1411) /content/datasets/Test video/low intensity dance.mp4: 640x384 4 persons, 159.0ms\n",
      "video 1/1 (119/1411) /content/datasets/Test video/low intensity dance.mp4: 640x384 2 persons, 153.1ms\n",
      "video 1/1 (120/1411) /content/datasets/Test video/low intensity dance.mp4: 640x384 5 persons, 150.6ms\n",
      "video 1/1 (121/1411) /content/datasets/Test video/low intensity dance.mp4: 640x384 4 persons, 157.4ms\n",
      "video 1/1 (122/1411) /content/datasets/Test video/low intensity dance.mp4: 640x384 5 persons, 149.1ms\n",
      "video 1/1 (123/1411) /content/datasets/Test video/low intensity dance.mp4: 640x384 4 persons, 146.7ms\n",
      "video 1/1 (124/1411) /content/datasets/Test video/low intensity dance.mp4: 640x384 4 persons, 159.8ms\n",
      "video 1/1 (125/1411) /content/datasets/Test video/low intensity dance.mp4: 640x384 5 persons, 154.1ms\n",
      "video 1/1 (126/1411) /content/datasets/Test video/low intensity dance.mp4: 640x384 4 persons, 159.2ms\n",
      "video 1/1 (127/1411) /content/datasets/Test video/low intensity dance.mp4: 640x384 5 persons, 155.2ms\n",
      "video 1/1 (128/1411) /content/datasets/Test video/low intensity dance.mp4: 640x384 6 persons, 154.1ms\n",
      "video 1/1 (129/1411) /content/datasets/Test video/low intensity dance.mp4: 640x384 5 persons, 167.5ms\n",
      "video 1/1 (130/1411) /content/datasets/Test video/low intensity dance.mp4: 640x384 5 persons, 149.6ms\n",
      "video 1/1 (131/1411) /content/datasets/Test video/low intensity dance.mp4: 640x384 5 persons, 160.6ms\n",
      "video 1/1 (132/1411) /content/datasets/Test video/low intensity dance.mp4: 640x384 4 persons, 199.9ms\n",
      "video 1/1 (133/1411) /content/datasets/Test video/low intensity dance.mp4: 640x384 5 persons, 231.6ms\n",
      "video 1/1 (134/1411) /content/datasets/Test video/low intensity dance.mp4: 640x384 3 persons, 231.1ms\n",
      "video 1/1 (135/1411) /content/datasets/Test video/low intensity dance.mp4: 640x384 4 persons, 231.0ms\n",
      "video 1/1 (136/1411) /content/datasets/Test video/low intensity dance.mp4: 640x384 4 persons, 237.6ms\n",
      "video 1/1 (137/1411) /content/datasets/Test video/low intensity dance.mp4: 640x384 4 persons, 223.9ms\n",
      "video 1/1 (138/1411) /content/datasets/Test video/low intensity dance.mp4: 640x384 5 persons, 235.4ms\n",
      "video 1/1 (139/1411) /content/datasets/Test video/low intensity dance.mp4: 640x384 5 persons, 233.3ms\n",
      "video 1/1 (140/1411) /content/datasets/Test video/low intensity dance.mp4: 640x384 3 persons, 228.7ms\n",
      "video 1/1 (141/1411) /content/datasets/Test video/low intensity dance.mp4: 640x384 4 persons, 219.4ms\n",
      "video 1/1 (142/1411) /content/datasets/Test video/low intensity dance.mp4: 640x384 4 persons, 235.4ms\n",
      "video 1/1 (143/1411) /content/datasets/Test video/low intensity dance.mp4: 640x384 5 persons, 232.4ms\n",
      "video 1/1 (144/1411) /content/datasets/Test video/low intensity dance.mp4: 640x384 5 persons, 224.3ms\n",
      "video 1/1 (145/1411) /content/datasets/Test video/low intensity dance.mp4: 640x384 5 persons, 228.3ms\n",
      "video 1/1 (146/1411) /content/datasets/Test video/low intensity dance.mp4: 640x384 6 persons, 185.6ms\n",
      "video 1/1 (147/1411) /content/datasets/Test video/low intensity dance.mp4: 640x384 5 persons, 155.3ms\n",
      "video 1/1 (148/1411) /content/datasets/Test video/low intensity dance.mp4: 640x384 5 persons, 162.4ms\n",
      "video 1/1 (149/1411) /content/datasets/Test video/low intensity dance.mp4: 640x384 4 persons, 147.0ms\n",
      "video 1/1 (150/1411) /content/datasets/Test video/low intensity dance.mp4: 640x384 4 persons, 151.2ms\n",
      "video 1/1 (151/1411) /content/datasets/Test video/low intensity dance.mp4: 640x384 5 persons, 146.9ms\n",
      "video 1/1 (152/1411) /content/datasets/Test video/low intensity dance.mp4: 640x384 5 persons, 163.2ms\n",
      "video 1/1 (153/1411) /content/datasets/Test video/low intensity dance.mp4: 640x384 4 persons, 149.5ms\n",
      "video 1/1 (154/1411) /content/datasets/Test video/low intensity dance.mp4: 640x384 4 persons, 146.8ms\n",
      "video 1/1 (155/1411) /content/datasets/Test video/low intensity dance.mp4: 640x384 4 persons, 144.7ms\n",
      "video 1/1 (156/1411) /content/datasets/Test video/low intensity dance.mp4: 640x384 5 persons, 142.9ms\n",
      "video 1/1 (157/1411) /content/datasets/Test video/low intensity dance.mp4: 640x384 5 persons, 142.2ms\n",
      "video 1/1 (158/1411) /content/datasets/Test video/low intensity dance.mp4: 640x384 4 persons, 160.5ms\n",
      "video 1/1 (159/1411) /content/datasets/Test video/low intensity dance.mp4: 640x384 4 persons, 140.1ms\n",
      "video 1/1 (160/1411) /content/datasets/Test video/low intensity dance.mp4: 640x384 4 persons, 143.7ms\n",
      "video 1/1 (161/1411) /content/datasets/Test video/low intensity dance.mp4: 640x384 6 persons, 145.4ms\n",
      "video 1/1 (162/1411) /content/datasets/Test video/low intensity dance.mp4: 640x384 4 persons, 141.7ms\n",
      "video 1/1 (163/1411) /content/datasets/Test video/low intensity dance.mp4: 640x384 3 persons, 144.7ms\n",
      "video 1/1 (164/1411) /content/datasets/Test video/low intensity dance.mp4: 640x384 4 persons, 154.8ms\n",
      "video 1/1 (165/1411) /content/datasets/Test video/low intensity dance.mp4: 640x384 3 persons, 139.4ms\n",
      "video 1/1 (166/1411) /content/datasets/Test video/low intensity dance.mp4: 640x384 3 persons, 139.7ms\n",
      "video 1/1 (167/1411) /content/datasets/Test video/low intensity dance.mp4: 640x384 4 persons, 140.6ms\n",
      "video 1/1 (168/1411) /content/datasets/Test video/low intensity dance.mp4: 640x384 3 persons, 138.3ms\n",
      "video 1/1 (169/1411) /content/datasets/Test video/low intensity dance.mp4: 640x384 1 person, 141.2ms\n",
      "video 1/1 (170/1411) /content/datasets/Test video/low intensity dance.mp4: 640x384 2 persons, 156.9ms\n",
      "video 1/1 (171/1411) /content/datasets/Test video/low intensity dance.mp4: 640x384 2 persons, 142.9ms\n",
      "video 1/1 (172/1411) /content/datasets/Test video/low intensity dance.mp4: 640x384 2 persons, 139.1ms\n",
      "video 1/1 (173/1411) /content/datasets/Test video/low intensity dance.mp4: 640x384 3 persons, 136.7ms\n",
      "video 1/1 (174/1411) /content/datasets/Test video/low intensity dance.mp4: 640x384 3 persons, 139.1ms\n",
      "video 1/1 (175/1411) /content/datasets/Test video/low intensity dance.mp4: 640x384 3 persons, 142.4ms\n",
      "video 1/1 (176/1411) /content/datasets/Test video/low intensity dance.mp4: 640x384 3 persons, 153.6ms\n",
      "video 1/1 (177/1411) /content/datasets/Test video/low intensity dance.mp4: 640x384 3 persons, 140.6ms\n",
      "video 1/1 (178/1411) /content/datasets/Test video/low intensity dance.mp4: 640x384 3 persons, 147.4ms\n",
      "video 1/1 (179/1411) /content/datasets/Test video/low intensity dance.mp4: 640x384 4 persons, 142.1ms\n",
      "video 1/1 (180/1411) /content/datasets/Test video/low intensity dance.mp4: 640x384 4 persons, 138.6ms\n",
      "video 1/1 (181/1411) /content/datasets/Test video/low intensity dance.mp4: 640x384 4 persons, 148.9ms\n",
      "video 1/1 (182/1411) /content/datasets/Test video/low intensity dance.mp4: 640x384 4 persons, 146.2ms\n",
      "video 1/1 (183/1411) /content/datasets/Test video/low intensity dance.mp4: 640x384 4 persons, 136.6ms\n",
      "video 1/1 (184/1411) /content/datasets/Test video/low intensity dance.mp4: 640x384 4 persons, 139.9ms\n",
      "video 1/1 (185/1411) /content/datasets/Test video/low intensity dance.mp4: 640x384 5 persons, 135.9ms\n",
      "video 1/1 (186/1411) /content/datasets/Test video/low intensity dance.mp4: 640x384 6 persons, 140.2ms\n",
      "video 1/1 (187/1411) /content/datasets/Test video/low intensity dance.mp4: 640x384 4 persons, 137.2ms\n",
      "video 1/1 (188/1411) /content/datasets/Test video/low intensity dance.mp4: 640x384 5 persons, 142.7ms\n",
      "video 1/1 (189/1411) /content/datasets/Test video/low intensity dance.mp4: 640x384 3 persons, 152.2ms\n",
      "video 1/1 (190/1411) /content/datasets/Test video/low intensity dance.mp4: 640x384 3 persons, 133.7ms\n",
      "video 1/1 (191/1411) /content/datasets/Test video/low intensity dance.mp4: 640x384 5 persons, 141.2ms\n",
      "video 1/1 (192/1411) /content/datasets/Test video/low intensity dance.mp4: 640x384 5 persons, 138.5ms\n",
      "video 1/1 (193/1411) /content/datasets/Test video/low intensity dance.mp4: 640x384 5 persons, 138.9ms\n",
      "video 1/1 (194/1411) /content/datasets/Test video/low intensity dance.mp4: 640x384 4 persons, 143.7ms\n",
      "video 1/1 (195/1411) /content/datasets/Test video/low intensity dance.mp4: 640x384 4 persons, 145.3ms\n",
      "video 1/1 (196/1411) /content/datasets/Test video/low intensity dance.mp4: 640x384 4 persons, 142.7ms\n",
      "video 1/1 (197/1411) /content/datasets/Test video/low intensity dance.mp4: 640x384 4 persons, 135.0ms\n",
      "video 1/1 (198/1411) /content/datasets/Test video/low intensity dance.mp4: 640x384 5 persons, 139.2ms\n",
      "video 1/1 (199/1411) /content/datasets/Test video/low intensity dance.mp4: 640x384 4 persons, 136.8ms\n",
      "video 1/1 (200/1411) /content/datasets/Test video/low intensity dance.mp4: 640x384 4 persons, 141.8ms\n",
      "video 1/1 (201/1411) /content/datasets/Test video/low intensity dance.mp4: 640x384 4 persons, 149.6ms\n",
      "video 1/1 (202/1411) /content/datasets/Test video/low intensity dance.mp4: 640x384 4 persons, 134.3ms\n",
      "video 1/1 (203/1411) /content/datasets/Test video/low intensity dance.mp4: 640x384 4 persons, 133.0ms\n",
      "video 1/1 (204/1411) /content/datasets/Test video/low intensity dance.mp4: 640x384 4 persons, 143.5ms\n",
      "video 1/1 (205/1411) /content/datasets/Test video/low intensity dance.mp4: 640x384 4 persons, 164.2ms\n",
      "video 1/1 (206/1411) /content/datasets/Test video/low intensity dance.mp4: 640x384 4 persons, 214.6ms\n",
      "video 1/1 (207/1411) /content/datasets/Test video/low intensity dance.mp4: 640x384 4 persons, 220.2ms\n",
      "video 1/1 (208/1411) /content/datasets/Test video/low intensity dance.mp4: 640x384 4 persons, 222.4ms\n",
      "video 1/1 (209/1411) /content/datasets/Test video/low intensity dance.mp4: 640x384 4 persons, 215.4ms\n",
      "video 1/1 (210/1411) /content/datasets/Test video/low intensity dance.mp4: 640x384 4 persons, 214.5ms\n",
      "video 1/1 (211/1411) /content/datasets/Test video/low intensity dance.mp4: 640x384 4 persons, 211.5ms\n",
      "video 1/1 (212/1411) /content/datasets/Test video/low intensity dance.mp4: 640x384 5 persons, 207.3ms\n",
      "video 1/1 (213/1411) /content/datasets/Test video/low intensity dance.mp4: 640x384 4 persons, 214.7ms\n",
      "video 1/1 (214/1411) /content/datasets/Test video/low intensity dance.mp4: 640x384 4 persons, 204.6ms\n",
      "video 1/1 (215/1411) /content/datasets/Test video/low intensity dance.mp4: 640x384 4 persons, 200.5ms\n",
      "video 1/1 (216/1411) /content/datasets/Test video/low intensity dance.mp4: 640x384 6 persons, 198.1ms\n",
      "video 1/1 (217/1411) /content/datasets/Test video/low intensity dance.mp4: 640x384 4 persons, 201.6ms\n",
      "video 1/1 (218/1411) /content/datasets/Test video/low intensity dance.mp4: 640x384 5 persons, 214.9ms\n",
      "video 1/1 (219/1411) /content/datasets/Test video/low intensity dance.mp4: 640x384 6 persons, 225.5ms\n",
      "video 1/1 (220/1411) /content/datasets/Test video/low intensity dance.mp4: 640x384 6 persons, 135.6ms\n",
      "video 1/1 (221/1411) /content/datasets/Test video/low intensity dance.mp4: 640x384 5 persons, 135.0ms\n",
      "video 1/1 (222/1411) /content/datasets/Test video/low intensity dance.mp4: 640x384 6 persons, 141.5ms\n",
      "video 1/1 (223/1411) /content/datasets/Test video/low intensity dance.mp4: 640x384 5 persons, 147.5ms\n",
      "video 1/1 (224/1411) /content/datasets/Test video/low intensity dance.mp4: 640x384 5 persons, 136.1ms\n",
      "video 1/1 (225/1411) /content/datasets/Test video/low intensity dance.mp4: 640x384 7 persons, 139.3ms\n",
      "video 1/1 (226/1411) /content/datasets/Test video/low intensity dance.mp4: 640x384 6 persons, 151.8ms\n",
      "video 1/1 (227/1411) /content/datasets/Test video/low intensity dance.mp4: 640x384 5 persons, 139.9ms\n",
      "video 1/1 (228/1411) /content/datasets/Test video/low intensity dance.mp4: 640x384 5 persons, 134.4ms\n",
      "video 1/1 (229/1411) /content/datasets/Test video/low intensity dance.mp4: 640x384 5 persons, 143.9ms\n",
      "video 1/1 (230/1411) /content/datasets/Test video/low intensity dance.mp4: 640x384 5 persons, 132.4ms\n",
      "video 1/1 (231/1411) /content/datasets/Test video/low intensity dance.mp4: 640x384 6 persons, 143.5ms\n",
      "video 1/1 (232/1411) /content/datasets/Test video/low intensity dance.mp4: 640x384 5 persons, 152.5ms\n",
      "video 1/1 (233/1411) /content/datasets/Test video/low intensity dance.mp4: 640x384 4 persons, 144.8ms\n",
      "video 1/1 (234/1411) /content/datasets/Test video/low intensity dance.mp4: 640x384 6 persons, 139.5ms\n",
      "video 1/1 (235/1411) /content/datasets/Test video/low intensity dance.mp4: 640x384 5 persons, 151.5ms\n",
      "video 1/1 (236/1411) /content/datasets/Test video/low intensity dance.mp4: 640x384 5 persons, 143.5ms\n",
      "video 1/1 (237/1411) /content/datasets/Test video/low intensity dance.mp4: 640x384 5 persons, 147.4ms\n",
      "video 1/1 (238/1411) /content/datasets/Test video/low intensity dance.mp4: 640x384 5 persons, 159.6ms\n",
      "video 1/1 (239/1411) /content/datasets/Test video/low intensity dance.mp4: 640x384 5 persons, 145.1ms\n",
      "video 1/1 (240/1411) /content/datasets/Test video/low intensity dance.mp4: 640x384 4 persons, 151.1ms\n",
      "video 1/1 (241/1411) /content/datasets/Test video/low intensity dance.mp4: 640x384 4 persons, 152.5ms\n",
      "video 1/1 (242/1411) /content/datasets/Test video/low intensity dance.mp4: 640x384 7 persons, 150.6ms\n",
      "video 1/1 (243/1411) /content/datasets/Test video/low intensity dance.mp4: 640x384 5 persons, 161.0ms\n",
      "video 1/1 (244/1411) /content/datasets/Test video/low intensity dance.mp4: 640x384 5 persons, 153.8ms\n",
      "video 1/1 (245/1411) /content/datasets/Test video/low intensity dance.mp4: 640x384 6 persons, 152.6ms\n",
      "video 1/1 (246/1411) /content/datasets/Test video/low intensity dance.mp4: 640x384 5 persons, 159.4ms\n",
      "video 1/1 (247/1411) /content/datasets/Test video/low intensity dance.mp4: 640x384 6 persons, 147.8ms\n",
      "video 1/1 (248/1411) /content/datasets/Test video/low intensity dance.mp4: 640x384 6 persons, 146.6ms\n",
      "video 1/1 (249/1411) /content/datasets/Test video/low intensity dance.mp4: 640x384 4 persons, 158.7ms\n",
      "video 1/1 (250/1411) /content/datasets/Test video/low intensity dance.mp4: 640x384 3 persons, 147.6ms\n",
      "video 1/1 (251/1411) /content/datasets/Test video/low intensity dance.mp4: 640x384 6 persons, 142.3ms\n",
      "video 1/1 (252/1411) /content/datasets/Test video/low intensity dance.mp4: 640x384 5 persons, 156.1ms\n",
      "video 1/1 (253/1411) /content/datasets/Test video/low intensity dance.mp4: 640x384 6 persons, 145.7ms\n",
      "video 1/1 (254/1411) /content/datasets/Test video/low intensity dance.mp4: 640x384 3 persons, 146.3ms\n",
      "video 1/1 (255/1411) /content/datasets/Test video/low intensity dance.mp4: 640x384 7 persons, 160.7ms\n",
      "video 1/1 (256/1411) /content/datasets/Test video/low intensity dance.mp4: 640x384 7 persons, 148.0ms\n",
      "video 1/1 (257/1411) /content/datasets/Test video/low intensity dance.mp4: 640x384 4 persons, 148.8ms\n",
      "video 1/1 (258/1411) /content/datasets/Test video/low intensity dance.mp4: 640x384 7 persons, 146.3ms\n",
      "video 1/1 (259/1411) /content/datasets/Test video/low intensity dance.mp4: 640x384 6 persons, 147.1ms\n",
      "video 1/1 (260/1411) /content/datasets/Test video/low intensity dance.mp4: 640x384 5 persons, 148.6ms\n",
      "video 1/1 (261/1411) /content/datasets/Test video/low intensity dance.mp4: 640x384 5 persons, 157.6ms\n",
      "video 1/1 (262/1411) /content/datasets/Test video/low intensity dance.mp4: 640x384 4 persons, 146.8ms\n",
      "video 1/1 (263/1411) /content/datasets/Test video/low intensity dance.mp4: 640x384 5 persons, 157.1ms\n",
      "video 1/1 (264/1411) /content/datasets/Test video/low intensity dance.mp4: 640x384 6 persons, 147.2ms\n",
      "video 1/1 (265/1411) /content/datasets/Test video/low intensity dance.mp4: 640x384 4 persons, 155.7ms\n",
      "video 1/1 (266/1411) /content/datasets/Test video/low intensity dance.mp4: 640x384 4 persons, 165.5ms\n",
      "video 1/1 (267/1411) /content/datasets/Test video/low intensity dance.mp4: 640x384 6 persons, 145.1ms\n",
      "video 1/1 (268/1411) /content/datasets/Test video/low intensity dance.mp4: 640x384 5 persons, 151.0ms\n",
      "video 1/1 (269/1411) /content/datasets/Test video/low intensity dance.mp4: 640x384 5 persons, 153.7ms\n",
      "video 1/1 (270/1411) /content/datasets/Test video/low intensity dance.mp4: 640x384 3 persons, 151.3ms\n",
      "video 1/1 (271/1411) /content/datasets/Test video/low intensity dance.mp4: 640x384 5 persons, 148.2ms\n",
      "video 1/1 (272/1411) /content/datasets/Test video/low intensity dance.mp4: 640x384 2 persons, 161.5ms\n",
      "video 1/1 (273/1411) /content/datasets/Test video/low intensity dance.mp4: 640x384 3 persons, 143.3ms\n",
      "video 1/1 (274/1411) /content/datasets/Test video/low intensity dance.mp4: 640x384 3 persons, 146.6ms\n",
      "video 1/1 (275/1411) /content/datasets/Test video/low intensity dance.mp4: 640x384 4 persons, 153.0ms\n",
      "video 1/1 (276/1411) /content/datasets/Test video/low intensity dance.mp4: 640x384 2 persons, 168.5ms\n",
      "video 1/1 (277/1411) /content/datasets/Test video/low intensity dance.mp4: 640x384 4 persons, 227.4ms\n",
      "video 1/1 (278/1411) /content/datasets/Test video/low intensity dance.mp4: 640x384 2 persons, 214.5ms\n",
      "video 1/1 (279/1411) /content/datasets/Test video/low intensity dance.mp4: 640x384 2 persons, 220.0ms\n",
      "video 1/1 (280/1411) /content/datasets/Test video/low intensity dance.mp4: 640x384 2 persons, 219.0ms\n",
      "video 1/1 (281/1411) /content/datasets/Test video/low intensity dance.mp4: 640x384 2 persons, 214.2ms\n",
      "video 1/1 (282/1411) /content/datasets/Test video/low intensity dance.mp4: 640x384 1 person, 218.8ms\n",
      "video 1/1 (283/1411) /content/datasets/Test video/low intensity dance.mp4: 640x384 2 persons, 208.5ms\n",
      "video 1/1 (284/1411) /content/datasets/Test video/low intensity dance.mp4: 640x384 3 persons, 207.2ms\n",
      "video 1/1 (285/1411) /content/datasets/Test video/low intensity dance.mp4: 640x384 2 persons, 213.0ms\n",
      "video 1/1 (286/1411) /content/datasets/Test video/low intensity dance.mp4: 640x384 3 persons, 228.0ms\n",
      "video 1/1 (287/1411) /content/datasets/Test video/low intensity dance.mp4: 640x384 2 persons, 238.4ms\n",
      "video 1/1 (288/1411) /content/datasets/Test video/low intensity dance.mp4: 640x384 3 persons, 785.9ms\n",
      "video 1/1 (289/1411) /content/datasets/Test video/low intensity dance.mp4: 640x384 3 persons, 307.3ms\n",
      "video 1/1 (290/1411) /content/datasets/Test video/low intensity dance.mp4: 640x384 3 persons, 138.1ms\n",
      "video 1/1 (291/1411) /content/datasets/Test video/low intensity dance.mp4: 640x384 6 persons, 146.0ms\n",
      "video 1/1 (292/1411) /content/datasets/Test video/low intensity dance.mp4: 640x384 6 persons, 561.8ms\n",
      "video 1/1 (293/1411) /content/datasets/Test video/low intensity dance.mp4: 640x384 5 persons, 153.0ms\n",
      "video 1/1 (294/1411) /content/datasets/Test video/low intensity dance.mp4: 640x384 6 persons, 155.6ms\n",
      "video 1/1 (295/1411) /content/datasets/Test video/low intensity dance.mp4: 640x384 6 persons, 148.3ms\n",
      "video 1/1 (296/1411) /content/datasets/Test video/low intensity dance.mp4: 640x384 4 persons, 167.4ms\n",
      "video 1/1 (297/1411) /content/datasets/Test video/low intensity dance.mp4: 640x384 5 persons, 159.3ms\n",
      "video 1/1 (298/1411) /content/datasets/Test video/low intensity dance.mp4: 640x384 5 persons, 158.4ms\n",
      "video 1/1 (299/1411) /content/datasets/Test video/low intensity dance.mp4: 640x384 7 persons, 165.5ms\n",
      "video 1/1 (300/1411) /content/datasets/Test video/low intensity dance.mp4: 640x384 6 persons, 154.0ms\n",
      "video 1/1 (301/1411) /content/datasets/Test video/low intensity dance.mp4: 640x384 6 persons, 187.6ms\n",
      "video 1/1 (302/1411) /content/datasets/Test video/low intensity dance.mp4: 640x384 5 persons, 166.1ms\n",
      "video 1/1 (303/1411) /content/datasets/Test video/low intensity dance.mp4: 640x384 5 persons, 164.0ms\n",
      "video 1/1 (304/1411) /content/datasets/Test video/low intensity dance.mp4: 640x384 5 persons, 154.3ms\n",
      "video 1/1 (305/1411) /content/datasets/Test video/low intensity dance.mp4: 640x384 4 persons, 158.5ms\n",
      "video 1/1 (306/1411) /content/datasets/Test video/low intensity dance.mp4: 640x384 5 persons, 163.2ms\n",
      "video 1/1 (307/1411) /content/datasets/Test video/low intensity dance.mp4: 640x384 4 persons, 158.8ms\n",
      "video 1/1 (308/1411) /content/datasets/Test video/low intensity dance.mp4: 640x384 5 persons, 153.8ms\n",
      "video 1/1 (309/1411) /content/datasets/Test video/low intensity dance.mp4: 640x384 5 persons, 157.3ms\n",
      "video 1/1 (310/1411) /content/datasets/Test video/low intensity dance.mp4: 640x384 5 persons, 155.6ms\n",
      "video 1/1 (311/1411) /content/datasets/Test video/low intensity dance.mp4: 640x384 5 persons, 151.8ms\n",
      "video 1/1 (312/1411) /content/datasets/Test video/low intensity dance.mp4: 640x384 4 persons, 176.3ms\n",
      "video 1/1 (313/1411) /content/datasets/Test video/low intensity dance.mp4: 640x384 5 persons, 148.9ms\n",
      "video 1/1 (314/1411) /content/datasets/Test video/low intensity dance.mp4: 640x384 5 persons, 160.9ms\n",
      "video 1/1 (315/1411) /content/datasets/Test video/low intensity dance.mp4: 640x384 5 persons, 148.9ms\n",
      "video 1/1 (316/1411) /content/datasets/Test video/low intensity dance.mp4: 640x384 5 persons, 145.9ms\n",
      "video 1/1 (317/1411) /content/datasets/Test video/low intensity dance.mp4: 640x384 5 persons, 159.5ms\n",
      "video 1/1 (318/1411) /content/datasets/Test video/low intensity dance.mp4: 640x384 5 persons, 163.4ms\n",
      "video 1/1 (319/1411) /content/datasets/Test video/low intensity dance.mp4: 640x384 4 persons, 151.4ms\n",
      "video 1/1 (320/1411) /content/datasets/Test video/low intensity dance.mp4: 640x384 4 persons, 147.5ms\n",
      "video 1/1 (321/1411) /content/datasets/Test video/low intensity dance.mp4: 640x384 5 persons, 151.3ms\n",
      "video 1/1 (322/1411) /content/datasets/Test video/low intensity dance.mp4: 640x384 5 persons, 153.5ms\n",
      "video 1/1 (323/1411) /content/datasets/Test video/low intensity dance.mp4: 640x384 5 persons, 153.5ms\n",
      "video 1/1 (324/1411) /content/datasets/Test video/low intensity dance.mp4: 640x384 5 persons, 149.0ms\n",
      "video 1/1 (325/1411) /content/datasets/Test video/low intensity dance.mp4: 640x384 5 persons, 142.7ms\n",
      "video 1/1 (326/1411) /content/datasets/Test video/low intensity dance.mp4: 640x384 5 persons, 147.0ms\n",
      "video 1/1 (327/1411) /content/datasets/Test video/low intensity dance.mp4: 640x384 4 persons, 152.6ms\n",
      "video 1/1 (328/1411) /content/datasets/Test video/low intensity dance.mp4: 640x384 4 persons, 148.4ms\n",
      "video 1/1 (329/1411) /content/datasets/Test video/low intensity dance.mp4: 640x384 5 persons, 160.9ms\n",
      "video 1/1 (330/1411) /content/datasets/Test video/low intensity dance.mp4: 640x384 5 persons, 148.9ms\n",
      "video 1/1 (331/1411) /content/datasets/Test video/low intensity dance.mp4: 640x384 6 persons, 145.7ms\n",
      "video 1/1 (332/1411) /content/datasets/Test video/low intensity dance.mp4: 640x384 5 persons, 144.6ms\n",
      "video 1/1 (333/1411) /content/datasets/Test video/low intensity dance.mp4: 640x384 6 persons, 153.3ms\n",
      "video 1/1 (334/1411) /content/datasets/Test video/low intensity dance.mp4: 640x384 6 persons, 152.5ms\n",
      "video 1/1 (335/1411) /content/datasets/Test video/low intensity dance.mp4: 640x384 8 persons, 160.4ms\n",
      "video 1/1 (336/1411) /content/datasets/Test video/low intensity dance.mp4: 640x384 6 persons, 143.4ms\n",
      "video 1/1 (337/1411) /content/datasets/Test video/low intensity dance.mp4: 640x384 4 persons, 150.8ms\n",
      "video 1/1 (338/1411) /content/datasets/Test video/low intensity dance.mp4: 640x384 4 persons, 152.6ms\n",
      "video 1/1 (339/1411) /content/datasets/Test video/low intensity dance.mp4: 640x384 3 persons, 156.6ms\n",
      "video 1/1 (340/1411) /content/datasets/Test video/low intensity dance.mp4: 640x384 3 persons, 155.7ms\n",
      "video 1/1 (341/1411) /content/datasets/Test video/low intensity dance.mp4: 640x384 4 persons, 244.1ms\n",
      "video 1/1 (342/1411) /content/datasets/Test video/low intensity dance.mp4: 640x384 4 persons, 219.3ms\n",
      "video 1/1 (343/1411) /content/datasets/Test video/low intensity dance.mp4: 640x384 4 persons, 224.4ms\n",
      "video 1/1 (344/1411) /content/datasets/Test video/low intensity dance.mp4: 640x384 4 persons, 234.3ms\n",
      "video 1/1 (345/1411) /content/datasets/Test video/low intensity dance.mp4: 640x384 6 persons, 233.2ms\n",
      "video 1/1 (346/1411) /content/datasets/Test video/low intensity dance.mp4: 640x384 6 persons, 218.6ms\n",
      "video 1/1 (347/1411) /content/datasets/Test video/low intensity dance.mp4: 640x384 5 persons, 236.1ms\n",
      "video 1/1 (348/1411) /content/datasets/Test video/low intensity dance.mp4: 640x384 5 persons, 246.1ms\n",
      "video 1/1 (349/1411) /content/datasets/Test video/low intensity dance.mp4: 640x384 5 persons, 227.9ms\n",
      "video 1/1 (350/1411) /content/datasets/Test video/low intensity dance.mp4: 640x384 5 persons, 225.9ms\n",
      "video 1/1 (351/1411) /content/datasets/Test video/low intensity dance.mp4: 640x384 5 persons, 240.7ms\n",
      "video 1/1 (352/1411) /content/datasets/Test video/low intensity dance.mp4: 640x384 5 persons, 240.1ms\n",
      "video 1/1 (353/1411) /content/datasets/Test video/low intensity dance.mp4: 640x384 4 persons, 235.1ms\n",
      "video 1/1 (354/1411) /content/datasets/Test video/low intensity dance.mp4: 640x384 4 persons, 238.1ms\n",
      "video 1/1 (355/1411) /content/datasets/Test video/low intensity dance.mp4: 640x384 5 persons, 159.3ms\n",
      "video 1/1 (356/1411) /content/datasets/Test video/low intensity dance.mp4: 640x384 4 persons, 158.0ms\n",
      "video 1/1 (357/1411) /content/datasets/Test video/low intensity dance.mp4: 640x384 5 persons, 169.7ms\n",
      "video 1/1 (358/1411) /content/datasets/Test video/low intensity dance.mp4: 640x384 4 persons, 153.5ms\n",
      "video 1/1 (359/1411) /content/datasets/Test video/low intensity dance.mp4: 640x384 6 persons, 166.7ms\n",
      "video 1/1 (360/1411) /content/datasets/Test video/low intensity dance.mp4: 640x384 3 persons, 167.4ms\n",
      "video 1/1 (361/1411) /content/datasets/Test video/low intensity dance.mp4: 640x384 6 persons, 163.5ms\n",
      "video 1/1 (362/1411) /content/datasets/Test video/low intensity dance.mp4: 640x384 5 persons, 174.4ms\n",
      "video 1/1 (363/1411) /content/datasets/Test video/low intensity dance.mp4: 640x384 5 persons, 163.8ms\n",
      "video 1/1 (364/1411) /content/datasets/Test video/low intensity dance.mp4: 640x384 5 persons, 161.5ms\n",
      "video 1/1 (365/1411) /content/datasets/Test video/low intensity dance.mp4: 640x384 5 persons, 164.0ms\n",
      "video 1/1 (366/1411) /content/datasets/Test video/low intensity dance.mp4: 640x384 5 persons, 163.2ms\n",
      "video 1/1 (367/1411) /content/datasets/Test video/low intensity dance.mp4: 640x384 4 persons, 175.1ms\n",
      "video 1/1 (368/1411) /content/datasets/Test video/low intensity dance.mp4: 640x384 4 persons, 160.1ms\n",
      "video 1/1 (369/1411) /content/datasets/Test video/low intensity dance.mp4: 640x384 4 persons, 163.4ms\n",
      "video 1/1 (370/1411) /content/datasets/Test video/low intensity dance.mp4: 640x384 4 persons, 157.6ms\n",
      "video 1/1 (371/1411) /content/datasets/Test video/low intensity dance.mp4: 640x384 4 persons, 163.7ms\n",
      "video 1/1 (372/1411) /content/datasets/Test video/low intensity dance.mp4: 640x384 5 persons, 161.1ms\n",
      "video 1/1 (373/1411) /content/datasets/Test video/low intensity dance.mp4: 640x384 3 persons, 168.7ms\n",
      "video 1/1 (374/1411) /content/datasets/Test video/low intensity dance.mp4: 640x384 4 persons, 154.5ms\n",
      "video 1/1 (375/1411) /content/datasets/Test video/low intensity dance.mp4: 640x384 7 persons, 160.8ms\n",
      "video 1/1 (376/1411) /content/datasets/Test video/low intensity dance.mp4: 640x384 7 persons, 159.4ms\n",
      "video 1/1 (377/1411) /content/datasets/Test video/low intensity dance.mp4: 640x384 8 persons, 166.8ms\n",
      "video 1/1 (378/1411) /content/datasets/Test video/low intensity dance.mp4: 640x384 4 persons, 176.3ms\n",
      "video 1/1 (379/1411) /content/datasets/Test video/low intensity dance.mp4: 640x384 5 persons, 160.7ms\n",
      "video 1/1 (380/1411) /content/datasets/Test video/low intensity dance.mp4: 640x384 5 persons, 167.2ms\n",
      "video 1/1 (381/1411) /content/datasets/Test video/low intensity dance.mp4: 640x384 5 persons, 164.7ms\n",
      "video 1/1 (382/1411) /content/datasets/Test video/low intensity dance.mp4: 640x384 5 persons, 162.5ms\n",
      "video 1/1 (383/1411) /content/datasets/Test video/low intensity dance.mp4: 640x384 6 persons, 162.0ms\n",
      "video 1/1 (384/1411) /content/datasets/Test video/low intensity dance.mp4: 640x384 5 persons, 157.5ms\n",
      "video 1/1 (385/1411) /content/datasets/Test video/low intensity dance.mp4: 640x384 4 persons, 162.1ms\n",
      "video 1/1 (386/1411) /content/datasets/Test video/low intensity dance.mp4: 640x384 6 persons, 168.6ms\n",
      "video 1/1 (387/1411) /content/datasets/Test video/low intensity dance.mp4: 640x384 5 persons, 162.4ms\n",
      "video 1/1 (388/1411) /content/datasets/Test video/low intensity dance.mp4: 640x384 5 persons, 174.4ms\n",
      "video 1/1 (389/1411) /content/datasets/Test video/low intensity dance.mp4: 640x384 5 persons, 169.9ms\n",
      "video 1/1 (390/1411) /content/datasets/Test video/low intensity dance.mp4: 640x384 5 persons, 159.5ms\n",
      "video 1/1 (391/1411) /content/datasets/Test video/low intensity dance.mp4: 640x384 5 persons, 168.6ms\n",
      "video 1/1 (392/1411) /content/datasets/Test video/low intensity dance.mp4: 640x384 5 persons, 161.1ms\n",
      "video 1/1 (393/1411) /content/datasets/Test video/low intensity dance.mp4: 640x384 5 persons, 161.3ms\n",
      "video 1/1 (394/1411) /content/datasets/Test video/low intensity dance.mp4: 640x384 5 persons, 171.2ms\n",
      "video 1/1 (395/1411) /content/datasets/Test video/low intensity dance.mp4: 640x384 4 persons, 165.5ms\n",
      "video 1/1 (396/1411) /content/datasets/Test video/low intensity dance.mp4: 640x384 4 persons, 163.9ms\n",
      "video 1/1 (397/1411) /content/datasets/Test video/low intensity dance.mp4: 640x384 5 persons, 163.3ms\n",
      "video 1/1 (398/1411) /content/datasets/Test video/low intensity dance.mp4: 640x384 5 persons, 158.9ms\n",
      "video 1/1 (399/1411) /content/datasets/Test video/low intensity dance.mp4: 640x384 5 persons, 175.0ms\n",
      "video 1/1 (400/1411) /content/datasets/Test video/low intensity dance.mp4: 640x384 4 persons, 170.9ms\n",
      "video 1/1 (401/1411) /content/datasets/Test video/low intensity dance.mp4: 640x384 4 persons, 163.1ms\n",
      "video 1/1 (402/1411) /content/datasets/Test video/low intensity dance.mp4: 640x384 4 persons, 171.2ms\n",
      "video 1/1 (403/1411) /content/datasets/Test video/low intensity dance.mp4: 640x384 4 persons, 164.2ms\n",
      "video 1/1 (404/1411) /content/datasets/Test video/low intensity dance.mp4: 640x384 5 persons, 170.5ms\n",
      "video 1/1 (405/1411) /content/datasets/Test video/low intensity dance.mp4: 640x384 4 persons, 169.0ms\n",
      "video 1/1 (406/1411) /content/datasets/Test video/low intensity dance.mp4: 640x384 4 persons, 232.7ms\n",
      "video 1/1 (407/1411) /content/datasets/Test video/low intensity dance.mp4: 640x384 4 persons, 252.4ms\n",
      "video 1/1 (408/1411) /content/datasets/Test video/low intensity dance.mp4: 640x384 4 persons, 510.5ms\n",
      "video 1/1 (409/1411) /content/datasets/Test video/low intensity dance.mp4: 640x384 4 persons, 281.5ms\n",
      "video 1/1 (410/1411) /content/datasets/Test video/low intensity dance.mp4: 640x384 4 persons, 241.9ms\n",
      "video 1/1 (411/1411) /content/datasets/Test video/low intensity dance.mp4: 640x384 4 persons, 538.8ms\n",
      "video 1/1 (412/1411) /content/datasets/Test video/low intensity dance.mp4: 640x384 5 persons, 240.1ms\n",
      "video 1/1 (413/1411) /content/datasets/Test video/low intensity dance.mp4: 640x384 5 persons, 631.3ms\n",
      "video 1/1 (414/1411) /content/datasets/Test video/low intensity dance.mp4: 640x384 5 persons, 254.6ms\n",
      "video 1/1 (415/1411) /content/datasets/Test video/low intensity dance.mp4: 640x384 5 persons, 262.8ms\n",
      "video 1/1 (416/1411) /content/datasets/Test video/low intensity dance.mp4: 640x384 6 persons, 165.5ms\n",
      "video 1/1 (417/1411) /content/datasets/Test video/low intensity dance.mp4: 640x384 4 persons, 163.4ms\n",
      "video 1/1 (418/1411) /content/datasets/Test video/low intensity dance.mp4: 640x384 4 persons, 165.3ms\n",
      "video 1/1 (419/1411) /content/datasets/Test video/low intensity dance.mp4: 640x384 4 persons, 173.2ms\n",
      "video 1/1 (420/1411) /content/datasets/Test video/low intensity dance.mp4: 640x384 4 persons, 181.8ms\n",
      "video 1/1 (421/1411) /content/datasets/Test video/low intensity dance.mp4: 640x384 4 persons, 169.6ms\n",
      "video 1/1 (422/1411) /content/datasets/Test video/low intensity dance.mp4: 640x384 6 persons, 168.4ms\n",
      "video 1/1 (423/1411) /content/datasets/Test video/low intensity dance.mp4: 640x384 6 persons, 164.9ms\n",
      "video 1/1 (424/1411) /content/datasets/Test video/low intensity dance.mp4: 640x384 4 persons, 160.2ms\n",
      "video 1/1 (425/1411) /content/datasets/Test video/low intensity dance.mp4: 640x384 6 persons, 164.6ms\n",
      "video 1/1 (426/1411) /content/datasets/Test video/low intensity dance.mp4: 640x384 6 persons, 170.9ms\n",
      "video 1/1 (427/1411) /content/datasets/Test video/low intensity dance.mp4: 640x384 6 persons, 164.5ms\n",
      "video 1/1 (428/1411) /content/datasets/Test video/low intensity dance.mp4: 640x384 6 persons, 168.9ms\n",
      "video 1/1 (429/1411) /content/datasets/Test video/low intensity dance.mp4: 640x384 6 persons, 168.7ms\n",
      "video 1/1 (430/1411) /content/datasets/Test video/low intensity dance.mp4: 640x384 6 persons, 165.7ms\n",
      "video 1/1 (431/1411) /content/datasets/Test video/low intensity dance.mp4: 640x384 7 persons, 181.6ms\n",
      "video 1/1 (432/1411) /content/datasets/Test video/low intensity dance.mp4: 640x384 8 persons, 166.1ms\n",
      "video 1/1 (433/1411) /content/datasets/Test video/low intensity dance.mp4: 640x384 4 persons, 169.3ms\n",
      "video 1/1 (434/1411) /content/datasets/Test video/low intensity dance.mp4: 640x384 5 persons, 162.4ms\n",
      "video 1/1 (435/1411) /content/datasets/Test video/low intensity dance.mp4: 640x384 5 persons, 174.0ms\n",
      "video 1/1 (436/1411) /content/datasets/Test video/low intensity dance.mp4: 640x384 5 persons, 181.6ms\n",
      "video 1/1 (437/1411) /content/datasets/Test video/low intensity dance.mp4: 640x384 6 persons, 169.8ms\n",
      "video 1/1 (438/1411) /content/datasets/Test video/low intensity dance.mp4: 640x384 5 persons, 166.1ms\n",
      "video 1/1 (439/1411) /content/datasets/Test video/low intensity dance.mp4: 640x384 5 persons, 162.6ms\n",
      "video 1/1 (440/1411) /content/datasets/Test video/low intensity dance.mp4: 640x384 5 persons, 171.7ms\n",
      "video 1/1 (441/1411) /content/datasets/Test video/low intensity dance.mp4: 640x384 6 persons, 182.1ms\n",
      "video 1/1 (442/1411) /content/datasets/Test video/low intensity dance.mp4: 640x384 6 persons, 171.8ms\n",
      "video 1/1 (443/1411) /content/datasets/Test video/low intensity dance.mp4: 640x384 6 persons, 167.3ms\n",
      "video 1/1 (444/1411) /content/datasets/Test video/low intensity dance.mp4: 640x384 6 persons, 171.6ms\n",
      "video 1/1 (445/1411) /content/datasets/Test video/low intensity dance.mp4: 640x384 5 persons, 172.1ms\n",
      "video 1/1 (446/1411) /content/datasets/Test video/low intensity dance.mp4: 640x384 5 persons, 200.6ms\n",
      "video 1/1 (447/1411) /content/datasets/Test video/low intensity dance.mp4: 640x384 7 persons, 166.6ms\n",
      "video 1/1 (448/1411) /content/datasets/Test video/low intensity dance.mp4: 640x384 7 persons, 156.8ms\n",
      "video 1/1 (449/1411) /content/datasets/Test video/low intensity dance.mp4: 640x384 5 persons, 159.3ms\n",
      "video 1/1 (450/1411) /content/datasets/Test video/low intensity dance.mp4: 640x384 5 persons, 173.7ms\n",
      "video 1/1 (451/1411) /content/datasets/Test video/low intensity dance.mp4: 640x384 7 persons, 179.7ms\n",
      "video 1/1 (452/1411) /content/datasets/Test video/low intensity dance.mp4: 640x384 5 persons, 159.8ms\n",
      "video 1/1 (453/1411) /content/datasets/Test video/low intensity dance.mp4: 640x384 6 persons, 159.6ms\n",
      "video 1/1 (454/1411) /content/datasets/Test video/low intensity dance.mp4: 640x384 6 persons, 177.0ms\n",
      "video 1/1 (455/1411) /content/datasets/Test video/low intensity dance.mp4: 640x384 6 persons, 159.7ms\n",
      "video 1/1 (456/1411) /content/datasets/Test video/low intensity dance.mp4: 640x384 5 persons, 179.7ms\n",
      "video 1/1 (457/1411) /content/datasets/Test video/low intensity dance.mp4: 640x384 4 persons, 163.8ms\n",
      "video 1/1 (458/1411) /content/datasets/Test video/low intensity dance.mp4: 640x384 5 persons, 157.8ms\n",
      "video 1/1 (459/1411) /content/datasets/Test video/low intensity dance.mp4: 640x384 5 persons, 162.6ms\n",
      "video 1/1 (460/1411) /content/datasets/Test video/low intensity dance.mp4: 640x384 5 persons, 163.4ms\n",
      "video 1/1 (461/1411) /content/datasets/Test video/low intensity dance.mp4: 640x384 5 persons, 164.1ms\n",
      "video 1/1 (462/1411) /content/datasets/Test video/low intensity dance.mp4: 640x384 5 persons, 167.6ms\n",
      "video 1/1 (463/1411) /content/datasets/Test video/low intensity dance.mp4: 640x384 5 persons, 163.0ms\n",
      "video 1/1 (464/1411) /content/datasets/Test video/low intensity dance.mp4: 640x384 4 persons, 162.5ms\n",
      "video 1/1 (465/1411) /content/datasets/Test video/low intensity dance.mp4: 640x384 5 persons, 165.5ms\n",
      "video 1/1 (466/1411) /content/datasets/Test video/low intensity dance.mp4: 640x384 5 persons, 262.6ms\n",
      "video 1/1 (467/1411) /content/datasets/Test video/low intensity dance.mp4: 640x384 4 persons, 251.0ms\n",
      "video 1/1 (468/1411) /content/datasets/Test video/low intensity dance.mp4: 640x384 5 persons, 251.1ms\n",
      "video 1/1 (469/1411) /content/datasets/Test video/low intensity dance.mp4: 640x384 6 persons, 245.0ms\n",
      "video 1/1 (470/1411) /content/datasets/Test video/low intensity dance.mp4: 640x384 7 persons, 251.2ms\n",
      "video 1/1 (471/1411) /content/datasets/Test video/low intensity dance.mp4: 640x384 5 persons, 242.4ms\n",
      "video 1/1 (472/1411) /content/datasets/Test video/low intensity dance.mp4: 640x384 5 persons, 257.6ms\n",
      "video 1/1 (473/1411) /content/datasets/Test video/low intensity dance.mp4: 640x384 6 persons, 249.7ms\n",
      "video 1/1 (474/1411) /content/datasets/Test video/low intensity dance.mp4: 640x384 6 persons, 236.4ms\n",
      "video 1/1 (475/1411) /content/datasets/Test video/low intensity dance.mp4: 640x384 6 persons, 247.3ms\n",
      "video 1/1 (476/1411) /content/datasets/Test video/low intensity dance.mp4: 640x384 6 persons, 256.2ms\n",
      "video 1/1 (477/1411) /content/datasets/Test video/low intensity dance.mp4: 640x384 6 persons, 249.4ms\n",
      "video 1/1 (478/1411) /content/datasets/Test video/low intensity dance.mp4: 640x384 6 persons, 216.7ms\n",
      "video 1/1 (479/1411) /content/datasets/Test video/low intensity dance.mp4: 640x384 6 persons, 158.8ms\n",
      "video 1/1 (480/1411) /content/datasets/Test video/low intensity dance.mp4: 640x384 6 persons, 153.4ms\n",
      "video 1/1 (481/1411) /content/datasets/Test video/low intensity dance.mp4: 640x384 6 persons, 158.1ms\n",
      "video 1/1 (482/1411) /content/datasets/Test video/low intensity dance.mp4: 640x384 7 persons, 164.6ms\n",
      "video 1/1 (483/1411) /content/datasets/Test video/low intensity dance.mp4: 640x384 6 persons, 150.5ms\n",
      "video 1/1 (484/1411) /content/datasets/Test video/low intensity dance.mp4: 640x384 7 persons, 157.3ms\n",
      "video 1/1 (485/1411) /content/datasets/Test video/low intensity dance.mp4: 640x384 5 persons, 153.7ms\n",
      "video 1/1 (486/1411) /content/datasets/Test video/low intensity dance.mp4: 640x384 5 persons, 155.4ms\n",
      "video 1/1 (487/1411) /content/datasets/Test video/low intensity dance.mp4: 640x384 5 persons, 157.7ms\n",
      "video 1/1 (488/1411) /content/datasets/Test video/low intensity dance.mp4: 640x384 5 persons, 151.4ms\n",
      "video 1/1 (489/1411) /content/datasets/Test video/low intensity dance.mp4: 640x384 6 persons, 159.3ms\n",
      "video 1/1 (490/1411) /content/datasets/Test video/low intensity dance.mp4: 640x384 7 persons, 148.4ms\n",
      "video 1/1 (491/1411) /content/datasets/Test video/low intensity dance.mp4: 640x384 6 persons, 156.1ms\n",
      "video 1/1 (492/1411) /content/datasets/Test video/low intensity dance.mp4: 640x384 5 persons, 151.6ms\n",
      "video 1/1 (493/1411) /content/datasets/Test video/low intensity dance.mp4: 640x384 4 persons, 161.5ms\n",
      "video 1/1 (494/1411) /content/datasets/Test video/low intensity dance.mp4: 640x384 6 persons, 166.2ms\n",
      "video 1/1 (495/1411) /content/datasets/Test video/low intensity dance.mp4: 640x384 4 persons, 157.0ms\n",
      "video 1/1 (496/1411) /content/datasets/Test video/low intensity dance.mp4: 640x384 5 persons, 158.2ms\n",
      "video 1/1 (497/1411) /content/datasets/Test video/low intensity dance.mp4: 640x384 5 persons, 158.9ms\n",
      "video 1/1 (498/1411) /content/datasets/Test video/low intensity dance.mp4: 640x384 3 persons, 172.7ms\n",
      "video 1/1 (499/1411) /content/datasets/Test video/low intensity dance.mp4: 640x384 3 persons, 159.3ms\n",
      "video 1/1 (500/1411) /content/datasets/Test video/low intensity dance.mp4: 640x384 4 persons, 163.6ms\n",
      "video 1/1 (501/1411) /content/datasets/Test video/low intensity dance.mp4: 640x384 5 persons, 168.4ms\n",
      "video 1/1 (502/1411) /content/datasets/Test video/low intensity dance.mp4: 640x384 5 persons, 163.8ms\n",
      "video 1/1 (503/1411) /content/datasets/Test video/low intensity dance.mp4: 640x384 6 persons, 162.5ms\n",
      "video 1/1 (504/1411) /content/datasets/Test video/low intensity dance.mp4: 640x384 5 persons, 165.8ms\n",
      "video 1/1 (505/1411) /content/datasets/Test video/low intensity dance.mp4: 640x384 6 persons, 169.9ms\n",
      "video 1/1 (506/1411) /content/datasets/Test video/low intensity dance.mp4: 640x384 6 persons, 160.8ms\n",
      "video 1/1 (507/1411) /content/datasets/Test video/low intensity dance.mp4: 640x384 7 persons, 163.7ms\n",
      "video 1/1 (508/1411) /content/datasets/Test video/low intensity dance.mp4: 640x384 7 persons, 164.6ms\n",
      "video 1/1 (509/1411) /content/datasets/Test video/low intensity dance.mp4: 640x384 5 persons, 181.1ms\n",
      "video 1/1 (510/1411) /content/datasets/Test video/low intensity dance.mp4: 640x384 7 persons, 165.2ms\n",
      "video 1/1 (511/1411) /content/datasets/Test video/low intensity dance.mp4: 640x384 6 persons, 165.8ms\n",
      "video 1/1 (512/1411) /content/datasets/Test video/low intensity dance.mp4: 640x384 4 persons, 171.0ms\n",
      "video 1/1 (513/1411) /content/datasets/Test video/low intensity dance.mp4: 640x384 6 persons, 164.2ms\n",
      "video 1/1 (514/1411) /content/datasets/Test video/low intensity dance.mp4: 640x384 7 persons, 175.1ms\n",
      "video 1/1 (515/1411) /content/datasets/Test video/low intensity dance.mp4: 640x384 7 persons, 157.8ms\n",
      "video 1/1 (516/1411) /content/datasets/Test video/low intensity dance.mp4: 640x384 5 persons, 164.2ms\n",
      "video 1/1 (517/1411) /content/datasets/Test video/low intensity dance.mp4: 640x384 5 persons, 160.2ms\n",
      "video 1/1 (518/1411) /content/datasets/Test video/low intensity dance.mp4: 640x384 6 persons, 156.0ms\n",
      "video 1/1 (519/1411) /content/datasets/Test video/low intensity dance.mp4: 640x384 4 persons, 169.9ms\n",
      "video 1/1 (520/1411) /content/datasets/Test video/low intensity dance.mp4: 640x384 4 persons, 164.9ms\n",
      "video 1/1 (521/1411) /content/datasets/Test video/low intensity dance.mp4: 640x384 5 persons, 162.3ms\n",
      "video 1/1 (522/1411) /content/datasets/Test video/low intensity dance.mp4: 640x384 5 persons, 167.4ms\n",
      "video 1/1 (523/1411) /content/datasets/Test video/low intensity dance.mp4: 640x384 5 persons, 160.2ms\n",
      "video 1/1 (524/1411) /content/datasets/Test video/low intensity dance.mp4: 640x384 5 persons, 173.6ms\n",
      "video 1/1 (525/1411) /content/datasets/Test video/low intensity dance.mp4: 640x384 7 persons, 156.6ms\n",
      "video 1/1 (526/1411) /content/datasets/Test video/low intensity dance.mp4: 640x384 5 persons, 164.1ms\n",
      "video 1/1 (527/1411) /content/datasets/Test video/low intensity dance.mp4: 640x384 7 persons, 163.0ms\n",
      "video 1/1 (528/1411) /content/datasets/Test video/low intensity dance.mp4: 640x384 7 persons, 161.1ms\n",
      "video 1/1 (529/1411) /content/datasets/Test video/low intensity dance.mp4: 640x384 6 persons, 157.5ms\n",
      "video 1/1 (530/1411) /content/datasets/Test video/low intensity dance.mp4: 640x384 7 persons, 249.4ms\n",
      "video 1/1 (531/1411) /content/datasets/Test video/low intensity dance.mp4: 640x384 6 persons, 245.8ms\n",
      "video 1/1 (532/1411) /content/datasets/Test video/low intensity dance.mp4: 640x384 6 persons, 236.7ms\n",
      "video 1/1 (533/1411) /content/datasets/Test video/low intensity dance.mp4: 640x384 6 persons, 249.7ms\n",
      "video 1/1 (534/1411) /content/datasets/Test video/low intensity dance.mp4: 640x384 8 persons, 233.0ms\n",
      "video 1/1 (535/1411) /content/datasets/Test video/low intensity dance.mp4: 640x384 6 persons, 236.2ms\n",
      "video 1/1 (536/1411) /content/datasets/Test video/low intensity dance.mp4: 640x384 4 persons, 239.3ms\n",
      "video 1/1 (537/1411) /content/datasets/Test video/low intensity dance.mp4: 640x384 4 persons, 254.6ms\n",
      "video 1/1 (538/1411) /content/datasets/Test video/low intensity dance.mp4: 640x384 4 persons, 239.5ms\n",
      "video 1/1 (539/1411) /content/datasets/Test video/low intensity dance.mp4: 640x384 7 persons, 229.0ms\n",
      "video 1/1 (540/1411) /content/datasets/Test video/low intensity dance.mp4: 640x384 9 persons, 246.0ms\n",
      "video 1/1 (541/1411) /content/datasets/Test video/low intensity dance.mp4: 640x384 8 persons, 254.6ms\n",
      "video 1/1 (542/1411) /content/datasets/Test video/low intensity dance.mp4: 640x384 7 persons, 243.6ms\n",
      "video 1/1 (543/1411) /content/datasets/Test video/low intensity dance.mp4: 640x384 5 persons, 154.0ms\n",
      "video 1/1 (544/1411) /content/datasets/Test video/low intensity dance.mp4: 640x384 5 persons, 159.5ms\n",
      "video 1/1 (545/1411) /content/datasets/Test video/low intensity dance.mp4: 640x384 8 persons, 165.2ms\n",
      "video 1/1 (546/1411) /content/datasets/Test video/low intensity dance.mp4: 640x384 7 persons, 160.8ms\n",
      "video 1/1 (547/1411) /content/datasets/Test video/low intensity dance.mp4: 640x384 8 persons, 160.3ms\n",
      "video 1/1 (548/1411) /content/datasets/Test video/low intensity dance.mp4: 640x384 7 persons, 158.4ms\n",
      "video 1/1 (549/1411) /content/datasets/Test video/low intensity dance.mp4: 640x384 8 persons, 164.9ms\n",
      "video 1/1 (550/1411) /content/datasets/Test video/low intensity dance.mp4: 640x384 8 persons, 166.3ms\n",
      "video 1/1 (551/1411) /content/datasets/Test video/low intensity dance.mp4: 640x384 8 persons, 163.9ms\n",
      "video 1/1 (552/1411) /content/datasets/Test video/low intensity dance.mp4: 640x384 5 persons, 157.7ms\n",
      "video 1/1 (553/1411) /content/datasets/Test video/low intensity dance.mp4: 640x384 6 persons, 166.4ms\n",
      "video 1/1 (554/1411) /content/datasets/Test video/low intensity dance.mp4: 640x384 8 persons, 157.6ms\n",
      "video 1/1 (555/1411) /content/datasets/Test video/low intensity dance.mp4: 640x384 5 persons, 168.1ms\n",
      "video 1/1 (556/1411) /content/datasets/Test video/low intensity dance.mp4: 640x384 7 persons, 162.4ms\n",
      "video 1/1 (557/1411) /content/datasets/Test video/low intensity dance.mp4: 640x384 5 persons, 161.1ms\n",
      "video 1/1 (558/1411) /content/datasets/Test video/low intensity dance.mp4: 640x384 5 persons, 155.5ms\n",
      "video 1/1 (559/1411) /content/datasets/Test video/low intensity dance.mp4: 640x384 6 persons, 155.1ms\n",
      "video 1/1 (560/1411) /content/datasets/Test video/low intensity dance.mp4: 640x384 6 persons, 166.2ms\n",
      "video 1/1 (561/1411) /content/datasets/Test video/low intensity dance.mp4: 640x384 6 persons, 160.7ms\n",
      "video 1/1 (562/1411) /content/datasets/Test video/low intensity dance.mp4: 640x384 6 persons, 163.0ms\n",
      "video 1/1 (563/1411) /content/datasets/Test video/low intensity dance.mp4: 640x384 6 persons, 158.4ms\n",
      "video 1/1 (564/1411) /content/datasets/Test video/low intensity dance.mp4: 640x384 8 persons, 159.0ms\n",
      "video 1/1 (565/1411) /content/datasets/Test video/low intensity dance.mp4: 640x384 5 persons, 162.2ms\n",
      "video 1/1 (566/1411) /content/datasets/Test video/low intensity dance.mp4: 640x384 6 persons, 170.8ms\n",
      "video 1/1 (567/1411) /content/datasets/Test video/low intensity dance.mp4: 640x384 4 persons, 154.2ms\n",
      "video 1/1 (568/1411) /content/datasets/Test video/low intensity dance.mp4: 640x384 5 persons, 159.4ms\n",
      "video 1/1 (569/1411) /content/datasets/Test video/low intensity dance.mp4: 640x384 6 persons, 158.3ms\n",
      "video 1/1 (570/1411) /content/datasets/Test video/low intensity dance.mp4: 640x384 5 persons, 155.9ms\n",
      "video 1/1 (571/1411) /content/datasets/Test video/low intensity dance.mp4: 640x384 5 persons, 175.8ms\n",
      "video 1/1 (572/1411) /content/datasets/Test video/low intensity dance.mp4: 640x384 4 persons, 163.9ms\n",
      "video 1/1 (573/1411) /content/datasets/Test video/low intensity dance.mp4: 640x384 4 persons, 162.9ms\n",
      "video 1/1 (574/1411) /content/datasets/Test video/low intensity dance.mp4: 640x384 4 persons, 163.4ms\n",
      "video 1/1 (575/1411) /content/datasets/Test video/low intensity dance.mp4: 640x384 4 persons, 163.3ms\n",
      "video 1/1 (576/1411) /content/datasets/Test video/low intensity dance.mp4: 640x384 6 persons, 171.1ms\n",
      "video 1/1 (577/1411) /content/datasets/Test video/low intensity dance.mp4: 640x384 5 persons, 159.8ms\n",
      "video 1/1 (578/1411) /content/datasets/Test video/low intensity dance.mp4: 640x384 4 persons, 164.9ms\n",
      "video 1/1 (579/1411) /content/datasets/Test video/low intensity dance.mp4: 640x384 4 persons, 157.7ms\n",
      "video 1/1 (580/1411) /content/datasets/Test video/low intensity dance.mp4: 640x384 4 persons, 164.2ms\n",
      "video 1/1 (581/1411) /content/datasets/Test video/low intensity dance.mp4: 640x384 5 persons, 166.3ms\n",
      "video 1/1 (582/1411) /content/datasets/Test video/low intensity dance.mp4: 640x384 7 persons, 182.0ms\n",
      "video 1/1 (583/1411) /content/datasets/Test video/low intensity dance.mp4: 640x384 6 persons, 156.8ms\n",
      "video 1/1 (584/1411) /content/datasets/Test video/low intensity dance.mp4: 640x384 6 persons, 160.5ms\n",
      "video 1/1 (585/1411) /content/datasets/Test video/low intensity dance.mp4: 640x384 8 persons, 156.4ms\n",
      "video 1/1 (586/1411) /content/datasets/Test video/low intensity dance.mp4: 640x384 7 persons, 157.7ms\n",
      "video 1/1 (587/1411) /content/datasets/Test video/low intensity dance.mp4: 640x384 5 persons, 171.5ms\n",
      "video 1/1 (588/1411) /content/datasets/Test video/low intensity dance.mp4: 640x384 8 persons, 160.4ms\n",
      "video 1/1 (589/1411) /content/datasets/Test video/low intensity dance.mp4: 640x384 6 persons, 153.1ms\n",
      "video 1/1 (590/1411) /content/datasets/Test video/low intensity dance.mp4: 640x384 8 persons, 154.7ms\n",
      "video 1/1 (591/1411) /content/datasets/Test video/low intensity dance.mp4: 640x384 8 persons, 167.8ms\n",
      "video 1/1 (592/1411) /content/datasets/Test video/low intensity dance.mp4: 640x384 8 persons, 172.5ms\n",
      "video 1/1 (593/1411) /content/datasets/Test video/low intensity dance.mp4: 640x384 8 persons, 157.2ms\n",
      "video 1/1 (594/1411) /content/datasets/Test video/low intensity dance.mp4: 640x384 8 persons, 234.7ms\n",
      "video 1/1 (595/1411) /content/datasets/Test video/low intensity dance.mp4: 640x384 9 persons, 238.1ms\n",
      "video 1/1 (596/1411) /content/datasets/Test video/low intensity dance.mp4: 640x384 9 persons, 243.0ms\n",
      "video 1/1 (597/1411) /content/datasets/Test video/low intensity dance.mp4: 640x384 9 persons, 238.0ms\n",
      "video 1/1 (598/1411) /content/datasets/Test video/low intensity dance.mp4: 640x384 9 persons, 230.7ms\n",
      "video 1/1 (599/1411) /content/datasets/Test video/low intensity dance.mp4: 640x384 7 persons, 229.0ms\n",
      "video 1/1 (600/1411) /content/datasets/Test video/low intensity dance.mp4: 640x384 6 persons, 250.3ms\n",
      "video 1/1 (601/1411) /content/datasets/Test video/low intensity dance.mp4: 640x384 7 persons, 241.2ms\n",
      "video 1/1 (602/1411) /content/datasets/Test video/low intensity dance.mp4: 640x384 8 persons, 226.0ms\n",
      "video 1/1 (603/1411) /content/datasets/Test video/low intensity dance.mp4: 640x384 6 persons, 227.6ms\n",
      "video 1/1 (604/1411) /content/datasets/Test video/low intensity dance.mp4: 640x384 6 persons, 232.7ms\n",
      "video 1/1 (605/1411) /content/datasets/Test video/low intensity dance.mp4: 640x384 7 persons, 226.0ms\n",
      "video 1/1 (606/1411) /content/datasets/Test video/low intensity dance.mp4: 640x384 5 persons, 223.8ms\n",
      "video 1/1 (607/1411) /content/datasets/Test video/low intensity dance.mp4: 640x384 5 persons, 163.4ms\n",
      "video 1/1 (608/1411) /content/datasets/Test video/low intensity dance.mp4: 640x384 7 persons, 160.2ms\n",
      "video 1/1 (609/1411) /content/datasets/Test video/low intensity dance.mp4: 640x384 5 persons, 151.4ms\n",
      "video 1/1 (610/1411) /content/datasets/Test video/low intensity dance.mp4: 640x384 6 persons, 148.9ms\n",
      "video 1/1 (611/1411) /content/datasets/Test video/low intensity dance.mp4: 640x384 5 persons, 154.5ms\n",
      "video 1/1 (612/1411) /content/datasets/Test video/low intensity dance.mp4: 640x384 6 persons, 166.9ms\n",
      "video 1/1 (613/1411) /content/datasets/Test video/low intensity dance.mp4: 640x384 8 persons, 162.9ms\n",
      "video 1/1 (614/1411) /content/datasets/Test video/low intensity dance.mp4: 640x384 4 persons, 148.1ms\n",
      "video 1/1 (615/1411) /content/datasets/Test video/low intensity dance.mp4: 640x384 5 persons, 149.3ms\n",
      "video 1/1 (616/1411) /content/datasets/Test video/low intensity dance.mp4: 640x384 5 persons, 155.1ms\n",
      "video 1/1 (617/1411) /content/datasets/Test video/low intensity dance.mp4: 640x384 6 persons, 155.9ms\n",
      "video 1/1 (618/1411) /content/datasets/Test video/low intensity dance.mp4: 640x384 6 persons, 159.3ms\n",
      "video 1/1 (619/1411) /content/datasets/Test video/low intensity dance.mp4: 640x384 5 persons, 161.3ms\n",
      "video 1/1 (620/1411) /content/datasets/Test video/low intensity dance.mp4: 640x384 6 persons, 154.0ms\n",
      "video 1/1 (621/1411) /content/datasets/Test video/low intensity dance.mp4: 640x384 7 persons, 152.7ms\n",
      "video 1/1 (622/1411) /content/datasets/Test video/low intensity dance.mp4: 640x384 7 persons, 156.8ms\n",
      "video 1/1 (623/1411) /content/datasets/Test video/low intensity dance.mp4: 640x384 7 persons, 155.0ms\n",
      "video 1/1 (624/1411) /content/datasets/Test video/low intensity dance.mp4: 640x384 7 persons, 161.9ms\n",
      "video 1/1 (625/1411) /content/datasets/Test video/low intensity dance.mp4: 640x384 6 persons, 150.9ms\n",
      "video 1/1 (626/1411) /content/datasets/Test video/low intensity dance.mp4: 640x384 8 persons, 151.3ms\n",
      "video 1/1 (627/1411) /content/datasets/Test video/low intensity dance.mp4: 640x384 5 persons, 150.1ms\n",
      "video 1/1 (628/1411) /content/datasets/Test video/low intensity dance.mp4: 640x384 5 persons, 157.0ms\n",
      "video 1/1 (629/1411) /content/datasets/Test video/low intensity dance.mp4: 640x384 7 persons, 150.7ms\n",
      "video 1/1 (630/1411) /content/datasets/Test video/low intensity dance.mp4: 640x384 7 persons, 147.1ms\n",
      "video 1/1 (631/1411) /content/datasets/Test video/low intensity dance.mp4: 640x384 7 persons, 145.0ms\n",
      "video 1/1 (632/1411) /content/datasets/Test video/low intensity dance.mp4: 640x384 6 persons, 152.1ms\n",
      "video 1/1 (633/1411) /content/datasets/Test video/low intensity dance.mp4: 640x384 6 persons, 149.5ms\n",
      "video 1/1 (634/1411) /content/datasets/Test video/low intensity dance.mp4: 640x384 6 persons, 150.5ms\n",
      "video 1/1 (635/1411) /content/datasets/Test video/low intensity dance.mp4: 640x384 7 persons, 160.7ms\n",
      "video 1/1 (636/1411) /content/datasets/Test video/low intensity dance.mp4: 640x384 6 persons, 155.5ms\n",
      "video 1/1 (637/1411) /content/datasets/Test video/low intensity dance.mp4: 640x384 5 persons, 150.5ms\n",
      "video 1/1 (638/1411) /content/datasets/Test video/low intensity dance.mp4: 640x384 7 persons, 155.5ms\n",
      "video 1/1 (639/1411) /content/datasets/Test video/low intensity dance.mp4: 640x384 6 persons, 151.6ms\n",
      "video 1/1 (640/1411) /content/datasets/Test video/low intensity dance.mp4: 640x384 6 persons, 162.8ms\n",
      "video 1/1 (641/1411) /content/datasets/Test video/low intensity dance.mp4: 640x384 5 persons, 162.2ms\n",
      "video 1/1 (642/1411) /content/datasets/Test video/low intensity dance.mp4: 640x384 6 persons, 144.9ms\n",
      "video 1/1 (643/1411) /content/datasets/Test video/low intensity dance.mp4: 640x384 6 persons, 151.5ms\n",
      "video 1/1 (644/1411) /content/datasets/Test video/low intensity dance.mp4: 640x384 10 persons, 148.6ms\n",
      "video 1/1 (645/1411) /content/datasets/Test video/low intensity dance.mp4: 640x384 8 persons, 151.0ms\n",
      "video 1/1 (646/1411) /content/datasets/Test video/low intensity dance.mp4: 640x384 8 persons, 159.4ms\n",
      "video 1/1 (647/1411) /content/datasets/Test video/low intensity dance.mp4: 640x384 6 persons, 147.4ms\n",
      "video 1/1 (648/1411) /content/datasets/Test video/low intensity dance.mp4: 640x384 7 persons, 154.6ms\n",
      "video 1/1 (649/1411) /content/datasets/Test video/low intensity dance.mp4: 640x384 6 persons, 144.6ms\n",
      "video 1/1 (650/1411) /content/datasets/Test video/low intensity dance.mp4: 640x384 5 persons, 146.0ms\n",
      "video 1/1 (651/1411) /content/datasets/Test video/low intensity dance.mp4: 640x384 5 persons, 144.0ms\n",
      "video 1/1 (652/1411) /content/datasets/Test video/low intensity dance.mp4: 640x384 5 persons, 159.1ms\n",
      "video 1/1 (653/1411) /content/datasets/Test video/low intensity dance.mp4: 640x384 7 persons, 148.7ms\n",
      "video 1/1 (654/1411) /content/datasets/Test video/low intensity dance.mp4: 640x384 6 persons, 145.9ms\n",
      "video 1/1 (655/1411) /content/datasets/Test video/low intensity dance.mp4: 640x384 6 persons, 149.2ms\n",
      "video 1/1 (656/1411) /content/datasets/Test video/low intensity dance.mp4: 640x384 6 persons, 157.7ms\n",
      "video 1/1 (657/1411) /content/datasets/Test video/low intensity dance.mp4: 640x384 5 persons, 144.6ms\n",
      "video 1/1 (658/1411) /content/datasets/Test video/low intensity dance.mp4: 640x384 5 persons, 158.9ms\n",
      "video 1/1 (659/1411) /content/datasets/Test video/low intensity dance.mp4: 640x384 4 persons, 151.3ms\n",
      "video 1/1 (660/1411) /content/datasets/Test video/low intensity dance.mp4: 640x384 9 persons, 159.9ms\n",
      "video 1/1 (661/1411) /content/datasets/Test video/low intensity dance.mp4: 640x384 6 persons, 240.3ms\n",
      "video 1/1 (662/1411) /content/datasets/Test video/low intensity dance.mp4: 640x384 6 persons, 229.4ms\n",
      "video 1/1 (663/1411) /content/datasets/Test video/low intensity dance.mp4: 640x384 6 persons, 240.7ms\n",
      "video 1/1 (664/1411) /content/datasets/Test video/low intensity dance.mp4: 640x384 6 persons, 236.9ms\n",
      "video 1/1 (665/1411) /content/datasets/Test video/low intensity dance.mp4: 640x384 9 persons, 216.0ms\n",
      "video 1/1 (666/1411) /content/datasets/Test video/low intensity dance.mp4: 640x384 7 persons, 245.1ms\n",
      "video 1/1 (667/1411) /content/datasets/Test video/low intensity dance.mp4: 640x384 6 persons, 239.3ms\n",
      "video 1/1 (668/1411) /content/datasets/Test video/low intensity dance.mp4: 640x384 6 persons, 239.1ms\n",
      "video 1/1 (669/1411) /content/datasets/Test video/low intensity dance.mp4: 640x384 10 persons, 224.4ms\n",
      "video 1/1 (670/1411) /content/datasets/Test video/low intensity dance.mp4: 640x384 9 persons, 220.4ms\n",
      "video 1/1 (671/1411) /content/datasets/Test video/low intensity dance.mp4: 640x384 9 persons, 223.2ms\n",
      "video 1/1 (672/1411) /content/datasets/Test video/low intensity dance.mp4: 640x384 8 persons, 239.2ms\n",
      "video 1/1 (673/1411) /content/datasets/Test video/low intensity dance.mp4: 640x384 5 persons, 225.6ms\n",
      "video 1/1 (674/1411) /content/datasets/Test video/low intensity dance.mp4: 640x384 7 persons, 153.5ms\n",
      "video 1/1 (675/1411) /content/datasets/Test video/low intensity dance.mp4: 640x384 9 persons, 145.3ms\n",
      "video 1/1 (676/1411) /content/datasets/Test video/low intensity dance.mp4: 640x384 9 persons, 146.7ms\n",
      "video 1/1 (677/1411) /content/datasets/Test video/low intensity dance.mp4: 640x384 7 persons, 146.3ms\n",
      "video 1/1 (678/1411) /content/datasets/Test video/low intensity dance.mp4: 640x384 8 persons, 150.9ms\n",
      "video 1/1 (679/1411) /content/datasets/Test video/low intensity dance.mp4: 640x384 8 persons, 155.2ms\n",
      "video 1/1 (680/1411) /content/datasets/Test video/low intensity dance.mp4: 640x384 7 persons, 148.8ms\n",
      "video 1/1 (681/1411) /content/datasets/Test video/low intensity dance.mp4: 640x384 7 persons, 142.1ms\n",
      "video 1/1 (682/1411) /content/datasets/Test video/low intensity dance.mp4: 640x384 7 persons, 143.5ms\n",
      "video 1/1 (683/1411) /content/datasets/Test video/low intensity dance.mp4: 640x384 8 persons, 141.9ms\n",
      "video 1/1 (684/1411) /content/datasets/Test video/low intensity dance.mp4: 640x384 7 persons, 148.8ms\n",
      "video 1/1 (685/1411) /content/datasets/Test video/low intensity dance.mp4: 640x384 8 persons, 166.7ms\n",
      "video 1/1 (686/1411) /content/datasets/Test video/low intensity dance.mp4: 640x384 9 persons, 150.9ms\n",
      "video 1/1 (687/1411) /content/datasets/Test video/low intensity dance.mp4: 640x384 8 persons, 145.2ms\n",
      "video 1/1 (688/1411) /content/datasets/Test video/low intensity dance.mp4: 640x384 8 persons, 154.7ms\n",
      "video 1/1 (689/1411) /content/datasets/Test video/low intensity dance.mp4: 640x384 7 persons, 149.3ms\n",
      "video 1/1 (690/1411) /content/datasets/Test video/low intensity dance.mp4: 640x384 6 persons, 157.2ms\n",
      "video 1/1 (691/1411) /content/datasets/Test video/low intensity dance.mp4: 640x384 6 persons, 151.8ms\n",
      "video 1/1 (692/1411) /content/datasets/Test video/low intensity dance.mp4: 640x384 7 persons, 149.9ms\n",
      "video 1/1 (693/1411) /content/datasets/Test video/low intensity dance.mp4: 640x384 6 persons, 143.0ms\n",
      "video 1/1 (694/1411) /content/datasets/Test video/low intensity dance.mp4: 640x384 5 persons, 146.7ms\n",
      "video 1/1 (695/1411) /content/datasets/Test video/low intensity dance.mp4: 640x384 5 persons, 148.0ms\n",
      "video 1/1 (696/1411) /content/datasets/Test video/low intensity dance.mp4: 640x384 5 persons, 154.6ms\n",
      "video 1/1 (697/1411) /content/datasets/Test video/low intensity dance.mp4: 640x384 7 persons, 145.5ms\n",
      "video 1/1 (698/1411) /content/datasets/Test video/low intensity dance.mp4: 640x384 5 persons, 149.9ms\n",
      "video 1/1 (699/1411) /content/datasets/Test video/low intensity dance.mp4: 640x384 5 persons, 142.8ms\n",
      "video 1/1 (700/1411) /content/datasets/Test video/low intensity dance.mp4: 640x384 5 persons, 158.6ms\n",
      "video 1/1 (701/1411) /content/datasets/Test video/low intensity dance.mp4: 640x384 6 persons, 143.7ms\n",
      "video 1/1 (702/1411) /content/datasets/Test video/low intensity dance.mp4: 640x384 4 persons, 162.0ms\n",
      "video 1/1 (703/1411) /content/datasets/Test video/low intensity dance.mp4: 640x384 5 persons, 150.2ms\n",
      "video 1/1 (704/1411) /content/datasets/Test video/low intensity dance.mp4: 640x384 6 persons, 158.8ms\n",
      "video 1/1 (705/1411) /content/datasets/Test video/low intensity dance.mp4: 640x384 6 persons, 149.7ms\n",
      "video 1/1 (706/1411) /content/datasets/Test video/low intensity dance.mp4: 640x384 6 persons, 149.4ms\n",
      "video 1/1 (707/1411) /content/datasets/Test video/low intensity dance.mp4: 640x384 6 persons, 157.1ms\n",
      "video 1/1 (708/1411) /content/datasets/Test video/low intensity dance.mp4: 640x384 7 persons, 149.9ms\n",
      "video 1/1 (709/1411) /content/datasets/Test video/low intensity dance.mp4: 640x384 4 persons, 153.0ms\n",
      "video 1/1 (710/1411) /content/datasets/Test video/low intensity dance.mp4: 640x384 4 persons, 149.5ms\n",
      "video 1/1 (711/1411) /content/datasets/Test video/low intensity dance.mp4: 640x384 5 persons, 155.5ms\n",
      "video 1/1 (712/1411) /content/datasets/Test video/low intensity dance.mp4: 640x384 5 persons, 155.0ms\n",
      "video 1/1 (713/1411) /content/datasets/Test video/low intensity dance.mp4: 640x384 5 persons, 160.4ms\n",
      "video 1/1 (714/1411) /content/datasets/Test video/low intensity dance.mp4: 640x384 4 persons, 143.1ms\n",
      "video 1/1 (715/1411) /content/datasets/Test video/low intensity dance.mp4: 640x384 5 persons, 145.6ms\n",
      "video 1/1 (716/1411) /content/datasets/Test video/low intensity dance.mp4: 640x384 6 persons, 152.1ms\n",
      "video 1/1 (717/1411) /content/datasets/Test video/low intensity dance.mp4: 640x384 7 persons, 148.0ms\n",
      "video 1/1 (718/1411) /content/datasets/Test video/low intensity dance.mp4: 640x384 6 persons, 146.2ms\n",
      "video 1/1 (719/1411) /content/datasets/Test video/low intensity dance.mp4: 640x384 6 persons, 147.5ms\n",
      "video 1/1 (720/1411) /content/datasets/Test video/low intensity dance.mp4: 640x384 4 persons, 159.3ms\n",
      "video 1/1 (721/1411) /content/datasets/Test video/low intensity dance.mp4: 640x384 4 persons, 150.0ms\n",
      "video 1/1 (722/1411) /content/datasets/Test video/low intensity dance.mp4: 640x384 6 persons, 150.9ms\n",
      "video 1/1 (723/1411) /content/datasets/Test video/low intensity dance.mp4: 640x384 6 persons, 149.0ms\n",
      "video 1/1 (724/1411) /content/datasets/Test video/low intensity dance.mp4: 640x384 6 persons, 176.1ms\n",
      "video 1/1 (725/1411) /content/datasets/Test video/low intensity dance.mp4: 640x384 6 persons, 149.7ms\n",
      "video 1/1 (726/1411) /content/datasets/Test video/low intensity dance.mp4: 640x384 5 persons, 148.9ms\n",
      "video 1/1 (727/1411) /content/datasets/Test video/low intensity dance.mp4: 640x384 7 persons, 149.3ms\n",
      "video 1/1 (728/1411) /content/datasets/Test video/low intensity dance.mp4: 640x384 7 persons, 161.2ms\n",
      "video 1/1 (729/1411) /content/datasets/Test video/low intensity dance.mp4: 640x384 7 persons, 234.7ms\n",
      "video 1/1 (730/1411) /content/datasets/Test video/low intensity dance.mp4: 640x384 7 persons, 229.6ms\n",
      "video 1/1 (731/1411) /content/datasets/Test video/low intensity dance.mp4: 640x384 5 persons, 230.2ms\n",
      "video 1/1 (732/1411) /content/datasets/Test video/low intensity dance.mp4: 640x384 5 persons, 236.4ms\n",
      "video 1/1 (733/1411) /content/datasets/Test video/low intensity dance.mp4: 640x384 5 persons, 237.7ms\n",
      "video 1/1 (734/1411) /content/datasets/Test video/low intensity dance.mp4: 640x384 5 persons, 227.9ms\n",
      "video 1/1 (735/1411) /content/datasets/Test video/low intensity dance.mp4: 640x384 4 persons, 236.3ms\n",
      "video 1/1 (736/1411) /content/datasets/Test video/low intensity dance.mp4: 640x384 5 persons, 247.3ms\n",
      "video 1/1 (737/1411) /content/datasets/Test video/low intensity dance.mp4: 640x384 5 persons, 234.8ms\n",
      "video 1/1 (738/1411) /content/datasets/Test video/low intensity dance.mp4: 640x384 5 persons, 236.0ms\n",
      "video 1/1 (739/1411) /content/datasets/Test video/low intensity dance.mp4: 640x384 5 persons, 236.4ms\n",
      "video 1/1 (740/1411) /content/datasets/Test video/low intensity dance.mp4: 640x384 4 persons, 239.2ms\n",
      "video 1/1 (741/1411) /content/datasets/Test video/low intensity dance.mp4: 640x384 5 persons, 242.0ms\n",
      "video 1/1 (742/1411) /content/datasets/Test video/low intensity dance.mp4: 640x384 5 persons, 216.1ms\n",
      "video 1/1 (743/1411) /content/datasets/Test video/low intensity dance.mp4: 640x384 3 persons, 151.8ms\n",
      "video 1/1 (744/1411) /content/datasets/Test video/low intensity dance.mp4: 640x384 5 persons, 161.3ms\n",
      "video 1/1 (745/1411) /content/datasets/Test video/low intensity dance.mp4: 640x384 3 persons, 153.4ms\n",
      "video 1/1 (746/1411) /content/datasets/Test video/low intensity dance.mp4: 640x384 6 persons, 164.2ms\n",
      "video 1/1 (747/1411) /content/datasets/Test video/low intensity dance.mp4: 640x384 4 persons, 153.1ms\n",
      "video 1/1 (748/1411) /content/datasets/Test video/low intensity dance.mp4: 640x384 4 persons, 157.3ms\n",
      "video 1/1 (749/1411) /content/datasets/Test video/low intensity dance.mp4: 640x384 4 persons, 160.4ms\n",
      "video 1/1 (750/1411) /content/datasets/Test video/low intensity dance.mp4: 640x384 4 persons, 158.2ms\n",
      "video 1/1 (751/1411) /content/datasets/Test video/low intensity dance.mp4: 640x384 4 persons, 165.9ms\n",
      "video 1/1 (752/1411) /content/datasets/Test video/low intensity dance.mp4: 640x384 6 persons, 156.9ms\n",
      "video 1/1 (753/1411) /content/datasets/Test video/low intensity dance.mp4: 640x384 5 persons, 161.2ms\n",
      "video 1/1 (754/1411) /content/datasets/Test video/low intensity dance.mp4: 640x384 5 persons, 151.7ms\n",
      "video 1/1 (755/1411) /content/datasets/Test video/low intensity dance.mp4: 640x384 4 persons, 153.7ms\n",
      "video 1/1 (756/1411) /content/datasets/Test video/low intensity dance.mp4: 640x384 4 persons, 155.4ms\n",
      "video 1/1 (757/1411) /content/datasets/Test video/low intensity dance.mp4: 640x384 4 persons, 169.3ms\n",
      "video 1/1 (758/1411) /content/datasets/Test video/low intensity dance.mp4: 640x384 5 persons, 161.0ms\n",
      "video 1/1 (759/1411) /content/datasets/Test video/low intensity dance.mp4: 640x384 6 persons, 151.6ms\n",
      "video 1/1 (760/1411) /content/datasets/Test video/low intensity dance.mp4: 640x384 6 persons, 177.2ms\n",
      "video 1/1 (761/1411) /content/datasets/Test video/low intensity dance.mp4: 640x384 6 persons, 149.2ms\n",
      "video 1/1 (762/1411) /content/datasets/Test video/low intensity dance.mp4: 640x384 6 persons, 172.0ms\n",
      "video 1/1 (763/1411) /content/datasets/Test video/low intensity dance.mp4: 640x384 7 persons, 163.0ms\n",
      "video 1/1 (764/1411) /content/datasets/Test video/low intensity dance.mp4: 640x384 8 persons, 158.3ms\n",
      "video 1/1 (765/1411) /content/datasets/Test video/low intensity dance.mp4: 640x384 7 persons, 156.9ms\n",
      "video 1/1 (766/1411) /content/datasets/Test video/low intensity dance.mp4: 640x384 7 persons, 158.7ms\n",
      "video 1/1 (767/1411) /content/datasets/Test video/low intensity dance.mp4: 640x384 7 persons, 168.0ms\n",
      "video 1/1 (768/1411) /content/datasets/Test video/low intensity dance.mp4: 640x384 7 persons, 166.3ms\n",
      "video 1/1 (769/1411) /content/datasets/Test video/low intensity dance.mp4: 640x384 7 persons, 163.8ms\n",
      "video 1/1 (770/1411) /content/datasets/Test video/low intensity dance.mp4: 640x384 6 persons, 152.5ms\n",
      "video 1/1 (771/1411) /content/datasets/Test video/low intensity dance.mp4: 640x384 6 persons, 156.8ms\n",
      "video 1/1 (772/1411) /content/datasets/Test video/low intensity dance.mp4: 640x384 7 persons, 185.4ms\n",
      "video 1/1 (773/1411) /content/datasets/Test video/low intensity dance.mp4: 640x384 10 persons, 163.5ms\n",
      "video 1/1 (774/1411) /content/datasets/Test video/low intensity dance.mp4: 640x384 9 persons, 157.8ms\n",
      "video 1/1 (775/1411) /content/datasets/Test video/low intensity dance.mp4: 640x384 6 persons, 157.8ms\n",
      "video 1/1 (776/1411) /content/datasets/Test video/low intensity dance.mp4: 640x384 8 persons, 163.9ms\n",
      "video 1/1 (777/1411) /content/datasets/Test video/low intensity dance.mp4: 640x384 6 persons, 155.7ms\n",
      "video 1/1 (778/1411) /content/datasets/Test video/low intensity dance.mp4: 640x384 6 persons, 153.5ms\n",
      "video 1/1 (779/1411) /content/datasets/Test video/low intensity dance.mp4: 640x384 7 persons, 150.7ms\n",
      "video 1/1 (780/1411) /content/datasets/Test video/low intensity dance.mp4: 640x384 6 persons, 163.5ms\n",
      "video 1/1 (781/1411) /content/datasets/Test video/low intensity dance.mp4: 640x384 6 persons, 157.6ms\n",
      "video 1/1 (782/1411) /content/datasets/Test video/low intensity dance.mp4: 640x384 6 persons, 154.6ms\n",
      "video 1/1 (783/1411) /content/datasets/Test video/low intensity dance.mp4: 640x384 6 persons, 166.5ms\n",
      "video 1/1 (784/1411) /content/datasets/Test video/low intensity dance.mp4: 640x384 6 persons, 169.6ms\n",
      "video 1/1 (785/1411) /content/datasets/Test video/low intensity dance.mp4: 640x384 6 persons, 161.8ms\n",
      "video 1/1 (786/1411) /content/datasets/Test video/low intensity dance.mp4: 640x384 8 persons, 154.4ms\n",
      "video 1/1 (787/1411) /content/datasets/Test video/low intensity dance.mp4: 640x384 7 persons, 162.2ms\n",
      "video 1/1 (788/1411) /content/datasets/Test video/low intensity dance.mp4: 640x384 6 persons, 166.9ms\n",
      "video 1/1 (789/1411) /content/datasets/Test video/low intensity dance.mp4: 640x384 6 persons, 152.2ms\n",
      "video 1/1 (790/1411) /content/datasets/Test video/low intensity dance.mp4: 640x384 6 persons, 152.3ms\n",
      "video 1/1 (791/1411) /content/datasets/Test video/low intensity dance.mp4: 640x384 6 persons, 152.8ms\n",
      "video 1/1 (792/1411) /content/datasets/Test video/low intensity dance.mp4: 640x384 5 persons, 164.2ms\n",
      "video 1/1 (793/1411) /content/datasets/Test video/low intensity dance.mp4: 640x384 4 persons, 174.7ms\n",
      "video 1/1 (794/1411) /content/datasets/Test video/low intensity dance.mp4: 640x384 5 persons, 241.8ms\n",
      "video 1/1 (795/1411) /content/datasets/Test video/low intensity dance.mp4: 640x384 8 persons, 232.1ms\n",
      "video 1/1 (796/1411) /content/datasets/Test video/low intensity dance.mp4: 640x384 8 persons, 248.8ms\n",
      "video 1/1 (797/1411) /content/datasets/Test video/low intensity dance.mp4: 640x384 9 persons, 239.7ms\n",
      "video 1/1 (798/1411) /content/datasets/Test video/low intensity dance.mp4: 640x384 7 persons, 219.9ms\n",
      "video 1/1 (799/1411) /content/datasets/Test video/low intensity dance.mp4: 640x384 7 persons, 225.5ms\n",
      "video 1/1 (800/1411) /content/datasets/Test video/low intensity dance.mp4: 640x384 5 persons, 246.4ms\n",
      "video 1/1 (801/1411) /content/datasets/Test video/low intensity dance.mp4: 640x384 7 persons, 243.2ms\n",
      "video 1/1 (802/1411) /content/datasets/Test video/low intensity dance.mp4: 640x384 7 persons, 227.1ms\n",
      "video 1/1 (803/1411) /content/datasets/Test video/low intensity dance.mp4: 640x384 6 persons, 231.3ms\n",
      "video 1/1 (804/1411) /content/datasets/Test video/low intensity dance.mp4: 640x384 7 persons, 250.8ms\n",
      "video 1/1 (805/1411) /content/datasets/Test video/low intensity dance.mp4: 640x384 5 persons, 231.8ms\n",
      "video 1/1 (806/1411) /content/datasets/Test video/low intensity dance.mp4: 640x384 6 persons, 238.3ms\n",
      "video 1/1 (807/1411) /content/datasets/Test video/low intensity dance.mp4: 640x384 6 persons, 198.0ms\n",
      "video 1/1 (808/1411) /content/datasets/Test video/low intensity dance.mp4: 640x384 6 persons, 150.5ms\n",
      "video 1/1 (809/1411) /content/datasets/Test video/low intensity dance.mp4: 640x384 7 persons, 162.9ms\n",
      "video 1/1 (810/1411) /content/datasets/Test video/low intensity dance.mp4: 640x384 6 persons, 151.7ms\n",
      "video 1/1 (811/1411) /content/datasets/Test video/low intensity dance.mp4: 640x384 6 persons, 150.7ms\n",
      "video 1/1 (812/1411) /content/datasets/Test video/low intensity dance.mp4: 640x384 7 persons, 153.5ms\n",
      "video 1/1 (813/1411) /content/datasets/Test video/low intensity dance.mp4: 640x384 8 persons, 159.0ms\n",
      "video 1/1 (814/1411) /content/datasets/Test video/low intensity dance.mp4: 640x384 8 persons, 163.1ms\n",
      "video 1/1 (815/1411) /content/datasets/Test video/low intensity dance.mp4: 640x384 7 persons, 151.3ms\n",
      "video 1/1 (816/1411) /content/datasets/Test video/low intensity dance.mp4: 640x384 7 persons, 155.1ms\n",
      "video 1/1 (817/1411) /content/datasets/Test video/low intensity dance.mp4: 640x384 7 persons, 154.0ms\n",
      "video 1/1 (818/1411) /content/datasets/Test video/low intensity dance.mp4: 640x384 7 persons, 158.9ms\n",
      "video 1/1 (819/1411) /content/datasets/Test video/low intensity dance.mp4: 640x384 9 persons, 152.5ms\n",
      "video 1/1 (820/1411) /content/datasets/Test video/low intensity dance.mp4: 640x384 7 persons, 154.8ms\n",
      "video 1/1 (821/1411) /content/datasets/Test video/low intensity dance.mp4: 640x384 7 persons, 159.6ms\n",
      "video 1/1 (822/1411) /content/datasets/Test video/low intensity dance.mp4: 640x384 8 persons, 150.8ms\n",
      "video 1/1 (823/1411) /content/datasets/Test video/low intensity dance.mp4: 640x384 8 persons, 156.8ms\n",
      "video 1/1 (824/1411) /content/datasets/Test video/low intensity dance.mp4: 640x384 7 persons, 150.3ms\n",
      "video 1/1 (825/1411) /content/datasets/Test video/low intensity dance.mp4: 640x384 7 persons, 161.4ms\n",
      "video 1/1 (826/1411) /content/datasets/Test video/low intensity dance.mp4: 640x384 7 persons, 155.7ms\n",
      "video 1/1 (827/1411) /content/datasets/Test video/low intensity dance.mp4: 640x384 7 persons, 150.5ms\n",
      "video 1/1 (828/1411) /content/datasets/Test video/low intensity dance.mp4: 640x384 7 persons, 163.1ms\n",
      "video 1/1 (829/1411) /content/datasets/Test video/low intensity dance.mp4: 640x384 6 persons, 152.9ms\n",
      "video 1/1 (830/1411) /content/datasets/Test video/low intensity dance.mp4: 640x384 7 persons, 178.5ms\n",
      "video 1/1 (831/1411) /content/datasets/Test video/low intensity dance.mp4: 640x384 8 persons, 153.7ms\n",
      "video 1/1 (832/1411) /content/datasets/Test video/low intensity dance.mp4: 640x384 8 persons, 158.9ms\n",
      "video 1/1 (833/1411) /content/datasets/Test video/low intensity dance.mp4: 640x384 11 persons, 156.1ms\n",
      "video 1/1 (834/1411) /content/datasets/Test video/low intensity dance.mp4: 640x384 7 persons, 147.8ms\n",
      "video 1/1 (835/1411) /content/datasets/Test video/low intensity dance.mp4: 640x384 8 persons, 151.8ms\n",
      "video 1/1 (836/1411) /content/datasets/Test video/low intensity dance.mp4: 640x384 9 persons, 163.2ms\n",
      "video 1/1 (837/1411) /content/datasets/Test video/low intensity dance.mp4: 640x384 6 persons, 148.8ms\n",
      "video 1/1 (838/1411) /content/datasets/Test video/low intensity dance.mp4: 640x384 6 persons, 159.3ms\n",
      "video 1/1 (839/1411) /content/datasets/Test video/low intensity dance.mp4: 640x384 9 persons, 147.8ms\n",
      "video 1/1 (840/1411) /content/datasets/Test video/low intensity dance.mp4: 640x384 9 persons, 159.2ms\n",
      "video 1/1 (841/1411) /content/datasets/Test video/low intensity dance.mp4: 640x384 8 persons, 165.7ms\n",
      "video 1/1 (842/1411) /content/datasets/Test video/low intensity dance.mp4: 640x384 7 persons, 149.7ms\n",
      "video 1/1 (843/1411) /content/datasets/Test video/low intensity dance.mp4: 640x384 9 persons, 152.5ms\n",
      "video 1/1 (844/1411) /content/datasets/Test video/low intensity dance.mp4: 640x384 9 persons, 167.2ms\n",
      "video 1/1 (845/1411) /content/datasets/Test video/low intensity dance.mp4: 640x384 8 persons, 151.9ms\n",
      "video 1/1 (846/1411) /content/datasets/Test video/low intensity dance.mp4: 640x384 9 persons, 164.2ms\n",
      "video 1/1 (847/1411) /content/datasets/Test video/low intensity dance.mp4: 640x384 8 persons, 154.9ms\n",
      "video 1/1 (848/1411) /content/datasets/Test video/low intensity dance.mp4: 640x384 8 persons, 163.7ms\n",
      "video 1/1 (849/1411) /content/datasets/Test video/low intensity dance.mp4: 640x384 9 persons, 147.0ms\n",
      "video 1/1 (850/1411) /content/datasets/Test video/low intensity dance.mp4: 640x384 9 persons, 143.3ms\n",
      "video 1/1 (851/1411) /content/datasets/Test video/low intensity dance.mp4: 640x384 7 persons, 165.9ms\n",
      "video 1/1 (852/1411) /content/datasets/Test video/low intensity dance.mp4: 640x384 7 persons, 155.7ms\n",
      "video 1/1 (853/1411) /content/datasets/Test video/low intensity dance.mp4: 640x384 6 persons, 141.5ms\n",
      "video 1/1 (854/1411) /content/datasets/Test video/low intensity dance.mp4: 640x384 7 persons, 152.8ms\n",
      "video 1/1 (855/1411) /content/datasets/Test video/low intensity dance.mp4: 640x384 7 persons, 144.0ms\n",
      "video 1/1 (856/1411) /content/datasets/Test video/low intensity dance.mp4: 640x384 7 persons, 154.0ms\n",
      "video 1/1 (857/1411) /content/datasets/Test video/low intensity dance.mp4: 640x384 6 persons, 162.7ms\n",
      "video 1/1 (858/1411) /content/datasets/Test video/low intensity dance.mp4: 640x384 6 persons, 141.1ms\n",
      "video 1/1 (859/1411) /content/datasets/Test video/low intensity dance.mp4: 640x384 7 persons, 190.2ms\n",
      "video 1/1 (860/1411) /content/datasets/Test video/low intensity dance.mp4: 640x384 7 persons, 229.6ms\n",
      "video 1/1 (861/1411) /content/datasets/Test video/low intensity dance.mp4: 640x384 7 persons, 232.4ms\n",
      "video 1/1 (862/1411) /content/datasets/Test video/low intensity dance.mp4: 640x384 6 persons, 223.5ms\n",
      "video 1/1 (863/1411) /content/datasets/Test video/low intensity dance.mp4: 640x384 8 persons, 224.7ms\n",
      "video 1/1 (864/1411) /content/datasets/Test video/low intensity dance.mp4: 640x384 5 persons, 229.2ms\n",
      "video 1/1 (865/1411) /content/datasets/Test video/low intensity dance.mp4: 640x384 6 persons, 230.0ms\n",
      "video 1/1 (866/1411) /content/datasets/Test video/low intensity dance.mp4: 640x384 5 persons, 224.0ms\n",
      "video 1/1 (867/1411) /content/datasets/Test video/low intensity dance.mp4: 640x384 6 persons, 236.2ms\n",
      "video 1/1 (868/1411) /content/datasets/Test video/low intensity dance.mp4: 640x384 6 persons, 213.2ms\n",
      "video 1/1 (869/1411) /content/datasets/Test video/low intensity dance.mp4: 640x384 6 persons, 233.1ms\n",
      "video 1/1 (870/1411) /content/datasets/Test video/low intensity dance.mp4: 640x384 6 persons, 225.3ms\n",
      "video 1/1 (871/1411) /content/datasets/Test video/low intensity dance.mp4: 640x384 6 persons, 262.5ms\n",
      "video 1/1 (872/1411) /content/datasets/Test video/low intensity dance.mp4: 640x384 6 persons, 502.5ms\n",
      "video 1/1 (873/1411) /content/datasets/Test video/low intensity dance.mp4: 640x384 6 persons, 246.2ms\n",
      "video 1/1 (874/1411) /content/datasets/Test video/low intensity dance.mp4: 640x384 6 persons, 404.4ms\n",
      "video 1/1 (875/1411) /content/datasets/Test video/low intensity dance.mp4: 640x384 5 persons, 205.0ms\n",
      "video 1/1 (876/1411) /content/datasets/Test video/low intensity dance.mp4: 640x384 5 persons, 149.1ms\n",
      "video 1/1 (877/1411) /content/datasets/Test video/low intensity dance.mp4: 640x384 5 persons, 143.7ms\n",
      "video 1/1 (878/1411) /content/datasets/Test video/low intensity dance.mp4: 640x384 6 persons, 145.2ms\n",
      "video 1/1 (879/1411) /content/datasets/Test video/low intensity dance.mp4: 640x384 6 persons, 147.7ms\n",
      "video 1/1 (880/1411) /content/datasets/Test video/low intensity dance.mp4: 640x384 6 persons, 166.7ms\n",
      "video 1/1 (881/1411) /content/datasets/Test video/low intensity dance.mp4: 640x384 6 persons, 146.0ms\n",
      "video 1/1 (882/1411) /content/datasets/Test video/low intensity dance.mp4: 640x384 6 persons, 151.3ms\n",
      "video 1/1 (883/1411) /content/datasets/Test video/low intensity dance.mp4: 640x384 8 persons, 144.7ms\n",
      "video 1/1 (884/1411) /content/datasets/Test video/low intensity dance.mp4: 640x384 5 persons, 151.8ms\n",
      "video 1/1 (885/1411) /content/datasets/Test video/low intensity dance.mp4: 640x384 5 persons, 145.8ms\n",
      "video 1/1 (886/1411) /content/datasets/Test video/low intensity dance.mp4: 640x384 5 persons, 173.4ms\n",
      "video 1/1 (887/1411) /content/datasets/Test video/low intensity dance.mp4: 640x384 4 persons, 142.9ms\n",
      "video 1/1 (888/1411) /content/datasets/Test video/low intensity dance.mp4: 640x384 7 persons, 152.6ms\n",
      "video 1/1 (889/1411) /content/datasets/Test video/low intensity dance.mp4: 640x384 5 persons, 153.8ms\n",
      "video 1/1 (890/1411) /content/datasets/Test video/low intensity dance.mp4: 640x384 8 persons, 148.2ms\n",
      "video 1/1 (891/1411) /content/datasets/Test video/low intensity dance.mp4: 640x384 5 persons, 163.8ms\n",
      "video 1/1 (892/1411) /content/datasets/Test video/low intensity dance.mp4: 640x384 5 persons, 154.3ms\n",
      "video 1/1 (893/1411) /content/datasets/Test video/low intensity dance.mp4: 640x384 6 persons, 145.6ms\n",
      "video 1/1 (894/1411) /content/datasets/Test video/low intensity dance.mp4: 640x384 8 persons, 145.1ms\n",
      "video 1/1 (895/1411) /content/datasets/Test video/low intensity dance.mp4: 640x384 9 persons, 140.8ms\n",
      "video 1/1 (896/1411) /content/datasets/Test video/low intensity dance.mp4: 640x384 8 persons, 165.5ms\n",
      "video 1/1 (897/1411) /content/datasets/Test video/low intensity dance.mp4: 640x384 9 persons, 160.4ms\n",
      "video 1/1 (898/1411) /content/datasets/Test video/low intensity dance.mp4: 640x384 9 persons, 150.6ms\n",
      "video 1/1 (899/1411) /content/datasets/Test video/low intensity dance.mp4: 640x384 8 persons, 159.6ms\n",
      "video 1/1 (900/1411) /content/datasets/Test video/low intensity dance.mp4: 640x384 9 persons, 152.1ms\n",
      "video 1/1 (901/1411) /content/datasets/Test video/low intensity dance.mp4: 640x384 9 persons, 149.6ms\n",
      "video 1/1 (902/1411) /content/datasets/Test video/low intensity dance.mp4: 640x384 9 persons, 159.1ms\n",
      "video 1/1 (903/1411) /content/datasets/Test video/low intensity dance.mp4: 640x384 9 persons, 140.8ms\n",
      "video 1/1 (904/1411) /content/datasets/Test video/low intensity dance.mp4: 640x384 9 persons, 153.2ms\n",
      "video 1/1 (905/1411) /content/datasets/Test video/low intensity dance.mp4: 640x384 9 persons, 149.5ms\n",
      "video 1/1 (906/1411) /content/datasets/Test video/low intensity dance.mp4: 640x384 8 persons, 152.7ms\n",
      "video 1/1 (907/1411) /content/datasets/Test video/low intensity dance.mp4: 640x384 9 persons, 156.6ms\n",
      "video 1/1 (908/1411) /content/datasets/Test video/low intensity dance.mp4: 640x384 9 persons, 156.1ms\n",
      "video 1/1 (909/1411) /content/datasets/Test video/low intensity dance.mp4: 640x384 8 persons, 147.7ms\n",
      "video 1/1 (910/1411) /content/datasets/Test video/low intensity dance.mp4: 640x384 9 persons, 152.7ms\n",
      "video 1/1 (911/1411) /content/datasets/Test video/low intensity dance.mp4: 640x384 9 persons, 146.8ms\n",
      "video 1/1 (912/1411) /content/datasets/Test video/low intensity dance.mp4: 640x384 7 persons, 159.5ms\n",
      "video 1/1 (913/1411) /content/datasets/Test video/low intensity dance.mp4: 640x384 8 persons, 151.2ms\n",
      "video 1/1 (914/1411) /content/datasets/Test video/low intensity dance.mp4: 640x384 8 persons, 141.3ms\n",
      "video 1/1 (915/1411) /content/datasets/Test video/low intensity dance.mp4: 640x384 7 persons, 144.0ms\n",
      "video 1/1 (916/1411) /content/datasets/Test video/low intensity dance.mp4: 640x384 7 persons, 154.9ms\n",
      "video 1/1 (917/1411) /content/datasets/Test video/low intensity dance.mp4: 640x384 8 persons, 144.1ms\n",
      "video 1/1 (918/1411) /content/datasets/Test video/low intensity dance.mp4: 640x384 9 persons, 155.1ms\n",
      "video 1/1 (919/1411) /content/datasets/Test video/low intensity dance.mp4: 640x384 7 persons, 139.7ms\n",
      "video 1/1 (920/1411) /content/datasets/Test video/low intensity dance.mp4: 640x384 9 persons, 149.5ms\n",
      "video 1/1 (921/1411) /content/datasets/Test video/low intensity dance.mp4: 640x384 7 persons, 145.4ms\n",
      "video 1/1 (922/1411) /content/datasets/Test video/low intensity dance.mp4: 640x384 7 persons, 145.9ms\n",
      "video 1/1 (923/1411) /content/datasets/Test video/low intensity dance.mp4: 640x384 8 persons, 152.7ms\n",
      "video 1/1 (924/1411) /content/datasets/Test video/low intensity dance.mp4: 640x384 8 persons, 246.5ms\n",
      "video 1/1 (925/1411) /content/datasets/Test video/low intensity dance.mp4: 640x384 8 persons, 224.3ms\n",
      "video 1/1 (926/1411) /content/datasets/Test video/low intensity dance.mp4: 640x384 7 persons, 230.2ms\n",
      "video 1/1 (927/1411) /content/datasets/Test video/low intensity dance.mp4: 640x384 5 persons, 230.7ms\n",
      "video 1/1 (928/1411) /content/datasets/Test video/low intensity dance.mp4: 640x384 6 persons, 228.5ms\n",
      "video 1/1 (929/1411) /content/datasets/Test video/low intensity dance.mp4: 640x384 5 persons, 218.8ms\n",
      "video 1/1 (930/1411) /content/datasets/Test video/low intensity dance.mp4: 640x384 7 persons, 235.3ms\n",
      "video 1/1 (931/1411) /content/datasets/Test video/low intensity dance.mp4: 640x384 7 persons, 236.2ms\n",
      "video 1/1 (932/1411) /content/datasets/Test video/low intensity dance.mp4: 640x384 8 persons, 223.7ms\n",
      "video 1/1 (933/1411) /content/datasets/Test video/low intensity dance.mp4: 640x384 7 persons, 219.5ms\n",
      "video 1/1 (934/1411) /content/datasets/Test video/low intensity dance.mp4: 640x384 7 persons, 233.3ms\n",
      "video 1/1 (935/1411) /content/datasets/Test video/low intensity dance.mp4: 640x384 8 persons, 235.5ms\n",
      "video 1/1 (936/1411) /content/datasets/Test video/low intensity dance.mp4: 640x384 8 persons, 244.6ms\n",
      "video 1/1 (937/1411) /content/datasets/Test video/low intensity dance.mp4: 640x384 8 persons, 224.2ms\n",
      "video 1/1 (938/1411) /content/datasets/Test video/low intensity dance.mp4: 640x384 9 persons, 152.4ms\n",
      "video 1/1 (939/1411) /content/datasets/Test video/low intensity dance.mp4: 640x384 7 persons, 146.8ms\n",
      "video 1/1 (940/1411) /content/datasets/Test video/low intensity dance.mp4: 640x384 8 persons, 167.4ms\n",
      "video 1/1 (941/1411) /content/datasets/Test video/low intensity dance.mp4: 640x384 7 persons, 145.4ms\n",
      "video 1/1 (942/1411) /content/datasets/Test video/low intensity dance.mp4: 640x384 9 persons, 145.2ms\n",
      "video 1/1 (943/1411) /content/datasets/Test video/low intensity dance.mp4: 640x384 8 persons, 155.4ms\n",
      "video 1/1 (944/1411) /content/datasets/Test video/low intensity dance.mp4: 640x384 8 persons, 148.4ms\n",
      "video 1/1 (945/1411) /content/datasets/Test video/low intensity dance.mp4: 640x384 7 persons, 162.4ms\n",
      "video 1/1 (946/1411) /content/datasets/Test video/low intensity dance.mp4: 640x384 7 persons, 148.3ms\n",
      "video 1/1 (947/1411) /content/datasets/Test video/low intensity dance.mp4: 640x384 7 persons, 144.0ms\n",
      "video 1/1 (948/1411) /content/datasets/Test video/low intensity dance.mp4: 640x384 7 persons, 157.1ms\n",
      "video 1/1 (949/1411) /content/datasets/Test video/low intensity dance.mp4: 640x384 7 persons, 144.2ms\n",
      "video 1/1 (950/1411) /content/datasets/Test video/low intensity dance.mp4: 640x384 8 persons, 143.8ms\n",
      "video 1/1 (951/1411) /content/datasets/Test video/low intensity dance.mp4: 640x384 7 persons, 154.6ms\n",
      "video 1/1 (952/1411) /content/datasets/Test video/low intensity dance.mp4: 640x384 7 persons, 150.8ms\n",
      "video 1/1 (953/1411) /content/datasets/Test video/low intensity dance.mp4: 640x384 8 persons, 141.7ms\n",
      "video 1/1 (954/1411) /content/datasets/Test video/low intensity dance.mp4: 640x384 9 persons, 142.7ms\n",
      "video 1/1 (955/1411) /content/datasets/Test video/low intensity dance.mp4: 640x384 8 persons, 139.0ms\n",
      "video 1/1 (956/1411) /content/datasets/Test video/low intensity dance.mp4: 640x384 8 persons, 141.7ms\n",
      "video 1/1 (957/1411) /content/datasets/Test video/low intensity dance.mp4: 640x384 7 persons, 143.9ms\n",
      "video 1/1 (958/1411) /content/datasets/Test video/low intensity dance.mp4: 640x384 7 persons, 139.4ms\n",
      "video 1/1 (959/1411) /content/datasets/Test video/low intensity dance.mp4: 640x384 9 persons, 146.0ms\n",
      "video 1/1 (960/1411) /content/datasets/Test video/low intensity dance.mp4: 640x384 9 persons, 152.5ms\n",
      "video 1/1 (961/1411) /content/datasets/Test video/low intensity dance.mp4: 640x384 8 persons, 146.0ms\n",
      "video 1/1 (962/1411) /content/datasets/Test video/low intensity dance.mp4: 640x384 8 persons, 150.1ms\n",
      "video 1/1 (963/1411) /content/datasets/Test video/low intensity dance.mp4: 640x384 8 persons, 141.2ms\n",
      "video 1/1 (964/1411) /content/datasets/Test video/low intensity dance.mp4: 640x384 8 persons, 155.7ms\n",
      "video 1/1 (965/1411) /content/datasets/Test video/low intensity dance.mp4: 640x384 8 persons, 146.2ms\n",
      "video 1/1 (966/1411) /content/datasets/Test video/low intensity dance.mp4: 640x384 8 persons, 141.5ms\n",
      "video 1/1 (967/1411) /content/datasets/Test video/low intensity dance.mp4: 640x384 8 persons, 149.9ms\n",
      "video 1/1 (968/1411) /content/datasets/Test video/low intensity dance.mp4: 640x384 8 persons, 165.5ms\n",
      "video 1/1 (969/1411) /content/datasets/Test video/low intensity dance.mp4: 640x384 9 persons, 148.0ms\n",
      "video 1/1 (970/1411) /content/datasets/Test video/low intensity dance.mp4: 640x384 8 persons, 149.7ms\n",
      "video 1/1 (971/1411) /content/datasets/Test video/low intensity dance.mp4: 640x384 9 persons, 145.4ms\n",
      "video 1/1 (972/1411) /content/datasets/Test video/low intensity dance.mp4: 640x384 9 persons, 164.9ms\n",
      "video 1/1 (973/1411) /content/datasets/Test video/low intensity dance.mp4: 640x384 9 persons, 160.0ms\n",
      "video 1/1 (974/1411) /content/datasets/Test video/low intensity dance.mp4: 640x384 7 persons, 153.3ms\n",
      "video 1/1 (975/1411) /content/datasets/Test video/low intensity dance.mp4: 640x384 9 persons, 150.3ms\n",
      "video 1/1 (976/1411) /content/datasets/Test video/low intensity dance.mp4: 640x384 9 persons, 160.9ms\n",
      "video 1/1 (977/1411) /content/datasets/Test video/low intensity dance.mp4: 640x384 7 persons, 148.6ms\n",
      "video 1/1 (978/1411) /content/datasets/Test video/low intensity dance.mp4: 640x384 7 persons, 140.2ms\n",
      "video 1/1 (979/1411) /content/datasets/Test video/low intensity dance.mp4: 640x384 6 persons, 154.2ms\n",
      "video 1/1 (980/1411) /content/datasets/Test video/low intensity dance.mp4: 640x384 6 persons, 155.9ms\n",
      "video 1/1 (981/1411) /content/datasets/Test video/low intensity dance.mp4: 640x384 7 persons, 147.4ms\n",
      "video 1/1 (982/1411) /content/datasets/Test video/low intensity dance.mp4: 640x384 7 persons, 141.6ms\n",
      "video 1/1 (983/1411) /content/datasets/Test video/low intensity dance.mp4: 640x384 7 persons, 139.5ms\n",
      "video 1/1 (984/1411) /content/datasets/Test video/low intensity dance.mp4: 640x384 8 persons, 164.1ms\n",
      "video 1/1 (985/1411) /content/datasets/Test video/low intensity dance.mp4: 640x384 6 persons, 138.8ms\n",
      "video 1/1 (986/1411) /content/datasets/Test video/low intensity dance.mp4: 640x384 8 persons, 150.2ms\n",
      "video 1/1 (987/1411) /content/datasets/Test video/low intensity dance.mp4: 640x384 8 persons, 144.6ms\n",
      "video 1/1 (988/1411) /content/datasets/Test video/low intensity dance.mp4: 640x384 8 persons, 152.0ms\n",
      "video 1/1 (989/1411) /content/datasets/Test video/low intensity dance.mp4: 640x384 9 persons, 141.6ms\n",
      "video 1/1 (990/1411) /content/datasets/Test video/low intensity dance.mp4: 640x384 7 persons, 155.7ms\n",
      "video 1/1 (991/1411) /content/datasets/Test video/low intensity dance.mp4: 640x384 6 persons, 158.9ms\n",
      "video 1/1 (992/1411) /content/datasets/Test video/low intensity dance.mp4: 640x384 7 persons, 237.6ms\n",
      "video 1/1 (993/1411) /content/datasets/Test video/low intensity dance.mp4: 640x384 7 persons, 213.8ms\n",
      "video 1/1 (994/1411) /content/datasets/Test video/low intensity dance.mp4: 640x384 7 persons, 236.2ms\n",
      "video 1/1 (995/1411) /content/datasets/Test video/low intensity dance.mp4: 640x384 6 persons, 216.0ms\n",
      "video 1/1 (996/1411) /content/datasets/Test video/low intensity dance.mp4: 640x384 7 persons, 228.4ms\n",
      "video 1/1 (997/1411) /content/datasets/Test video/low intensity dance.mp4: 640x384 6 persons, 208.2ms\n",
      "video 1/1 (998/1411) /content/datasets/Test video/low intensity dance.mp4: 640x384 8 persons, 221.2ms\n",
      "video 1/1 (999/1411) /content/datasets/Test video/low intensity dance.mp4: 640x384 8 persons, 230.0ms\n",
      "video 1/1 (1000/1411) /content/datasets/Test video/low intensity dance.mp4: 640x384 7 persons, 228.3ms\n",
      "video 1/1 (1001/1411) /content/datasets/Test video/low intensity dance.mp4: 640x384 6 persons, 209.1ms\n",
      "video 1/1 (1002/1411) /content/datasets/Test video/low intensity dance.mp4: 640x384 7 persons, 227.9ms\n",
      "video 1/1 (1003/1411) /content/datasets/Test video/low intensity dance.mp4: 640x384 7 persons, 210.3ms\n",
      "video 1/1 (1004/1411) /content/datasets/Test video/low intensity dance.mp4: 640x384 7 persons, 221.5ms\n",
      "video 1/1 (1005/1411) /content/datasets/Test video/low intensity dance.mp4: 640x384 9 persons, 150.9ms\n",
      "video 1/1 (1006/1411) /content/datasets/Test video/low intensity dance.mp4: 640x384 9 persons, 138.3ms\n",
      "video 1/1 (1007/1411) /content/datasets/Test video/low intensity dance.mp4: 640x384 10 persons, 146.5ms\n",
      "video 1/1 (1008/1411) /content/datasets/Test video/low intensity dance.mp4: 640x384 9 persons, 158.0ms\n",
      "video 1/1 (1009/1411) /content/datasets/Test video/low intensity dance.mp4: 640x384 8 persons, 145.6ms\n",
      "video 1/1 (1010/1411) /content/datasets/Test video/low intensity dance.mp4: 640x384 7 persons, 144.6ms\n",
      "video 1/1 (1011/1411) /content/datasets/Test video/low intensity dance.mp4: 640x384 5 persons, 143.1ms\n",
      "video 1/1 (1012/1411) /content/datasets/Test video/low intensity dance.mp4: 640x384 5 persons, 157.8ms\n",
      "video 1/1 (1013/1411) /content/datasets/Test video/low intensity dance.mp4: 640x384 5 persons, 139.2ms\n",
      "video 1/1 (1014/1411) /content/datasets/Test video/low intensity dance.mp4: 640x384 5 persons, 144.2ms\n",
      "video 1/1 (1015/1411) /content/datasets/Test video/low intensity dance.mp4: 640x384 5 persons, 144.8ms\n",
      "video 1/1 (1016/1411) /content/datasets/Test video/low intensity dance.mp4: 640x384 5 persons, 152.8ms\n",
      "video 1/1 (1017/1411) /content/datasets/Test video/low intensity dance.mp4: 640x384 5 persons, 143.3ms\n",
      "video 1/1 (1018/1411) /content/datasets/Test video/low intensity dance.mp4: 640x384 5 persons, 158.1ms\n",
      "video 1/1 (1019/1411) /content/datasets/Test video/low intensity dance.mp4: 640x384 4 persons, 140.9ms\n",
      "video 1/1 (1020/1411) /content/datasets/Test video/low intensity dance.mp4: 640x384 5 persons, 149.5ms\n",
      "video 1/1 (1021/1411) /content/datasets/Test video/low intensity dance.mp4: 640x384 6 persons, 149.3ms\n",
      "video 1/1 (1022/1411) /content/datasets/Test video/low intensity dance.mp4: 640x384 8 persons, 146.0ms\n",
      "video 1/1 (1023/1411) /content/datasets/Test video/low intensity dance.mp4: 640x384 8 persons, 151.5ms\n",
      "video 1/1 (1024/1411) /content/datasets/Test video/low intensity dance.mp4: 640x384 8 persons, 169.6ms\n",
      "video 1/1 (1025/1411) /content/datasets/Test video/low intensity dance.mp4: 640x384 8 persons, 150.3ms\n",
      "video 1/1 (1026/1411) /content/datasets/Test video/low intensity dance.mp4: 640x384 8 persons, 142.5ms\n",
      "video 1/1 (1027/1411) /content/datasets/Test video/low intensity dance.mp4: 640x384 8 persons, 146.8ms\n",
      "video 1/1 (1028/1411) /content/datasets/Test video/low intensity dance.mp4: 640x384 8 persons, 149.1ms\n",
      "video 1/1 (1029/1411) /content/datasets/Test video/low intensity dance.mp4: 640x384 8 persons, 157.1ms\n",
      "video 1/1 (1030/1411) /content/datasets/Test video/low intensity dance.mp4: 640x384 8 persons, 145.7ms\n",
      "video 1/1 (1031/1411) /content/datasets/Test video/low intensity dance.mp4: 640x384 9 persons, 139.2ms\n",
      "video 1/1 (1032/1411) /content/datasets/Test video/low intensity dance.mp4: 640x384 8 persons, 149.5ms\n",
      "video 1/1 (1033/1411) /content/datasets/Test video/low intensity dance.mp4: 640x384 8 persons, 148.4ms\n",
      "video 1/1 (1034/1411) /content/datasets/Test video/low intensity dance.mp4: 640x384 10 persons, 160.1ms\n",
      "video 1/1 (1035/1411) /content/datasets/Test video/low intensity dance.mp4: 640x384 9 persons, 147.3ms\n",
      "video 1/1 (1036/1411) /content/datasets/Test video/low intensity dance.mp4: 640x384 9 persons, 157.3ms\n",
      "video 1/1 (1037/1411) /content/datasets/Test video/low intensity dance.mp4: 640x384 10 persons, 152.3ms\n",
      "video 1/1 (1038/1411) /content/datasets/Test video/low intensity dance.mp4: 640x384 9 persons, 145.2ms\n",
      "video 1/1 (1039/1411) /content/datasets/Test video/low intensity dance.mp4: 640x384 7 persons, 146.7ms\n",
      "video 1/1 (1040/1411) /content/datasets/Test video/low intensity dance.mp4: 640x384 8 persons, 167.7ms\n",
      "video 1/1 (1041/1411) /content/datasets/Test video/low intensity dance.mp4: 640x384 9 persons, 145.5ms\n",
      "video 1/1 (1042/1411) /content/datasets/Test video/low intensity dance.mp4: 640x384 9 persons, 140.5ms\n",
      "video 1/1 (1043/1411) /content/datasets/Test video/low intensity dance.mp4: 640x384 10 persons, 141.9ms\n",
      "video 1/1 (1044/1411) /content/datasets/Test video/low intensity dance.mp4: 640x384 11 persons, 151.8ms\n",
      "video 1/1 (1045/1411) /content/datasets/Test video/low intensity dance.mp4: 640x384 11 persons, 148.5ms\n",
      "video 1/1 (1046/1411) /content/datasets/Test video/low intensity dance.mp4: 640x384 11 persons, 154.6ms\n",
      "video 1/1 (1047/1411) /content/datasets/Test video/low intensity dance.mp4: 640x384 12 persons, 152.5ms\n",
      "video 1/1 (1048/1411) /content/datasets/Test video/low intensity dance.mp4: 640x384 12 persons, 153.2ms\n",
      "video 1/1 (1049/1411) /content/datasets/Test video/low intensity dance.mp4: 640x384 11 persons, 141.9ms\n",
      "video 1/1 (1050/1411) /content/datasets/Test video/low intensity dance.mp4: 640x384 10 persons, 152.6ms\n",
      "video 1/1 (1051/1411) /content/datasets/Test video/low intensity dance.mp4: 640x384 13 persons, 154.7ms\n",
      "video 1/1 (1052/1411) /content/datasets/Test video/low intensity dance.mp4: 640x384 11 persons, 159.2ms\n",
      "video 1/1 (1053/1411) /content/datasets/Test video/low intensity dance.mp4: 640x384 11 persons, 157.2ms\n",
      "video 1/1 (1054/1411) /content/datasets/Test video/low intensity dance.mp4: 640x384 10 persons, 147.9ms\n",
      "video 1/1 (1055/1411) /content/datasets/Test video/low intensity dance.mp4: 640x384 11 persons, 147.2ms\n",
      "video 1/1 (1056/1411) /content/datasets/Test video/low intensity dance.mp4: 640x384 11 persons, 165.0ms\n",
      "video 1/1 (1057/1411) /content/datasets/Test video/low intensity dance.mp4: 640x384 12 persons, 148.6ms\n",
      "video 1/1 (1058/1411) /content/datasets/Test video/low intensity dance.mp4: 640x384 9 persons, 188.8ms\n",
      "video 1/1 (1059/1411) /content/datasets/Test video/low intensity dance.mp4: 640x384 11 persons, 224.6ms\n",
      "video 1/1 (1060/1411) /content/datasets/Test video/low intensity dance.mp4: 640x384 11 persons, 225.7ms\n",
      "video 1/1 (1061/1411) /content/datasets/Test video/low intensity dance.mp4: 640x384 9 persons, 220.9ms\n",
      "video 1/1 (1062/1411) /content/datasets/Test video/low intensity dance.mp4: 640x384 7 persons, 226.9ms\n",
      "video 1/1 (1063/1411) /content/datasets/Test video/low intensity dance.mp4: 640x384 7 persons, 220.4ms\n",
      "video 1/1 (1064/1411) /content/datasets/Test video/low intensity dance.mp4: 640x384 7 persons, 241.5ms\n",
      "video 1/1 (1065/1411) /content/datasets/Test video/low intensity dance.mp4: 640x384 9 persons, 225.5ms\n",
      "video 1/1 (1066/1411) /content/datasets/Test video/low intensity dance.mp4: 640x384 8 persons, 217.8ms\n",
      "video 1/1 (1067/1411) /content/datasets/Test video/low intensity dance.mp4: 640x384 8 persons, 220.2ms\n",
      "video 1/1 (1068/1411) /content/datasets/Test video/low intensity dance.mp4: 640x384 7 persons, 235.0ms\n",
      "video 1/1 (1069/1411) /content/datasets/Test video/low intensity dance.mp4: 640x384 7 persons, 220.3ms\n",
      "video 1/1 (1070/1411) /content/datasets/Test video/low intensity dance.mp4: 640x384 6 persons, 223.5ms\n",
      "video 1/1 (1071/1411) /content/datasets/Test video/low intensity dance.mp4: 640x384 8 persons, 236.5ms\n",
      "video 1/1 (1072/1411) /content/datasets/Test video/low intensity dance.mp4: 640x384 6 persons, 163.7ms\n",
      "video 1/1 (1073/1411) /content/datasets/Test video/low intensity dance.mp4: 640x384 8 persons, 146.4ms\n",
      "video 1/1 (1074/1411) /content/datasets/Test video/low intensity dance.mp4: 640x384 6 persons, 143.9ms\n",
      "video 1/1 (1075/1411) /content/datasets/Test video/low intensity dance.mp4: 640x384 6 persons, 150.5ms\n",
      "video 1/1 (1076/1411) /content/datasets/Test video/low intensity dance.mp4: 640x384 7 persons, 146.6ms\n",
      "video 1/1 (1077/1411) /content/datasets/Test video/low intensity dance.mp4: 640x384 6 persons, 146.0ms\n",
      "video 1/1 (1078/1411) /content/datasets/Test video/low intensity dance.mp4: 640x384 6 persons, 150.5ms\n",
      "video 1/1 (1079/1411) /content/datasets/Test video/low intensity dance.mp4: 640x384 5 persons, 148.0ms\n",
      "video 1/1 (1080/1411) /content/datasets/Test video/low intensity dance.mp4: 640x384 6 persons, 148.1ms\n",
      "video 1/1 (1081/1411) /content/datasets/Test video/low intensity dance.mp4: 640x384 6 persons, 149.4ms\n",
      "video 1/1 (1082/1411) /content/datasets/Test video/low intensity dance.mp4: 640x384 5 persons, 154.1ms\n",
      "video 1/1 (1083/1411) /content/datasets/Test video/low intensity dance.mp4: 640x384 5 persons, 166.2ms\n",
      "video 1/1 (1084/1411) /content/datasets/Test video/low intensity dance.mp4: 640x384 5 persons, 151.0ms\n",
      "video 1/1 (1085/1411) /content/datasets/Test video/low intensity dance.mp4: 640x384 5 persons, 153.1ms\n",
      "video 1/1 (1086/1411) /content/datasets/Test video/low intensity dance.mp4: 640x384 6 persons, 161.5ms\n",
      "video 1/1 (1087/1411) /content/datasets/Test video/low intensity dance.mp4: 640x384 5 persons, 148.9ms\n",
      "video 1/1 (1088/1411) /content/datasets/Test video/low intensity dance.mp4: 640x384 5 persons, 153.1ms\n",
      "video 1/1 (1089/1411) /content/datasets/Test video/low intensity dance.mp4: 640x384 6 persons, 160.9ms\n",
      "video 1/1 (1090/1411) /content/datasets/Test video/low intensity dance.mp4: 640x384 5 persons, 148.8ms\n",
      "video 1/1 (1091/1411) /content/datasets/Test video/low intensity dance.mp4: 640x384 6 persons, 155.2ms\n",
      "video 1/1 (1092/1411) /content/datasets/Test video/low intensity dance.mp4: 640x384 7 persons, 152.3ms\n",
      "video 1/1 (1093/1411) /content/datasets/Test video/low intensity dance.mp4: 640x384 5 persons, 152.8ms\n",
      "video 1/1 (1094/1411) /content/datasets/Test video/low intensity dance.mp4: 640x384 7 persons, 159.0ms\n",
      "video 1/1 (1095/1411) /content/datasets/Test video/low intensity dance.mp4: 640x384 6 persons, 146.6ms\n",
      "video 1/1 (1096/1411) /content/datasets/Test video/low intensity dance.mp4: 640x384 5 persons, 150.1ms\n",
      "video 1/1 (1097/1411) /content/datasets/Test video/low intensity dance.mp4: 640x384 6 persons, 142.3ms\n",
      "video 1/1 (1098/1411) /content/datasets/Test video/low intensity dance.mp4: 640x384 6 persons, 143.0ms\n",
      "video 1/1 (1099/1411) /content/datasets/Test video/low intensity dance.mp4: 640x384 5 persons, 146.4ms\n",
      "video 1/1 (1100/1411) /content/datasets/Test video/low intensity dance.mp4: 640x384 6 persons, 166.5ms\n",
      "video 1/1 (1101/1411) /content/datasets/Test video/low intensity dance.mp4: 640x384 4 persons, 138.2ms\n",
      "video 1/1 (1102/1411) /content/datasets/Test video/low intensity dance.mp4: 640x384 4 persons, 152.0ms\n",
      "video 1/1 (1103/1411) /content/datasets/Test video/low intensity dance.mp4: 640x384 6 persons, 146.6ms\n",
      "video 1/1 (1104/1411) /content/datasets/Test video/low intensity dance.mp4: 640x384 5 persons, 152.1ms\n",
      "video 1/1 (1105/1411) /content/datasets/Test video/low intensity dance.mp4: 640x384 6 persons, 145.0ms\n",
      "video 1/1 (1106/1411) /content/datasets/Test video/low intensity dance.mp4: 640x384 8 persons, 159.3ms\n",
      "video 1/1 (1107/1411) /content/datasets/Test video/low intensity dance.mp4: 640x384 6 persons, 140.4ms\n",
      "video 1/1 (1108/1411) /content/datasets/Test video/low intensity dance.mp4: 640x384 6 persons, 159.5ms\n",
      "video 1/1 (1109/1411) /content/datasets/Test video/low intensity dance.mp4: 640x384 6 persons, 144.4ms\n",
      "video 1/1 (1110/1411) /content/datasets/Test video/low intensity dance.mp4: 640x384 6 persons, 151.3ms\n",
      "video 1/1 (1111/1411) /content/datasets/Test video/low intensity dance.mp4: 640x384 8 persons, 161.5ms\n",
      "video 1/1 (1112/1411) /content/datasets/Test video/low intensity dance.mp4: 640x384 9 persons, 149.2ms\n",
      "video 1/1 (1113/1411) /content/datasets/Test video/low intensity dance.mp4: 640x384 8 persons, 146.8ms\n",
      "video 1/1 (1114/1411) /content/datasets/Test video/low intensity dance.mp4: 640x384 7 persons, 136.1ms\n",
      "video 1/1 (1115/1411) /content/datasets/Test video/low intensity dance.mp4: 640x384 8 persons, 138.0ms\n",
      "video 1/1 (1116/1411) /content/datasets/Test video/low intensity dance.mp4: 640x384 8 persons, 147.5ms\n",
      "video 1/1 (1117/1411) /content/datasets/Test video/low intensity dance.mp4: 640x384 8 persons, 149.5ms\n",
      "video 1/1 (1118/1411) /content/datasets/Test video/low intensity dance.mp4: 640x384 6 persons, 146.8ms\n",
      "video 1/1 (1119/1411) /content/datasets/Test video/low intensity dance.mp4: 640x384 6 persons, 151.3ms\n",
      "video 1/1 (1120/1411) /content/datasets/Test video/low intensity dance.mp4: 640x384 6 persons, 147.5ms\n",
      "video 1/1 (1121/1411) /content/datasets/Test video/low intensity dance.mp4: 640x384 7 persons, 164.1ms\n",
      "video 1/1 (1122/1411) /content/datasets/Test video/low intensity dance.mp4: 640x384 8 persons, 144.7ms\n",
      "video 1/1 (1123/1411) /content/datasets/Test video/low intensity dance.mp4: 640x384 9 persons, 152.2ms\n",
      "video 1/1 (1124/1411) /content/datasets/Test video/low intensity dance.mp4: 640x384 9 persons, 151.8ms\n",
      "video 1/1 (1125/1411) /content/datasets/Test video/low intensity dance.mp4: 640x384 9 persons, 141.9ms\n",
      "video 1/1 (1126/1411) /content/datasets/Test video/low intensity dance.mp4: 640x384 10 persons, 200.2ms\n",
      "video 1/1 (1127/1411) /content/datasets/Test video/low intensity dance.mp4: 640x384 8 persons, 226.1ms\n",
      "video 1/1 (1128/1411) /content/datasets/Test video/low intensity dance.mp4: 640x384 9 persons, 238.5ms\n",
      "video 1/1 (1129/1411) /content/datasets/Test video/low intensity dance.mp4: 640x384 10 persons, 217.4ms\n",
      "video 1/1 (1130/1411) /content/datasets/Test video/low intensity dance.mp4: 640x384 9 persons, 212.5ms\n",
      "video 1/1 (1131/1411) /content/datasets/Test video/low intensity dance.mp4: 640x384 8 persons, 216.6ms\n",
      "video 1/1 (1132/1411) /content/datasets/Test video/low intensity dance.mp4: 640x384 8 persons, 228.0ms\n",
      "video 1/1 (1133/1411) /content/datasets/Test video/low intensity dance.mp4: 640x384 9 persons, 217.1ms\n",
      "video 1/1 (1134/1411) /content/datasets/Test video/low intensity dance.mp4: 640x384 9 persons, 221.9ms\n",
      "video 1/1 (1135/1411) /content/datasets/Test video/low intensity dance.mp4: 640x384 11 persons, 218.0ms\n",
      "video 1/1 (1136/1411) /content/datasets/Test video/low intensity dance.mp4: 640x384 7 persons, 226.0ms\n",
      "video 1/1 (1137/1411) /content/datasets/Test video/low intensity dance.mp4: 640x384 10 persons, 223.5ms\n",
      "video 1/1 (1138/1411) /content/datasets/Test video/low intensity dance.mp4: 640x384 10 persons, 212.6ms\n",
      "video 1/1 (1139/1411) /content/datasets/Test video/low intensity dance.mp4: 640x384 11 persons, 187.2ms\n",
      "video 1/1 (1140/1411) /content/datasets/Test video/low intensity dance.mp4: 640x384 9 persons, 147.4ms\n",
      "video 1/1 (1141/1411) /content/datasets/Test video/low intensity dance.mp4: 640x384 7 persons, 145.4ms\n",
      "video 1/1 (1142/1411) /content/datasets/Test video/low intensity dance.mp4: 640x384 9 persons, 145.6ms\n",
      "video 1/1 (1143/1411) /content/datasets/Test video/low intensity dance.mp4: 640x384 6 persons, 139.3ms\n",
      "video 1/1 (1144/1411) /content/datasets/Test video/low intensity dance.mp4: 640x384 6 persons, 152.1ms\n",
      "video 1/1 (1145/1411) /content/datasets/Test video/low intensity dance.mp4: 640x384 6 persons, 153.4ms\n",
      "video 1/1 (1146/1411) /content/datasets/Test video/low intensity dance.mp4: 640x384 6 persons, 154.4ms\n",
      "video 1/1 (1147/1411) /content/datasets/Test video/low intensity dance.mp4: 640x384 6 persons, 149.6ms\n",
      "video 1/1 (1148/1411) /content/datasets/Test video/low intensity dance.mp4: 640x384 7 persons, 148.4ms\n",
      "video 1/1 (1149/1411) /content/datasets/Test video/low intensity dance.mp4: 640x384 8 persons, 146.5ms\n",
      "video 1/1 (1150/1411) /content/datasets/Test video/low intensity dance.mp4: 640x384 8 persons, 156.1ms\n",
      "video 1/1 (1151/1411) /content/datasets/Test video/low intensity dance.mp4: 640x384 7 persons, 143.1ms\n",
      "video 1/1 (1152/1411) /content/datasets/Test video/low intensity dance.mp4: 640x384 9 persons, 150.4ms\n",
      "video 1/1 (1153/1411) /content/datasets/Test video/low intensity dance.mp4: 640x384 6 persons, 142.4ms\n",
      "video 1/1 (1154/1411) /content/datasets/Test video/low intensity dance.mp4: 640x384 7 persons, 142.0ms\n",
      "video 1/1 (1155/1411) /content/datasets/Test video/low intensity dance.mp4: 640x384 7 persons, 147.4ms\n",
      "video 1/1 (1156/1411) /content/datasets/Test video/low intensity dance.mp4: 640x384 7 persons, 154.7ms\n",
      "video 1/1 (1157/1411) /content/datasets/Test video/low intensity dance.mp4: 640x384 6 persons, 148.3ms\n",
      "video 1/1 (1158/1411) /content/datasets/Test video/low intensity dance.mp4: 640x384 6 persons, 141.4ms\n",
      "video 1/1 (1159/1411) /content/datasets/Test video/low intensity dance.mp4: 640x384 6 persons, 142.5ms\n",
      "video 1/1 (1160/1411) /content/datasets/Test video/low intensity dance.mp4: 640x384 5 persons, 146.3ms\n",
      "video 1/1 (1161/1411) /content/datasets/Test video/low intensity dance.mp4: 640x384 6 persons, 145.5ms\n",
      "video 1/1 (1162/1411) /content/datasets/Test video/low intensity dance.mp4: 640x384 6 persons, 155.8ms\n",
      "video 1/1 (1163/1411) /content/datasets/Test video/low intensity dance.mp4: 640x384 8 persons, 142.9ms\n",
      "video 1/1 (1164/1411) /content/datasets/Test video/low intensity dance.mp4: 640x384 4 persons, 154.3ms\n",
      "video 1/1 (1165/1411) /content/datasets/Test video/low intensity dance.mp4: 640x384 5 persons, 139.1ms\n",
      "video 1/1 (1166/1411) /content/datasets/Test video/low intensity dance.mp4: 640x384 8 persons, 140.1ms\n",
      "video 1/1 (1167/1411) /content/datasets/Test video/low intensity dance.mp4: 640x384 7 persons, 151.7ms\n",
      "video 1/1 (1168/1411) /content/datasets/Test video/low intensity dance.mp4: 640x384 8 persons, 139.6ms\n",
      "video 1/1 (1169/1411) /content/datasets/Test video/low intensity dance.mp4: 640x384 6 persons, 135.5ms\n",
      "video 1/1 (1170/1411) /content/datasets/Test video/low intensity dance.mp4: 640x384 5 persons, 143.1ms\n",
      "video 1/1 (1171/1411) /content/datasets/Test video/low intensity dance.mp4: 640x384 5 persons, 141.4ms\n",
      "video 1/1 (1172/1411) /content/datasets/Test video/low intensity dance.mp4: 640x384 8 persons, 150.3ms\n",
      "video 1/1 (1173/1411) /content/datasets/Test video/low intensity dance.mp4: 640x384 6 persons, 153.8ms\n",
      "video 1/1 (1174/1411) /content/datasets/Test video/low intensity dance.mp4: 640x384 6 persons, 142.7ms\n",
      "video 1/1 (1175/1411) /content/datasets/Test video/low intensity dance.mp4: 640x384 9 persons, 147.2ms\n",
      "video 1/1 (1176/1411) /content/datasets/Test video/low intensity dance.mp4: 640x384 7 persons, 147.8ms\n",
      "video 1/1 (1177/1411) /content/datasets/Test video/low intensity dance.mp4: 640x384 8 persons, 141.7ms\n",
      "video 1/1 (1178/1411) /content/datasets/Test video/low intensity dance.mp4: 640x384 6 persons, 143.4ms\n",
      "video 1/1 (1179/1411) /content/datasets/Test video/low intensity dance.mp4: 640x384 5 persons, 156.8ms\n",
      "video 1/1 (1180/1411) /content/datasets/Test video/low intensity dance.mp4: 640x384 5 persons, 151.9ms\n",
      "video 1/1 (1181/1411) /content/datasets/Test video/low intensity dance.mp4: 640x384 7 persons, 142.7ms\n",
      "video 1/1 (1182/1411) /content/datasets/Test video/low intensity dance.mp4: 640x384 6 persons, 141.3ms\n",
      "video 1/1 (1183/1411) /content/datasets/Test video/low intensity dance.mp4: 640x384 5 persons, 141.5ms\n",
      "video 1/1 (1184/1411) /content/datasets/Test video/low intensity dance.mp4: 640x384 3 persons, 154.7ms\n",
      "video 1/1 (1185/1411) /content/datasets/Test video/low intensity dance.mp4: 640x384 5 persons, 150.4ms\n",
      "video 1/1 (1186/1411) /content/datasets/Test video/low intensity dance.mp4: 640x384 5 persons, 136.9ms\n",
      "video 1/1 (1187/1411) /content/datasets/Test video/low intensity dance.mp4: 640x384 4 persons, 146.9ms\n",
      "video 1/1 (1188/1411) /content/datasets/Test video/low intensity dance.mp4: 640x384 7 persons, 152.0ms\n",
      "video 1/1 (1189/1411) /content/datasets/Test video/low intensity dance.mp4: 640x384 6 persons, 139.6ms\n",
      "video 1/1 (1190/1411) /content/datasets/Test video/low intensity dance.mp4: 640x384 7 persons, 136.6ms\n",
      "video 1/1 (1191/1411) /content/datasets/Test video/low intensity dance.mp4: 640x384 6 persons, 150.4ms\n",
      "video 1/1 (1192/1411) /content/datasets/Test video/low intensity dance.mp4: 640x384 7 persons, 145.9ms\n",
      "video 1/1 (1193/1411) /content/datasets/Test video/low intensity dance.mp4: 640x384 5 persons, 142.3ms\n",
      "video 1/1 (1194/1411) /content/datasets/Test video/low intensity dance.mp4: 640x384 6 persons, 132.9ms\n",
      "video 1/1 (1195/1411) /content/datasets/Test video/low intensity dance.mp4: 640x384 7 persons, 175.4ms\n",
      "video 1/1 (1196/1411) /content/datasets/Test video/low intensity dance.mp4: 640x384 7 persons, 229.9ms\n",
      "video 1/1 (1197/1411) /content/datasets/Test video/low intensity dance.mp4: 640x384 5 persons, 215.5ms\n",
      "video 1/1 (1198/1411) /content/datasets/Test video/low intensity dance.mp4: 640x384 5 persons, 211.6ms\n",
      "video 1/1 (1199/1411) /content/datasets/Test video/low intensity dance.mp4: 640x384 5 persons, 224.0ms\n",
      "video 1/1 (1200/1411) /content/datasets/Test video/low intensity dance.mp4: 640x384 5 persons, 222.5ms\n",
      "video 1/1 (1201/1411) /content/datasets/Test video/low intensity dance.mp4: 640x384 5 persons, 212.5ms\n",
      "video 1/1 (1202/1411) /content/datasets/Test video/low intensity dance.mp4: 640x384 6 persons, 210.9ms\n",
      "video 1/1 (1203/1411) /content/datasets/Test video/low intensity dance.mp4: 640x384 5 persons, 219.9ms\n",
      "video 1/1 (1204/1411) /content/datasets/Test video/low intensity dance.mp4: 640x384 6 persons, 226.2ms\n",
      "video 1/1 (1205/1411) /content/datasets/Test video/low intensity dance.mp4: 640x384 6 persons, 210.7ms\n",
      "video 1/1 (1206/1411) /content/datasets/Test video/low intensity dance.mp4: 640x384 5 persons, 210.1ms\n",
      "video 1/1 (1207/1411) /content/datasets/Test video/low intensity dance.mp4: 640x384 6 persons, 217.1ms\n",
      "video 1/1 (1208/1411) /content/datasets/Test video/low intensity dance.mp4: 640x384 5 persons, 226.9ms\n",
      "video 1/1 (1209/1411) /content/datasets/Test video/low intensity dance.mp4: 640x384 7 persons, 189.0ms\n",
      "video 1/1 (1210/1411) /content/datasets/Test video/low intensity dance.mp4: 640x384 7 persons, 141.0ms\n",
      "video 1/1 (1211/1411) /content/datasets/Test video/low intensity dance.mp4: 640x384 5 persons, 141.2ms\n",
      "video 1/1 (1212/1411) /content/datasets/Test video/low intensity dance.mp4: 640x384 4 persons, 148.9ms\n",
      "video 1/1 (1213/1411) /content/datasets/Test video/low intensity dance.mp4: 640x384 6 persons, 138.9ms\n",
      "video 1/1 (1214/1411) /content/datasets/Test video/low intensity dance.mp4: 640x384 8 persons, 151.8ms\n",
      "video 1/1 (1215/1411) /content/datasets/Test video/low intensity dance.mp4: 640x384 7 persons, 149.4ms\n",
      "video 1/1 (1216/1411) /content/datasets/Test video/low intensity dance.mp4: 640x384 7 persons, 145.6ms\n",
      "video 1/1 (1217/1411) /content/datasets/Test video/low intensity dance.mp4: 640x384 5 persons, 147.4ms\n",
      "video 1/1 (1218/1411) /content/datasets/Test video/low intensity dance.mp4: 640x384 6 persons, 143.2ms\n",
      "video 1/1 (1219/1411) /content/datasets/Test video/low intensity dance.mp4: 640x384 5 persons, 148.4ms\n",
      "video 1/1 (1220/1411) /content/datasets/Test video/low intensity dance.mp4: 640x384 6 persons, 160.2ms\n",
      "video 1/1 (1221/1411) /content/datasets/Test video/low intensity dance.mp4: 640x384 4 persons, 142.7ms\n",
      "video 1/1 (1222/1411) /content/datasets/Test video/low intensity dance.mp4: 640x384 4 persons, 144.2ms\n",
      "video 1/1 (1223/1411) /content/datasets/Test video/low intensity dance.mp4: 640x384 5 persons, 143.3ms\n",
      "video 1/1 (1224/1411) /content/datasets/Test video/low intensity dance.mp4: 640x384 5 persons, 148.9ms\n",
      "video 1/1 (1225/1411) /content/datasets/Test video/low intensity dance.mp4: 640x384 5 persons, 144.2ms\n",
      "video 1/1 (1226/1411) /content/datasets/Test video/low intensity dance.mp4: 640x384 7 persons, 152.1ms\n",
      "video 1/1 (1227/1411) /content/datasets/Test video/low intensity dance.mp4: 640x384 9 persons, 153.1ms\n",
      "video 1/1 (1228/1411) /content/datasets/Test video/low intensity dance.mp4: 640x384 9 persons, 150.6ms\n",
      "video 1/1 (1229/1411) /content/datasets/Test video/low intensity dance.mp4: 640x384 6 persons, 142.2ms\n",
      "video 1/1 (1230/1411) /content/datasets/Test video/low intensity dance.mp4: 640x384 6 persons, 156.5ms\n",
      "video 1/1 (1231/1411) /content/datasets/Test video/low intensity dance.mp4: 640x384 7 persons, 169.8ms\n",
      "video 1/1 (1232/1411) /content/datasets/Test video/low intensity dance.mp4: 640x384 6 persons, 151.0ms\n",
      "video 1/1 (1233/1411) /content/datasets/Test video/low intensity dance.mp4: 640x384 6 persons, 156.8ms\n",
      "video 1/1 (1234/1411) /content/datasets/Test video/low intensity dance.mp4: 640x384 6 persons, 139.1ms\n",
      "video 1/1 (1235/1411) /content/datasets/Test video/low intensity dance.mp4: 640x384 4 persons, 142.1ms\n",
      "video 1/1 (1236/1411) /content/datasets/Test video/low intensity dance.mp4: 640x384 7 persons, 150.2ms\n",
      "video 1/1 (1237/1411) /content/datasets/Test video/low intensity dance.mp4: 640x384 7 persons, 154.8ms\n",
      "video 1/1 (1238/1411) /content/datasets/Test video/low intensity dance.mp4: 640x384 8 persons, 150.0ms\n",
      "video 1/1 (1239/1411) /content/datasets/Test video/low intensity dance.mp4: 640x384 7 persons, 142.6ms\n",
      "video 1/1 (1240/1411) /content/datasets/Test video/low intensity dance.mp4: 640x384 7 persons, 154.0ms\n",
      "video 1/1 (1241/1411) /content/datasets/Test video/low intensity dance.mp4: 640x384 7 persons, 141.2ms\n",
      "video 1/1 (1242/1411) /content/datasets/Test video/low intensity dance.mp4: 640x384 8 persons, 158.7ms\n",
      "video 1/1 (1243/1411) /content/datasets/Test video/low intensity dance.mp4: 640x384 9 persons, 138.0ms\n",
      "video 1/1 (1244/1411) /content/datasets/Test video/low intensity dance.mp4: 640x384 10 persons, 150.7ms\n",
      "video 1/1 (1245/1411) /content/datasets/Test video/low intensity dance.mp4: 640x384 10 persons, 144.1ms\n",
      "video 1/1 (1246/1411) /content/datasets/Test video/low intensity dance.mp4: 640x384 10 persons, 142.4ms\n",
      "video 1/1 (1247/1411) /content/datasets/Test video/low intensity dance.mp4: 640x384 8 persons, 145.6ms\n",
      "video 1/1 (1248/1411) /content/datasets/Test video/low intensity dance.mp4: 640x384 7 persons, 165.5ms\n",
      "video 1/1 (1249/1411) /content/datasets/Test video/low intensity dance.mp4: 640x384 7 persons, 139.2ms\n",
      "video 1/1 (1250/1411) /content/datasets/Test video/low intensity dance.mp4: 640x384 6 persons, 146.4ms\n",
      "video 1/1 (1251/1411) /content/datasets/Test video/low intensity dance.mp4: 640x384 7 persons, 141.2ms\n",
      "video 1/1 (1252/1411) /content/datasets/Test video/low intensity dance.mp4: 640x384 8 persons, 148.5ms\n",
      "video 1/1 (1253/1411) /content/datasets/Test video/low intensity dance.mp4: 640x384 8 persons, 142.4ms\n",
      "video 1/1 (1254/1411) /content/datasets/Test video/low intensity dance.mp4: 640x384 6 persons, 152.7ms\n",
      "video 1/1 (1255/1411) /content/datasets/Test video/low intensity dance.mp4: 640x384 6 persons, 150.2ms\n",
      "video 1/1 (1256/1411) /content/datasets/Test video/low intensity dance.mp4: 640x384 6 persons, 142.7ms\n",
      "video 1/1 (1257/1411) /content/datasets/Test video/low intensity dance.mp4: 640x384 7 persons, 140.7ms\n",
      "video 1/1 (1258/1411) /content/datasets/Test video/low intensity dance.mp4: 640x384 6 persons, 138.2ms\n",
      "video 1/1 (1259/1411) /content/datasets/Test video/low intensity dance.mp4: 640x384 5 persons, 150.2ms\n",
      "video 1/1 (1260/1411) /content/datasets/Test video/low intensity dance.mp4: 640x384 4 persons, 140.7ms\n",
      "video 1/1 (1261/1411) /content/datasets/Test video/low intensity dance.mp4: 640x384 5 persons, 136.0ms\n",
      "video 1/1 (1262/1411) /content/datasets/Test video/low intensity dance.mp4: 640x384 4 persons, 147.0ms\n",
      "video 1/1 (1263/1411) /content/datasets/Test video/low intensity dance.mp4: 640x384 5 persons, 148.9ms\n",
      "video 1/1 (1264/1411) /content/datasets/Test video/low intensity dance.mp4: 640x384 5 persons, 144.7ms\n",
      "video 1/1 (1265/1411) /content/datasets/Test video/low intensity dance.mp4: 640x384 5 persons, 225.3ms\n",
      "video 1/1 (1266/1411) /content/datasets/Test video/low intensity dance.mp4: 640x384 6 persons, 219.0ms\n",
      "video 1/1 (1267/1411) /content/datasets/Test video/low intensity dance.mp4: 640x384 6 persons, 224.1ms\n",
      "video 1/1 (1268/1411) /content/datasets/Test video/low intensity dance.mp4: 640x384 7 persons, 217.7ms\n",
      "video 1/1 (1269/1411) /content/datasets/Test video/low intensity dance.mp4: 640x384 7 persons, 225.5ms\n",
      "video 1/1 (1270/1411) /content/datasets/Test video/low intensity dance.mp4: 640x384 7 persons, 206.5ms\n",
      "video 1/1 (1271/1411) /content/datasets/Test video/low intensity dance.mp4: 640x384 7 persons, 224.5ms\n",
      "video 1/1 (1272/1411) /content/datasets/Test video/low intensity dance.mp4: 640x384 7 persons, 221.9ms\n",
      "video 1/1 (1273/1411) /content/datasets/Test video/low intensity dance.mp4: 640x384 6 persons, 216.7ms\n",
      "video 1/1 (1274/1411) /content/datasets/Test video/low intensity dance.mp4: 640x384 6 persons, 209.0ms\n",
      "video 1/1 (1275/1411) /content/datasets/Test video/low intensity dance.mp4: 640x384 7 persons, 213.6ms\n",
      "video 1/1 (1276/1411) /content/datasets/Test video/low intensity dance.mp4: 640x384 7 persons, 220.5ms\n",
      "video 1/1 (1277/1411) /content/datasets/Test video/low intensity dance.mp4: 640x384 7 persons, 222.1ms\n",
      "video 1/1 (1278/1411) /content/datasets/Test video/low intensity dance.mp4: 640x384 6 persons, 195.7ms\n",
      "video 1/1 (1279/1411) /content/datasets/Test video/low intensity dance.mp4: 640x384 5 persons, 143.9ms\n",
      "video 1/1 (1280/1411) /content/datasets/Test video/low intensity dance.mp4: 640x384 6 persons, 149.6ms\n",
      "video 1/1 (1281/1411) /content/datasets/Test video/low intensity dance.mp4: 640x384 6 persons, 145.8ms\n",
      "video 1/1 (1282/1411) /content/datasets/Test video/low intensity dance.mp4: 640x384 6 persons, 157.7ms\n",
      "video 1/1 (1283/1411) /content/datasets/Test video/low intensity dance.mp4: 640x384 7 persons, 141.3ms\n",
      "video 1/1 (1284/1411) /content/datasets/Test video/low intensity dance.mp4: 640x384 6 persons, 141.9ms\n",
      "video 1/1 (1285/1411) /content/datasets/Test video/low intensity dance.mp4: 640x384 6 persons, 140.1ms\n",
      "video 1/1 (1286/1411) /content/datasets/Test video/low intensity dance.mp4: 640x384 6 persons, 140.1ms\n",
      "video 1/1 (1287/1411) /content/datasets/Test video/low intensity dance.mp4: 640x384 6 persons, 140.6ms\n",
      "video 1/1 (1288/1411) /content/datasets/Test video/low intensity dance.mp4: 640x384 6 persons, 154.9ms\n",
      "video 1/1 (1289/1411) /content/datasets/Test video/low intensity dance.mp4: 640x384 7 persons, 156.9ms\n",
      "video 1/1 (1290/1411) /content/datasets/Test video/low intensity dance.mp4: 640x384 7 persons, 150.8ms\n",
      "video 1/1 (1291/1411) /content/datasets/Test video/low intensity dance.mp4: 640x384 6 persons, 157.0ms\n",
      "video 1/1 (1292/1411) /content/datasets/Test video/low intensity dance.mp4: 640x384 6 persons, 223.5ms\n",
      "video 1/1 (1293/1411) /content/datasets/Test video/low intensity dance.mp4: 640x384 5 persons, 289.1ms\n",
      "video 1/1 (1294/1411) /content/datasets/Test video/low intensity dance.mp4: 640x384 5 persons, 153.1ms\n",
      "video 1/1 (1295/1411) /content/datasets/Test video/low intensity dance.mp4: 640x384 6 persons, 140.6ms\n",
      "video 1/1 (1296/1411) /content/datasets/Test video/low intensity dance.mp4: 640x384 6 persons, 150.3ms\n",
      "video 1/1 (1297/1411) /content/datasets/Test video/low intensity dance.mp4: 640x384 6 persons, 145.1ms\n",
      "video 1/1 (1298/1411) /content/datasets/Test video/low intensity dance.mp4: 640x384 6 persons, 141.7ms\n",
      "video 1/1 (1299/1411) /content/datasets/Test video/low intensity dance.mp4: 640x384 6 persons, 142.1ms\n",
      "video 1/1 (1300/1411) /content/datasets/Test video/low intensity dance.mp4: 640x384 6 persons, 141.8ms\n",
      "video 1/1 (1301/1411) /content/datasets/Test video/low intensity dance.mp4: 640x384 7 persons, 140.9ms\n",
      "video 1/1 (1302/1411) /content/datasets/Test video/low intensity dance.mp4: 640x384 7 persons, 139.0ms\n",
      "video 1/1 (1303/1411) /content/datasets/Test video/low intensity dance.mp4: 640x384 6 persons, 149.7ms\n",
      "video 1/1 (1304/1411) /content/datasets/Test video/low intensity dance.mp4: 640x384 7 persons, 143.6ms\n",
      "video 1/1 (1305/1411) /content/datasets/Test video/low intensity dance.mp4: 640x384 7 persons, 142.1ms\n",
      "video 1/1 (1306/1411) /content/datasets/Test video/low intensity dance.mp4: 640x384 7 persons, 144.9ms\n",
      "video 1/1 (1307/1411) /content/datasets/Test video/low intensity dance.mp4: 640x384 7 persons, 142.4ms\n",
      "video 1/1 (1308/1411) /content/datasets/Test video/low intensity dance.mp4: 640x384 7 persons, 140.7ms\n",
      "video 1/1 (1309/1411) /content/datasets/Test video/low intensity dance.mp4: 640x384 7 persons, 158.3ms\n",
      "video 1/1 (1310/1411) /content/datasets/Test video/low intensity dance.mp4: 640x384 7 persons, 145.4ms\n",
      "video 1/1 (1311/1411) /content/datasets/Test video/low intensity dance.mp4: 640x384 7 persons, 137.1ms\n",
      "video 1/1 (1312/1411) /content/datasets/Test video/low intensity dance.mp4: 640x384 7 persons, 147.1ms\n",
      "video 1/1 (1313/1411) /content/datasets/Test video/low intensity dance.mp4: 640x384 7 persons, 144.6ms\n",
      "video 1/1 (1314/1411) /content/datasets/Test video/low intensity dance.mp4: 640x384 7 persons, 140.2ms\n",
      "video 1/1 (1315/1411) /content/datasets/Test video/low intensity dance.mp4: 640x384 8 persons, 150.7ms\n",
      "video 1/1 (1316/1411) /content/datasets/Test video/low intensity dance.mp4: 640x384 9 persons, 139.7ms\n",
      "video 1/1 (1317/1411) /content/datasets/Test video/low intensity dance.mp4: 640x384 8 persons, 135.9ms\n",
      "video 1/1 (1318/1411) /content/datasets/Test video/low intensity dance.mp4: 640x384 8 persons, 142.7ms\n",
      "video 1/1 (1319/1411) /content/datasets/Test video/low intensity dance.mp4: 640x384 8 persons, 141.2ms\n",
      "video 1/1 (1320/1411) /content/datasets/Test video/low intensity dance.mp4: 640x384 8 persons, 137.0ms\n",
      "video 1/1 (1321/1411) /content/datasets/Test video/low intensity dance.mp4: 640x384 7 persons, 150.3ms\n",
      "video 1/1 (1322/1411) /content/datasets/Test video/low intensity dance.mp4: 640x384 7 persons, 146.7ms\n",
      "video 1/1 (1323/1411) /content/datasets/Test video/low intensity dance.mp4: 640x384 8 persons, 136.6ms\n",
      "video 1/1 (1324/1411) /content/datasets/Test video/low intensity dance.mp4: 640x384 8 persons, 143.4ms\n",
      "video 1/1 (1325/1411) /content/datasets/Test video/low intensity dance.mp4: 640x384 8 persons, 140.6ms\n",
      "video 1/1 (1326/1411) /content/datasets/Test video/low intensity dance.mp4: 640x384 8 persons, 141.0ms\n",
      "video 1/1 (1327/1411) /content/datasets/Test video/low intensity dance.mp4: 640x384 8 persons, 149.6ms\n",
      "video 1/1 (1328/1411) /content/datasets/Test video/low intensity dance.mp4: 640x384 6 persons, 139.8ms\n",
      "video 1/1 (1329/1411) /content/datasets/Test video/low intensity dance.mp4: 640x384 6 persons, 142.3ms\n",
      "video 1/1 (1330/1411) /content/datasets/Test video/low intensity dance.mp4: 640x384 6 persons, 145.3ms\n",
      "video 1/1 (1331/1411) /content/datasets/Test video/low intensity dance.mp4: 640x384 6 persons, 157.3ms\n",
      "video 1/1 (1332/1411) /content/datasets/Test video/low intensity dance.mp4: 640x384 6 persons, 149.7ms\n",
      "video 1/1 (1333/1411) /content/datasets/Test video/low intensity dance.mp4: 640x384 6 persons, 217.5ms\n",
      "video 1/1 (1334/1411) /content/datasets/Test video/low intensity dance.mp4: 640x384 6 persons, 210.1ms\n",
      "video 1/1 (1335/1411) /content/datasets/Test video/low intensity dance.mp4: 640x384 6 persons, 223.3ms\n",
      "video 1/1 (1336/1411) /content/datasets/Test video/low intensity dance.mp4: 640x384 6 persons, 223.1ms\n",
      "video 1/1 (1337/1411) /content/datasets/Test video/low intensity dance.mp4: 640x384 6 persons, 221.7ms\n",
      "video 1/1 (1338/1411) /content/datasets/Test video/low intensity dance.mp4: 640x384 6 persons, 210.0ms\n",
      "video 1/1 (1339/1411) /content/datasets/Test video/low intensity dance.mp4: 640x384 6 persons, 216.8ms\n",
      "video 1/1 (1340/1411) /content/datasets/Test video/low intensity dance.mp4: 640x384 6 persons, 303.2ms\n",
      "video 1/1 (1341/1411) /content/datasets/Test video/low intensity dance.mp4: 640x384 6 persons, 606.2ms\n",
      "video 1/1 (1342/1411) /content/datasets/Test video/low intensity dance.mp4: 640x384 6 persons, 188.0ms\n",
      "video 1/1 (1343/1411) /content/datasets/Test video/low intensity dance.mp4: 640x384 6 persons, 193.1ms\n",
      "video 1/1 (1344/1411) /content/datasets/Test video/low intensity dance.mp4: 640x384 6 persons, 171.6ms\n",
      "video 1/1 (1345/1411) /content/datasets/Test video/low intensity dance.mp4: 640x384 6 persons, 180.0ms\n",
      "video 1/1 (1346/1411) /content/datasets/Test video/low intensity dance.mp4: 640x384 6 persons, 169.4ms\n",
      "video 1/1 (1347/1411) /content/datasets/Test video/low intensity dance.mp4: 640x384 6 persons, 172.2ms\n",
      "video 1/1 (1348/1411) /content/datasets/Test video/low intensity dance.mp4: 640x384 6 persons, 194.3ms\n",
      "video 1/1 (1349/1411) /content/datasets/Test video/low intensity dance.mp4: 640x384 6 persons, 172.0ms\n",
      "video 1/1 (1350/1411) /content/datasets/Test video/low intensity dance.mp4: 640x384 6 persons, 171.6ms\n",
      "video 1/1 (1351/1411) /content/datasets/Test video/low intensity dance.mp4: 640x384 6 persons, 166.9ms\n",
      "video 1/1 (1352/1411) /content/datasets/Test video/low intensity dance.mp4: 640x384 6 persons, 211.9ms\n",
      "video 1/1 (1353/1411) /content/datasets/Test video/low intensity dance.mp4: 640x384 6 persons, 169.7ms\n",
      "video 1/1 (1354/1411) /content/datasets/Test video/low intensity dance.mp4: 640x384 6 persons, 176.2ms\n",
      "video 1/1 (1355/1411) /content/datasets/Test video/low intensity dance.mp4: 640x384 6 persons, 185.8ms\n",
      "video 1/1 (1356/1411) /content/datasets/Test video/low intensity dance.mp4: 640x384 6 persons, 179.2ms\n",
      "video 1/1 (1357/1411) /content/datasets/Test video/low intensity dance.mp4: 640x384 6 persons, 193.7ms\n",
      "video 1/1 (1358/1411) /content/datasets/Test video/low intensity dance.mp4: 640x384 6 persons, 249.5ms\n",
      "video 1/1 (1359/1411) /content/datasets/Test video/low intensity dance.mp4: 640x384 7 persons, 260.9ms\n",
      "video 1/1 (1360/1411) /content/datasets/Test video/low intensity dance.mp4: 640x384 7 persons, 408.9ms\n",
      "video 1/1 (1361/1411) /content/datasets/Test video/low intensity dance.mp4: 640x384 7 persons, 419.8ms\n",
      "video 1/1 (1362/1411) /content/datasets/Test video/low intensity dance.mp4: 640x384 6 persons, 296.9ms\n",
      "video 1/1 (1363/1411) /content/datasets/Test video/low intensity dance.mp4: 640x384 8 persons, 229.6ms\n",
      "video 1/1 (1364/1411) /content/datasets/Test video/low intensity dance.mp4: 640x384 7 persons, 243.8ms\n",
      "video 1/1 (1365/1411) /content/datasets/Test video/low intensity dance.mp4: 640x384 7 persons, 221.8ms\n",
      "video 1/1 (1366/1411) /content/datasets/Test video/low intensity dance.mp4: 640x384 7 persons, 224.7ms\n",
      "video 1/1 (1367/1411) /content/datasets/Test video/low intensity dance.mp4: 640x384 7 persons, 151.4ms\n",
      "video 1/1 (1368/1411) /content/datasets/Test video/low intensity dance.mp4: 640x384 7 persons, 156.9ms\n",
      "video 1/1 (1369/1411) /content/datasets/Test video/low intensity dance.mp4: 640x384 7 persons, 144.9ms\n",
      "video 1/1 (1370/1411) /content/datasets/Test video/low intensity dance.mp4: 640x384 7 persons, 144.0ms\n",
      "video 1/1 (1371/1411) /content/datasets/Test video/low intensity dance.mp4: 640x384 7 persons, 141.9ms\n",
      "video 1/1 (1372/1411) /content/datasets/Test video/low intensity dance.mp4: 640x384 7 persons, 158.8ms\n",
      "video 1/1 (1373/1411) /content/datasets/Test video/low intensity dance.mp4: 640x384 7 persons, 144.2ms\n",
      "video 1/1 (1374/1411) /content/datasets/Test video/low intensity dance.mp4: 640x384 7 persons, 141.1ms\n",
      "video 1/1 (1375/1411) /content/datasets/Test video/low intensity dance.mp4: 640x384 6 persons, 148.0ms\n",
      "video 1/1 (1376/1411) /content/datasets/Test video/low intensity dance.mp4: 640x384 6 persons, 154.5ms\n",
      "video 1/1 (1377/1411) /content/datasets/Test video/low intensity dance.mp4: 640x384 7 persons, 161.5ms\n",
      "video 1/1 (1378/1411) /content/datasets/Test video/low intensity dance.mp4: 640x384 7 persons, 142.1ms\n",
      "video 1/1 (1379/1411) /content/datasets/Test video/low intensity dance.mp4: 640x384 7 persons, 141.6ms\n",
      "video 1/1 (1380/1411) /content/datasets/Test video/low intensity dance.mp4: 640x384 7 persons, 150.3ms\n",
      "video 1/1 (1381/1411) /content/datasets/Test video/low intensity dance.mp4: 640x384 6 persons, 143.6ms\n",
      "video 1/1 (1382/1411) /content/datasets/Test video/low intensity dance.mp4: 640x384 6 persons, 140.2ms\n",
      "video 1/1 (1383/1411) /content/datasets/Test video/low intensity dance.mp4: 640x384 5 persons, 147.5ms\n",
      "video 1/1 (1384/1411) /content/datasets/Test video/low intensity dance.mp4: 640x384 6 persons, 219.0ms\n",
      "video 1/1 (1385/1411) /content/datasets/Test video/low intensity dance.mp4: 640x384 6 persons, 209.5ms\n",
      "video 1/1 (1386/1411) /content/datasets/Test video/low intensity dance.mp4: 640x384 5 persons, 212.5ms\n",
      "video 1/1 (1387/1411) /content/datasets/Test video/low intensity dance.mp4: 640x384 5 persons, 233.0ms\n",
      "video 1/1 (1388/1411) /content/datasets/Test video/low intensity dance.mp4: 640x384 5 persons, 222.7ms\n",
      "video 1/1 (1389/1411) /content/datasets/Test video/low intensity dance.mp4: 640x384 6 persons, 206.4ms\n",
      "video 1/1 (1390/1411) /content/datasets/Test video/low intensity dance.mp4: 640x384 6 persons, 217.1ms\n",
      "video 1/1 (1391/1411) /content/datasets/Test video/low intensity dance.mp4: 640x384 7 persons, 227.7ms\n",
      "video 1/1 (1392/1411) /content/datasets/Test video/low intensity dance.mp4: 640x384 8 persons, 224.0ms\n",
      "video 1/1 (1393/1411) /content/datasets/Test video/low intensity dance.mp4: 640x384 6 persons, 191.2ms\n",
      "video 1/1 (1394/1411) /content/datasets/Test video/low intensity dance.mp4: 640x384 7 persons, 138.8ms\n",
      "video 1/1 (1395/1411) /content/datasets/Test video/low intensity dance.mp4: 640x384 7 persons, 141.5ms\n",
      "video 1/1 (1396/1411) /content/datasets/Test video/low intensity dance.mp4: 640x384 6 persons, 161.7ms\n",
      "video 1/1 (1397/1411) /content/datasets/Test video/low intensity dance.mp4: 640x384 6 persons, 149.2ms\n",
      "video 1/1 (1398/1411) /content/datasets/Test video/low intensity dance.mp4: 640x384 6 persons, 142.4ms\n",
      "video 1/1 (1399/1411) /content/datasets/Test video/low intensity dance.mp4: 640x384 7 persons, 148.2ms\n",
      "video 1/1 (1400/1411) /content/datasets/Test video/low intensity dance.mp4: 640x384 7 persons, 144.0ms\n",
      "video 1/1 (1401/1411) /content/datasets/Test video/low intensity dance.mp4: 640x384 6 persons, 143.8ms\n",
      "video 1/1 (1402/1411) /content/datasets/Test video/low intensity dance.mp4: 640x384 6 persons, 153.0ms\n",
      "video 1/1 (1403/1411) /content/datasets/Test video/low intensity dance.mp4: 640x384 7 persons, 145.2ms\n",
      "video 1/1 (1404/1411) /content/datasets/Test video/low intensity dance.mp4: 640x384 6 persons, 154.9ms\n",
      "video 1/1 (1405/1411) /content/datasets/Test video/low intensity dance.mp4: 640x384 5 persons, 138.8ms\n",
      "video 1/1 (1406/1411) /content/datasets/Test video/low intensity dance.mp4: 640x384 6 persons, 151.2ms\n",
      "video 1/1 (1407/1411) /content/datasets/Test video/low intensity dance.mp4: 640x384 7 persons, 151.4ms\n",
      "video 1/1 (1408/1411) /content/datasets/Test video/low intensity dance.mp4: 640x384 7 persons, 140.4ms\n",
      "video 1/1 (1409/1411) /content/datasets/Test video/low intensity dance.mp4: 640x384 6 persons, 158.7ms\n",
      "video 1/1 (1410/1411) /content/datasets/Test video/low intensity dance.mp4: 640x384 7 persons, 141.6ms\n",
      "video 1/1 (1411/1411) /content/datasets/Test video/low intensity dance.mp4: 640x384 4 persons, 137.0ms\n",
      "Speed: 3.9ms preprocess, 172.2ms inference, 1.4ms postprocess per image at shape (1, 3, 640, 384)\n",
      "Results saved to \u001b[1mruns/pose/train52\u001b[0m\n"
     ]
    }
   ],
   "source": [
    "video_path = '/content/datasets/Test video/low intensity dance.mp4'\n",
    "results=model(source=\"/content/datasets/Test video/low intensity dance.mp4\", show=True, conf=0.3, save=True)"
   ]
  },
  {
   "cell_type": "code",
   "execution_count": 9,
   "metadata": {
    "colab": {
     "base_uri": "https://localhost:8080/",
     "height": 258
    },
    "id": "UAlhHIhwXxrP",
    "outputId": "e9805afa-8c74-40b0-aec6-3150c83367c1"
   },
   "outputs": [
    {
     "data": {
      "image/png": "[encoded data removed]",
      "text/plain": [
       "<Figure size 1000x1000 with 1 Axes>"
      ]
     },
     "metadata": {},
     "output_type": "display_data"
    }
   ],
   "source": [
    "%matplotlib inline\n",
    "import matplotlib.pyplot as plt\n",
    "import matplotlib.image as mpimg\n",
    "\n",
    "img = mpimg.imread('/content/runs/pose/train5/results.png')\n",
    "\n",
    "plt.figure(figsize=(10, 10))  # Set the figure size to display the image larger\n",
    "imgplot = plt.imshow(img)\n",
    "plt.axis('off')  # Hide axes\n",
    "plt.show()\n"
   ]
  }
 ],
 "metadata": {
  "colab": {
   "provenance": []
  },
  "kernelspec": {
   "display_name": "Python 3 (ipykernel)",
   "language": "python",
   "name": "python3"
  },
  "language_info": {
   "codemirror_mode": {
    "name": "ipython",
    "version": 3
   },
   "file_extension": ".py",
   "mimetype": "text/x-python",
   "name": "python",
   "nbconvert_exporter": "python",
   "pygments_lexer": "ipython3",
   "version": "3.11.3"
  }
 },
 "nbformat": 4,
 "nbformat_minor": 4
}
